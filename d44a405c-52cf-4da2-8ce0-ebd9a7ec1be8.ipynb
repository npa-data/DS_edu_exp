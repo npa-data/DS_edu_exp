{
 "cells": [
  {
   "cell_type": "markdown",
   "metadata": {},
   "source": [
    "Привет!  меня зовут Люман Аблаев. Сегодня я проверю твой проект.\n",
    "<br> Дальнейшее общение будет происходить на \"ты\" если это не вызывает никаких проблем.\n",
    "<br> Желательно реагировать на каждый мой комментарий ('исправил', 'не понятно как исправить ошибку', ...)\n",
    "<br> Пожалуйста, не удаляй комментарии ревьюера, так как они повышают качество повторного ревью.\n",
    "\n",
    "Комментарии будут в <font color='green'>зеленой</font>, <font color='blue'>синей</font> или <font color='red'>красной</font> рамках:\n",
    "\n",
    "<div class=\"alert alert-block alert-success\">\n",
    "<b>Успех:</b> Если все сделано отлично\n",
    "</div>\n",
    "\n",
    "<div class=\"alert alert-block alert-info\">\n",
    "<b>Совет: </b> Если можно немного улучшить\n",
    "</div>\n",
    "\n",
    "<div class=\"alert alert-block alert-danger\">\n",
    "<b>Ошибка:</b> Если требуются исправления. Работа не может быть принята с красными комментариями.\n",
    "</div>\n",
    "\n",
    "-------------------\n",
    "\n",
    "Будет очень хорошо, если ты будешь помечать свои действия следующим образом:\n",
    "<div class=\"alert alert-block alert-warning\">\n",
    "<b>Комментарий студента:</b> ...\n",
    "</div>\n",
    "\n",
    "<div class=\"alert alert-block alert-warning\">\n",
    "<b>Изменения:</b> Были внесены следующие изменения ...\n",
    "</div>\n",
    "\n",
    "<font color='orange' style='font-size:24px; font-weight:bold'>Общее впечатление</font>\n",
    "* Приятно было проверять твою работу\n",
    "- Я оставил некоторые советы, обрати на них внимание. Надеюсь они будут полезными или интересными\n",
    "\n",
    "- Тебе удалось справиться с задачей текстов, поздравляю!\n",
    "* С радостью принимаю работу и желаю удачи в дальнейшем обучении! Также напомню, что если у тебя появились вопросы - ты всегда их можешь задать мне через куратора,\n",
    "\n",
    "<font color='green'><b>Полезные (и просто интересные) материалы:</b> \\\n",
    "Для работы с текстами используют и другие подходы. Например, сейчас активно используются RNN (LSTM) и трансформеры (BERT и другие с улицы Сезам, например, ELMO). НО! Они не являются панацеей, не всегда они нужны, так как и TF-IDF или Word2Vec + модели из классического ML тоже могут справляться. \\\n",
    "BERT тяжелый, существует много его вариаций для разных задач, есть готовые модели, есть надстройки над библиотекой transformers. Если, обучать BERT на GPU (можно в Google Colab или Kaggle), то должно быть побыстрее.\\\n",
    "https://huggingface.co/transformers/model_doc/bert.html \\\n",
    "https://t.me/renat_alimbekov \\\n",
    "https://colah.github.io/posts/2015-08-Understanding-LSTMs/ - Про LSTM \\\n",
    "https://web.stanford.edu/~jurafsky/slp3/10.pdf - про энкодер-декодер модели, этеншены\\\n",
    "https://pytorch.org/tutorials/beginner/transformer_tutorial.html - официальный гайд\n",
    "по трансформеру от создателей pytorch\\\n",
    "https://transformer.huggingface.co/ - поболтать с трансформером \\\n",
    "Библиотеки: allennlp, fairseq, transformers, tensorflow-text — множествореализованных\n",
    "методов для трансформеров методов NLP \\\n",
    "Word2Vec https://radimrehurek.com/gensim/models/word2vec.html \n",
    "\n",
    "<font color='green'>Пример BERT с GPU:\n",
    "```python\n",
    "%%time\n",
    "from tqdm import notebook\n",
    "batch_size = 2 # для примера возьмем такой батч, где будет всего две строки датасета\n",
    "embeddings = [] \n",
    "for i in notebook.tqdm(range(input_ids.shape[0] // batch_size)):\n",
    "        batch = torch.LongTensor(input_ids[batch_size*i:batch_size*(i+1)]).cuda() # закидываем тензор на GPU\n",
    "        attention_mask_batch = torch.LongTensor(attention_mask[batch_size*i:batch_size*(i+1)]).cuda()\n",
    "        \n",
    "        with torch.no_grad():\n",
    "            model.cuda()\n",
    "            batch_embeddings = model(batch, attention_mask=attention_mask_batch)\n",
    "        \n",
    "        embeddings.append(batch_embeddings[0][:,0,:].cpu().numpy()) # перевод обратно на проц, чтобы в нумпай кинуть\n",
    "        del batch\n",
    "        del attention_mask_batch\n",
    "        del batch_embeddings\n",
    "        \n",
    "features = np.concatenate(embeddings) \n",
    "```\n",
    "Можно сделать предварительную проверку на наличие GPU.\\\n",
    "Например, так: ```device = torch.device(\"cuda:0\") if torch.cuda.is_available() else torch.device(\"cpu\")```\\\n",
    "Тогда вместо .cuda() нужно писать .to(device)\n",
    "\n"
   ]
  },
  {
   "cell_type": "markdown",
   "metadata": {
    "toc": true
   },
   "source": [
    "<h1>Содержание<span class=\"tocSkip\"></span></h1>\n",
    "<div class=\"toc\"><ul class=\"toc-item\"><li><span><a href=\"#Подготовка\" data-toc-modified-id=\"Подготовка-1\"><span class=\"toc-item-num\">1&nbsp;&nbsp;</span>Подготовка</a></span><ul class=\"toc-item\"><li><span><a href=\"#Загрузка-и-импорт-библиотек\" data-toc-modified-id=\"Загрузка-и-импорт-библиотек-1.1\"><span class=\"toc-item-num\">1.1&nbsp;&nbsp;</span>Загрузка и импорт библиотек</a></span></li><li><span><a href=\"#Загрузка-и-просмотр-данных\" data-toc-modified-id=\"Загрузка-и-просмотр-данных-1.2\"><span class=\"toc-item-num\">1.2&nbsp;&nbsp;</span>Загрузка и просмотр данных</a></span></li><li><span><a href=\"#Обработка-текста-и-лемматизация\" data-toc-modified-id=\"Обработка-текста-и-лемматизация-1.3\"><span class=\"toc-item-num\">1.3&nbsp;&nbsp;</span>Обработка текста и лемматизация</a></span></li></ul></li><li><span><a href=\"#Обучение\" data-toc-modified-id=\"Обучение-2\"><span class=\"toc-item-num\">2&nbsp;&nbsp;</span>Обучение</a></span><ul class=\"toc-item\"><li><span><a href=\"#Подготовка\" data-toc-modified-id=\"Подготовка-2.1\"><span class=\"toc-item-num\">2.1&nbsp;&nbsp;</span>Подготовка</a></span></li><li><span><a href=\"#Перебор-гиперпараметров-для-трех-моделей\" data-toc-modified-id=\"Перебор-гиперпараметров-для-трех-моделей-2.2\"><span class=\"toc-item-num\">2.2&nbsp;&nbsp;</span>Перебор гиперпараметров для трех моделей</a></span></li><li><span><a href=\"#Выбор-лучшей-модели\" data-toc-modified-id=\"Выбор-лучшей-модели-2.3\"><span class=\"toc-item-num\">2.3&nbsp;&nbsp;</span>Выбор лучшей модели</a></span></li><li><span><a href=\"#Тестирование\" data-toc-modified-id=\"Тестирование-2.4\"><span class=\"toc-item-num\">2.4&nbsp;&nbsp;</span>Тестирование</a></span></li></ul></li><li><span><a href=\"#Вывод\" data-toc-modified-id=\"Вывод-3\"><span class=\"toc-item-num\">3&nbsp;&nbsp;</span>Вывод</a></span></li><li><span><a href=\"#Чек-лист-проверки\" data-toc-modified-id=\"Чек-лист-проверки-4\"><span class=\"toc-item-num\">4&nbsp;&nbsp;</span>Чек-лист проверки</a></span></li></ul></div>"
   ]
  },
  {
   "cell_type": "markdown",
   "metadata": {},
   "source": [
    "# Проект для «Викишоп»"
   ]
  },
  {
   "cell_type": "markdown",
   "metadata": {},
   "source": [
    "Интернет-магазин «Викишоп» запускает новый сервис. Теперь пользователи могут редактировать и дополнять описания товаров, как в вики-сообществах. То есть клиенты предлагают свои правки и комментируют изменения других. Магазину нужен инструмент, который будет искать токсичные комментарии и отправлять их на модерацию. \n",
    "\n",
    "Обучите модель классифицировать комментарии на позитивные и негативные. В вашем распоряжении набор данных с разметкой о токсичности правок.\n",
    "\n",
    "Постройте модель со значением метрики качества *F1* не меньше 0.75. \n",
    "\n",
    "**Инструкция по выполнению проекта**\n",
    "\n",
    "1. Загрузите и подготовьте данные.\n",
    "2. Обучите разные модели. \n",
    "3. Сделайте выводы.\n",
    "\n",
    "Для выполнения проекта применять *BERT* необязательно, но вы можете попробовать.\n",
    "\n",
    "**Описание данных**\n",
    "\n",
    "Данные находятся в файле `toxic_comments.csv`. Столбец *text* в нём содержит текст комментария, а *toxic* — целевой признак."
   ]
  },
  {
   "cell_type": "markdown",
   "metadata": {},
   "source": [
    "## Подготовка"
   ]
  },
  {
   "cell_type": "markdown",
   "metadata": {},
   "source": [
    "### Загрузка и импорт библиотек"
   ]
  },
  {
   "cell_type": "code",
   "execution_count": 1,
   "metadata": {},
   "outputs": [],
   "source": [
    "!pip install scikit-learn -U -q\n",
    "!pip install optuna -U -q\n",
    "#!pip install optuna-integration[sklearn] -q"
   ]
  },
  {
   "cell_type": "code",
   "execution_count": 2,
   "metadata": {},
   "outputs": [],
   "source": [
    "import re\n",
    "import warnings\n",
    "warnings.filterwarnings('ignore')\n",
    "import matplotlib\n",
    "import numpy as np\n",
    "import pandas as pd\n",
    "import matplotlib.pyplot as plt\n",
    "import seaborn as sns\n",
    "import optuna\n",
    "#МО БИБЛИОТЕКИ\n",
    "import sklearn\n",
    "from sklearn.linear_model import LogisticRegression\n",
    "from sklearn.tree import DecisionTreeClassifier\n",
    "from sklearn.neighbors import KNeighborsClassifier\n",
    "from sklearn.ensemble import RandomForestClassifier\n",
    "from sklearn.svm import SVC, LinearSVC\n",
    "from xgboost import XGBClassifier\n",
    "from catboost import CatBoostClassifier\n",
    "#импорт моделей\n",
    "from sklearn.metrics import r2_score, mean_squared_error, mean_absolute_error, accuracy_score, precision_score, \\\n",
    "recall_score, confusion_matrix, precision_recall_curve, roc_auc_score, make_scorer, f1_score\n",
    "#импорт метрик\n",
    "from sklearn.model_selection import train_test_split, cross_val_score, StratifiedKFold\n",
    "#импорт метода селекции\n",
    "from sklearn.preprocessing import OneHotEncoder, OrdinalEncoder, StandardScaler, MinMaxScaler, RobustScaler, LabelEncoder\n",
    "#импорт методов масштабирования и кодирования\n",
    "from sklearn.model_selection import RandomizedSearchCV, GridSearchCV\n",
    "#импорт инструментов для автоматизированного поиска гиперпараметров\n",
    "from sklearn.pipeline import Pipeline\n",
    "#импорт методов для работы с пайплайнами\n",
    "import nltk\n",
    "from nltk.stem import WordNetLemmatizer\n",
    "from nltk.tokenize import word_tokenize\n",
    "from nltk.corpus import stopwords, wordnet as wn\n",
    "from nltk import pos_tag\n",
    "from sklearn.feature_extraction.text import TfidfVectorizer\n",
    "#импорт методов для работы с текстом\n",
    "from tqdm.notebook import tqdm\n",
    "tqdm.pandas(desc=\"Progress\")\n",
    "#импорт прогресс-бара\n",
    "\n",
    "#загрузка библиотек"
   ]
  },
  {
   "cell_type": "code",
   "execution_count": 3,
   "metadata": {
    "scrolled": true
   },
   "outputs": [
    {
     "name": "stderr",
     "output_type": "stream",
     "text": [
      "[nltk_data] Downloading package punkt to /home/jovyan/nltk_data...\n",
      "[nltk_data]   Package punkt is already up-to-date!\n",
      "[nltk_data] Downloading package averaged_perceptron_tagger to\n",
      "[nltk_data]     /home/jovyan/nltk_data...\n",
      "[nltk_data]   Package averaged_perceptron_tagger is already up-to-\n",
      "[nltk_data]       date!\n",
      "[nltk_data] Downloading package wordnet to /home/jovyan/nltk_data...\n",
      "[nltk_data]   Package wordnet is already up-to-date!\n",
      "[nltk_data] Downloading package stopwords to /home/jovyan/nltk_data...\n",
      "[nltk_data]   Package stopwords is already up-to-date!\n"
     ]
    },
    {
     "data": {
      "text/plain": [
       "True"
      ]
     },
     "execution_count": 3,
     "metadata": {},
     "output_type": "execute_result"
    }
   ],
   "source": [
    "nltk.download('punkt')                        #модуль для токенизации\n",
    "nltk.download('averaged_perceptron_tagger')   #модуль для определения части речи\n",
    "nltk.download('wordnet')                      #модуль для лемматизации\n",
    "nltk.download('stopwords')                    #модуль для удаления стоп-слов"
   ]
  },
  {
   "cell_type": "markdown",
   "metadata": {},
   "source": [
    "\n",
    "\n",
    "<div class=\"alert alert-block alert-success\">\n",
    "<b>Успех:</b> Импорты на месте\n",
    "</div>\n"
   ]
  },
  {
   "cell_type": "markdown",
   "metadata": {},
   "source": [
    "### Загрузка и просмотр данных"
   ]
  },
  {
   "cell_type": "code",
   "execution_count": 4,
   "metadata": {},
   "outputs": [],
   "source": [
    "df = pd.read_csv('/datasets/toxic_comments.csv', index_col = 0)"
   ]
  },
  {
   "cell_type": "code",
   "execution_count": 5,
   "metadata": {},
   "outputs": [
    {
     "data": {
      "text/html": [
       "<div>\n",
       "<style scoped>\n",
       "    .dataframe tbody tr th:only-of-type {\n",
       "        vertical-align: middle;\n",
       "    }\n",
       "\n",
       "    .dataframe tbody tr th {\n",
       "        vertical-align: top;\n",
       "    }\n",
       "\n",
       "    .dataframe thead th {\n",
       "        text-align: right;\n",
       "    }\n",
       "</style>\n",
       "<table border=\"1\" class=\"dataframe\">\n",
       "  <thead>\n",
       "    <tr style=\"text-align: right;\">\n",
       "      <th></th>\n",
       "      <th>text</th>\n",
       "      <th>toxic</th>\n",
       "    </tr>\n",
       "  </thead>\n",
       "  <tbody>\n",
       "    <tr>\n",
       "      <th>0</th>\n",
       "      <td>Explanation\\nWhy the edits made under my usern...</td>\n",
       "      <td>0</td>\n",
       "    </tr>\n",
       "    <tr>\n",
       "      <th>1</th>\n",
       "      <td>D'aww! He matches this background colour I'm s...</td>\n",
       "      <td>0</td>\n",
       "    </tr>\n",
       "    <tr>\n",
       "      <th>2</th>\n",
       "      <td>Hey man, I'm really not trying to edit war. It...</td>\n",
       "      <td>0</td>\n",
       "    </tr>\n",
       "    <tr>\n",
       "      <th>3</th>\n",
       "      <td>\"\\nMore\\nI can't make any real suggestions on ...</td>\n",
       "      <td>0</td>\n",
       "    </tr>\n",
       "    <tr>\n",
       "      <th>4</th>\n",
       "      <td>You, sir, are my hero. Any chance you remember...</td>\n",
       "      <td>0</td>\n",
       "    </tr>\n",
       "  </tbody>\n",
       "</table>\n",
       "</div>"
      ],
      "text/plain": [
       "                                                text  toxic\n",
       "0  Explanation\\nWhy the edits made under my usern...      0\n",
       "1  D'aww! He matches this background colour I'm s...      0\n",
       "2  Hey man, I'm really not trying to edit war. It...      0\n",
       "3  \"\\nMore\\nI can't make any real suggestions on ...      0\n",
       "4  You, sir, are my hero. Any chance you remember...      0"
      ]
     },
     "execution_count": 5,
     "metadata": {},
     "output_type": "execute_result"
    }
   ],
   "source": [
    "df.head()"
   ]
  },
  {
   "cell_type": "code",
   "execution_count": 6,
   "metadata": {},
   "outputs": [
    {
     "name": "stdout",
     "output_type": "stream",
     "text": [
      "<class 'pandas.core.frame.DataFrame'>\n",
      "Int64Index: 159292 entries, 0 to 159450\n",
      "Data columns (total 2 columns):\n",
      " #   Column  Non-Null Count   Dtype \n",
      "---  ------  --------------   ----- \n",
      " 0   text    159292 non-null  object\n",
      " 1   toxic   159292 non-null  int64 \n",
      "dtypes: int64(1), object(1)\n",
      "memory usage: 3.6+ MB\n"
     ]
    }
   ],
   "source": [
    "df.info()"
   ]
  },
  {
   "cell_type": "markdown",
   "metadata": {},
   "source": [
    "### Обработка текста и лемматизация"
   ]
  },
  {
   "cell_type": "code",
   "execution_count": 7,
   "metadata": {},
   "outputs": [],
   "source": [
    "def get_wordnet_pos(t):\n",
    "    if t.startswith('J'):\n",
    "        return wn.ADJ\n",
    "    elif t.startswith('V'):\n",
    "        return wn.VERB\n",
    "    elif t.startswith('N'):\n",
    "        return wn.NOUN\n",
    "    elif t.startswith('R'):\n",
    "        return wn.ADV\n",
    "    else:\n",
    "        return wn.NOUN\n",
    "#функция преобразует POS-тег NLTK в формат WordNet"
   ]
  },
  {
   "cell_type": "code",
   "execution_count": 8,
   "metadata": {},
   "outputs": [],
   "source": [
    "def preprocess_text(text):\n",
    "    text = re.sub(r'[^a-zA-Z\\s]', ' ', text)           #оставляем только буквы\n",
    "    text = re.sub(r'\\s+', ' ', text).strip().lower()   #приводим к нижнему регистру и убираем лишние пробелы\n",
    "#очистка текста\n",
    "    tokens = word_tokenize(text)\n",
    "#токенизация\n",
    "    lemmatizer = WordNetLemmatizer()\n",
    "    tagged_tokens = pos_tag(tokens)  #получаем теги частей речи\n",
    "#pos-tagging\n",
    "    stop_words = set(stopwords.words('english'))\n",
    "#создание списка стоп-слов\n",
    "    lemmas = [\n",
    "        lemmatizer.lemmatize(word, pos=get_wordnet_pos(tag))\n",
    "        for word, tag in tagged_tokens\n",
    "        if word not in stop_words and word.isalpha() and len(word) > 2\n",
    "    ]\n",
    "#цикл с проверкой слов перед лемматизацией \n",
    "#и применение лемматизации с преобразованными тегами при помощи функции get_wordnet_pos\n",
    "    return ' '.join(lemmas)\n",
    "#функция для предобработки текста"
   ]
  },
  {
   "cell_type": "markdown",
   "metadata": {},
   "source": [
    "\n",
    "<div class=\"alert alert-block alert-success\">\n",
    "<b>Успех:</b>  Очистка и лемматизация применены корректно\n",
    "</div>\n"
   ]
  },
  {
   "cell_type": "code",
   "execution_count": 9,
   "metadata": {},
   "outputs": [
    {
     "data": {
      "application/vnd.jupyter.widget-view+json": {
       "model_id": "bfae4de5104745bcb4bb95586fa84b3c",
       "version_major": 2,
       "version_minor": 0
      },
      "text/plain": [
       "Progress:   0%|          | 0/159292 [00:00<?, ?it/s]"
      ]
     },
     "metadata": {},
     "output_type": "display_data"
    }
   ],
   "source": [
    "df['lemm_text'] = df['text'].progress_apply(preprocess_text) "
   ]
  },
  {
   "cell_type": "code",
   "execution_count": 10,
   "metadata": {
    "scrolled": true
   },
   "outputs": [
    {
     "data": {
      "text/html": [
       "<div>\n",
       "<style scoped>\n",
       "    .dataframe tbody tr th:only-of-type {\n",
       "        vertical-align: middle;\n",
       "    }\n",
       "\n",
       "    .dataframe tbody tr th {\n",
       "        vertical-align: top;\n",
       "    }\n",
       "\n",
       "    .dataframe thead th {\n",
       "        text-align: right;\n",
       "    }\n",
       "</style>\n",
       "<table border=\"1\" class=\"dataframe\">\n",
       "  <thead>\n",
       "    <tr style=\"text-align: right;\">\n",
       "      <th></th>\n",
       "      <th>text</th>\n",
       "      <th>toxic</th>\n",
       "      <th>lemm_text</th>\n",
       "    </tr>\n",
       "  </thead>\n",
       "  <tbody>\n",
       "    <tr>\n",
       "      <th>0</th>\n",
       "      <td>Explanation\\nWhy the edits made under my usern...</td>\n",
       "      <td>0</td>\n",
       "      <td>explanation edits make username hardcore metal...</td>\n",
       "    </tr>\n",
       "    <tr>\n",
       "      <th>1</th>\n",
       "      <td>D'aww! He matches this background colour I'm s...</td>\n",
       "      <td>0</td>\n",
       "      <td>aww match background colour seemingly stick th...</td>\n",
       "    </tr>\n",
       "    <tr>\n",
       "      <th>2</th>\n",
       "      <td>Hey man, I'm really not trying to edit war. It...</td>\n",
       "      <td>0</td>\n",
       "      <td>hey man really try edit war guy constantly rem...</td>\n",
       "    </tr>\n",
       "    <tr>\n",
       "      <th>3</th>\n",
       "      <td>\"\\nMore\\nI can't make any real suggestions on ...</td>\n",
       "      <td>0</td>\n",
       "      <td>make real suggestion improvement wonder sectio...</td>\n",
       "    </tr>\n",
       "    <tr>\n",
       "      <th>4</th>\n",
       "      <td>You, sir, are my hero. Any chance you remember...</td>\n",
       "      <td>0</td>\n",
       "      <td>sir hero chance remember page</td>\n",
       "    </tr>\n",
       "  </tbody>\n",
       "</table>\n",
       "</div>"
      ],
      "text/plain": [
       "                                                text  toxic  \\\n",
       "0  Explanation\\nWhy the edits made under my usern...      0   \n",
       "1  D'aww! He matches this background colour I'm s...      0   \n",
       "2  Hey man, I'm really not trying to edit war. It...      0   \n",
       "3  \"\\nMore\\nI can't make any real suggestions on ...      0   \n",
       "4  You, sir, are my hero. Any chance you remember...      0   \n",
       "\n",
       "                                           lemm_text  \n",
       "0  explanation edits make username hardcore metal...  \n",
       "1  aww match background colour seemingly stick th...  \n",
       "2  hey man really try edit war guy constantly rem...  \n",
       "3  make real suggestion improvement wonder sectio...  \n",
       "4                      sir hero chance remember page  "
      ]
     },
     "execution_count": 10,
     "metadata": {},
     "output_type": "execute_result"
    }
   ],
   "source": [
    "df.head()"
   ]
  },
  {
   "cell_type": "markdown",
   "metadata": {},
   "source": [
    "\n",
    "<div class=\"alert alert-block alert-success\">\n",
    "<b>Успех:</b>  Приятно видеть результаты до/после. \n",
    "</div>"
   ]
  },
  {
   "cell_type": "markdown",
   "metadata": {},
   "source": [
    "\n",
    "\n",
    "<div class=\"alert alert-block alert-info\">\n",
    "    \n",
    "<b>Совет:</b> \n",
    "    \n",
    "    \n",
    "\n",
    "\t\n",
    "\n",
    "- после очистки и лемматизации (и убрав стопслова) можно провести частотный анализ текста/[облако слов](https://habr.com/ru/post/517410/) - чтобы получить общее представление о тематике и о наиболее часто встречаемых словах в токсичных и нетоксичных твитах Кроме того графики, рисунки делают проект визуально интересней\n",
    "\n",
    "В тренажере облако импортируем так\n",
    "\n",
    "    !/opt/conda/bin/python -m pip install wordcloud\n",
    "\n",
    "\n",
    "или\n",
    "\n",
    "    !/opt/conda/bin/python -m pip install wordcloud==1.8.2.2\n",
    "\n",
    "\n",
    "И возможно дополнительно надо будет сделать\n",
    "\n",
    "\n",
    "\n",
    "    !pip install Pillow==8.0.0\n",
    "</div>\n"
   ]
  },
  {
   "cell_type": "markdown",
   "metadata": {},
   "source": [
    "## Обучение"
   ]
  },
  {
   "cell_type": "markdown",
   "metadata": {},
   "source": [
    "### Подготовка"
   ]
  },
  {
   "cell_type": "markdown",
   "metadata": {},
   "source": [
    "Посмотрим на баланс классов:"
   ]
  },
  {
   "cell_type": "code",
   "execution_count": 11,
   "metadata": {},
   "outputs": [],
   "source": [
    "RANDOM_STATE = 42"
   ]
  },
  {
   "cell_type": "code",
   "execution_count": 12,
   "metadata": {},
   "outputs": [
    {
     "data": {
      "image/png": "[encoded data removed]",
      "text/plain": [
       "<Figure size 864x720 with 1 Axes>"
      ]
     },
     "metadata": {
      "needs_background": "light"
     },
     "output_type": "display_data"
    }
   ],
   "source": [
    "plt.figure(figsize=[12,10])\n",
    "sns.countplot(data = df, x = 'toxic', color='lightsteelblue', edgecolor='black')\n",
    "plt.xlabel('Класс')\n",
    "plt.ylabel('Кол-во')\n",
    "plt.title('Столбчатый график распределения классов в датафрейме')\n",
    "plt.grid(True)\n",
    "plt.show()"
   ]
  },
  {
   "cell_type": "code",
   "execution_count": 13,
   "metadata": {},
   "outputs": [
    {
     "name": "stdout",
     "output_type": "stream",
     "text": [
      "--------------------------------------------------\n",
      "Соотношение классов в датафрейме\n",
      "--------------------------------------------------\n"
     ]
    },
    {
     "data": {
      "text/plain": [
       "0    0.898388\n",
       "1    0.101612\n",
       "Name: toxic, dtype: float64"
      ]
     },
     "metadata": {},
     "output_type": "display_data"
    },
    {
     "name": "stdout",
     "output_type": "stream",
     "text": [
      "--------------------------------------------------\n"
     ]
    }
   ],
   "source": [
    "print('-'*50)\n",
    "print('Соотношение классов в датафрейме')\n",
    "print('-'*50)\n",
    "display(df['toxic'].value_counts(normalize=True))\n",
    "print('-'*50)"
   ]
  },
  {
   "cell_type": "markdown",
   "metadata": {},
   "source": [
    "Классы несбалансированы, при разделении на обучающую и тестовую будем применять параметр **stratify**:"
   ]
  },
  {
   "cell_type": "markdown",
   "metadata": {},
   "source": [
    "\n",
    "\n",
    "\n",
    "<div class=\"alert alert-block alert-success\">\n",
    "<b>Успех:</b> Отлично, что обнаружен дисбаланс - это очень важно в задачах калссификации\n",
    "</div>\n"
   ]
  },
  {
   "cell_type": "code",
   "execution_count": 14,
   "metadata": {},
   "outputs": [],
   "source": [
    "X = df['lemm_text']\n",
    "y = df['toxic']"
   ]
  },
  {
   "cell_type": "code",
   "execution_count": 15,
   "metadata": {},
   "outputs": [],
   "source": [
    "X_train, X_test, y_train, y_test = train_test_split(X, y, test_size=0.2, random_state=RANDOM_STATE, stratify=y)\n",
    "#разделяем данные"
   ]
  },
  {
   "cell_type": "code",
   "execution_count": 16,
   "metadata": {},
   "outputs": [
    {
     "name": "stdout",
     "output_type": "stream",
     "text": [
      "--------------------------------------------------\n",
      "Размер X_train: (127433,) Размер y_train: (127433,)\n",
      "--------------------------------------------------\n",
      "Размер X_test: (31859,) Размер y_test: (31859,)\n",
      "--------------------------------------------------\n"
     ]
    }
   ],
   "source": [
    "print('-'*50)\n",
    "print('Размер X_train:', X_train.shape, 'Размер y_train:', y_train.shape)\n",
    "print('-'*50)\n",
    "print('Размер X_test:', X_test.shape, 'Размер y_test:', y_test.shape)\n",
    "print('-'*50)"
   ]
  },
  {
   "cell_type": "code",
   "execution_count": 17,
   "metadata": {},
   "outputs": [
    {
     "name": "stdout",
     "output_type": "stream",
     "text": [
      "--------------------------------------------------\n",
      "Соотношение классов в y_train\n",
      "--------------------------------------------------\n"
     ]
    },
    {
     "data": {
      "text/plain": [
       "0    0.898386\n",
       "1    0.101614\n",
       "Name: toxic, dtype: float64"
      ]
     },
     "metadata": {},
     "output_type": "display_data"
    },
    {
     "name": "stdout",
     "output_type": "stream",
     "text": [
      "--------------------------------------------------\n",
      "Соотношение классов в y_test\n",
      "--------------------------------------------------\n"
     ]
    },
    {
     "data": {
      "text/plain": [
       "0    0.898396\n",
       "1    0.101604\n",
       "Name: toxic, dtype: float64"
      ]
     },
     "metadata": {},
     "output_type": "display_data"
    },
    {
     "name": "stdout",
     "output_type": "stream",
     "text": [
      "--------------------------------------------------\n"
     ]
    }
   ],
   "source": [
    "print('-'*50)\n",
    "print('Соотношение классов в y_train')\n",
    "print('-'*50)\n",
    "display(y_train.value_counts(normalize=True))\n",
    "print('-'*50)\n",
    "print('Соотношение классов в y_test')\n",
    "print('-'*50)\n",
    "display(y_test.value_counts(normalize=True))\n",
    "print('-'*50)\n",
    "#проверяем соотношение"
   ]
  },
  {
   "cell_type": "markdown",
   "metadata": {},
   "source": [
    "Для дальнейшего подбора гиперпараметров возьмем **10%** от этих данных, чтобы поиск оптимальных занял меньше времени и ресурсов"
   ]
  },
  {
   "cell_type": "code",
   "execution_count": 18,
   "metadata": {},
   "outputs": [],
   "source": [
    "X_train_hp, _, y_train_hp, _ = train_test_split(X_train, y_train, train_size=0.1, random_state=RANDOM_STATE, stratify=y_train)\n",
    "#разделяем данные для подбора гиперпараметров (возьмем 10% от всего датасета)"
   ]
  },
  {
   "cell_type": "code",
   "execution_count": 19,
   "metadata": {},
   "outputs": [
    {
     "name": "stdout",
     "output_type": "stream",
     "text": [
      "--------------------------------------------------\n",
      "Размер X_train_hp: (12743,) Размер y_train_hp: (12743,)\n",
      "--------------------------------------------------\n"
     ]
    }
   ],
   "source": [
    "print('-'*50)\n",
    "print('Размер X_train_hp:', X_train_hp.shape, 'Размер y_train_hp:', y_train_hp.shape)\n",
    "print('-'*50)"
   ]
  },
  {
   "cell_type": "code",
   "execution_count": 20,
   "metadata": {},
   "outputs": [
    {
     "name": "stdout",
     "output_type": "stream",
     "text": [
      "--------------------------------------------------\n",
      "Соотношение классов в y_train_hp\n",
      "--------------------------------------------------\n"
     ]
    },
    {
     "data": {
      "text/plain": [
       "0    0.898376\n",
       "1    0.101624\n",
       "Name: toxic, dtype: float64"
      ]
     },
     "metadata": {},
     "output_type": "display_data"
    },
    {
     "name": "stdout",
     "output_type": "stream",
     "text": [
      "--------------------------------------------------\n"
     ]
    }
   ],
   "source": [
    "print('-'*50)\n",
    "print('Соотношение классов в y_train_hp')\n",
    "print('-'*50)\n",
    "display(y_train_hp.value_counts(normalize=True))\n",
    "print('-'*50)\n",
    "#проверяем соотношение"
   ]
  },
  {
   "cell_type": "markdown",
   "metadata": {},
   "source": [
    "### Перебор гиперпараметров для трех моделей"
   ]
  },
  {
   "cell_type": "markdown",
   "metadata": {},
   "source": [
    "Для подбора гиперпараметров будем использовать библиотеку **Optuna** с байесовской оптимизацией:"
   ]
  },
  {
   "cell_type": "markdown",
   "metadata": {},
   "source": [
    "Напишем функции для перебора гиперпараметров для трех моделей - **LinearSVC**, **DecisionTreeClassifier**, **LogisticRegression**, метрику будем использовать **f1-score** при кросс-валидации"
   ]
  },
  {
   "cell_type": "markdown",
   "metadata": {},
   "source": [
    "Что бы каждый фолд содержал примерно такое же соотношение классов, как и всё исходное множество, применим **StratifiedKFold** иначе некоторые фолды могут либо вообще не содержать семплов другого классов, либо содержать их слишком мало"
   ]
  },
  {
   "cell_type": "code",
   "execution_count": 21,
   "metadata": {},
   "outputs": [],
   "source": [
    "SCV = StratifiedKFold(n_splits=3, shuffle=True, random_state=RANDOM_STATE)"
   ]
  },
  {
   "cell_type": "markdown",
   "metadata": {},
   "source": [
    "Векторизацию мы будем проводить внутри функции по ряду причин:\n",
    "- Избежание утечки данных. При кросс-валидации векторизатор обучается только на обучающей части фолда , а применяется на тестовой. Если заранее обучить векторизатор на всех данных, это может давать слишком высокие метрики при кросс-валидации.\n",
    "- Возможность подбора параметров векторизации при помощи **Optuna**\n",
    "- Корректная работа с кросс-валидацией. Все преобразования должны быть локальными для каждого фолда для корректной оценки. "
   ]
  },
  {
   "cell_type": "code",
   "execution_count": 22,
   "metadata": {},
   "outputs": [],
   "source": [
    "def objective_lr(trial):\n",
    "    params = {\n",
    "        'tfidf__max_features': trial.suggest_int('tfidf__max_features', 1000, 5000),\n",
    "        'tfidf__ngram_range': tuple([1, trial.suggest_int('tfidf__ngram_range', 1, 2)]),\n",
    "        'tfidf__min_df': trial.suggest_int('tfidf__min_df', 1, 5),\n",
    "        #подбор для векторизатора\n",
    "        'model__C': trial.suggest_float('model__C', 0.01, 10, log=True),\n",
    "        'model__penalty': trial.suggest_categorical('model__penalty', ['l1', 'l2']),\n",
    "        'model__solver': trial.suggest_categorical('model__solver', ['liblinear', 'saga'])\n",
    "        #подбор для модели\n",
    "    }\n",
    "\n",
    "    model = Pipeline([\n",
    "        ('tfidf', TfidfVectorizer()),\n",
    "        ('model', LogisticRegression(random_state=RANDOM_STATE, max_iter=1000))\n",
    "    ])\n",
    "    #пайплайн с векторизатором и моделью\n",
    "\n",
    "    model.set_params(**params)\n",
    "    #применение подобранных параметров\n",
    "    \n",
    "    score = cross_val_score(model, X_train_hp, y_train_hp, cv=SCV, scoring='f1', n_jobs=-1, error_score='raise').mean()\n",
    "    #кросс-валидация со средней оценкой\n",
    "    return score\n",
    "#функция подбора гиперпараметров для LogisticRegression"
   ]
  },
  {
   "cell_type": "markdown",
   "metadata": {},
   "source": [
    "\n",
    "\n",
    "\n",
    "<div class=\"alert alert-block alert-success\">\n",
    "<b>Успех:</b> Лайк за использование пайплайна - это грамотный подход при работе с векторизацией и кросс-валидацией\n",
    "</div>\n"
   ]
  },
  {
   "cell_type": "code",
   "execution_count": 23,
   "metadata": {},
   "outputs": [],
   "source": [
    "def objective_dt(trial):\n",
    "    params = {\n",
    "        'tfidf__max_features': trial.suggest_int('tfidf_max_features', 1000, 5000),\n",
    "        'tfidf__ngram_range': tuple([1, trial.suggest_int('tfidf__ngram_range', 1, 2)]),\n",
    "        'tfidf__min_df': trial.suggest_int('tfidf__min_df', 1, 5),\n",
    "        'model__max_depth': trial.suggest_int('model__max_depth', 3, 20),\n",
    "        'model__min_samples_split': trial.suggest_int('model__min_samples_split', 2, 20),\n",
    "        'model__criterion': trial.suggest_categorical('model__criterion', ['gini', 'entropy'])\n",
    "    }\n",
    "\n",
    "    model = Pipeline([\n",
    "        ('tfidf', TfidfVectorizer()),\n",
    "        ('model', DecisionTreeClassifier(random_state=RANDOM_STATE))\n",
    "    ])\n",
    "\n",
    "    model.set_params(**params)\n",
    "    \n",
    "    score = cross_val_score(model, X_train_hp, y_train_hp, cv=SCV, scoring='f1', n_jobs=-1, error_score='raise').mean()\n",
    "    return score\n",
    "#функция подбора гиперпараметров для DecisionTreeClassifier"
   ]
  },
  {
   "cell_type": "code",
   "execution_count": 24,
   "metadata": {},
   "outputs": [],
   "source": [
    "def objective_lsvc(trial):\n",
    "    params = {\n",
    "        'tfidf__max_features': trial.suggest_int('tfidf__max_features', 1000, 5000),\n",
    "        'tfidf__ngram_range': tuple([1, trial.suggest_int('tfidf__ngram_range', 1, 2)]),\n",
    "        'tfidf__min_df': trial.suggest_int('tfidf__min_df', 1, 5),\n",
    "        'model__C': trial.suggest_float('model__C', 0.01, 10, log=True),\n",
    "        'model__penalty': trial.suggest_categorical('model__penalty', ['l1', 'l2']),\n",
    "        'model__dual': False,\n",
    "        'model__class_weight': trial.suggest_categorical('model__class_weight', [None, 'balanced']),\n",
    "        'model__max_iter': trial.suggest_int('model__max_iter', 100, 1000)\n",
    "    }\n",
    "\n",
    "    model = Pipeline([\n",
    "        ('tfidf', TfidfVectorizer()),\n",
    "        ('model', LinearSVC(random_state=RANDOM_STATE))\n",
    "    ])\n",
    "\n",
    "    model.set_params(**params)\n",
    "\n",
    "    score = cross_val_score(model, X_train_hp, y_train_hp, cv=SCV, scoring='f1', n_jobs=-1, error_score='raise').mean()\n",
    "    return score"
   ]
  },
  {
   "cell_type": "code",
   "execution_count": 25,
   "metadata": {},
   "outputs": [],
   "source": [
    "def run_optimization(objective, model_name, n_trials=20):\n",
    "    print(f'Оптимизация {model_name}')\n",
    "    study = optuna.create_study(direction='maximize')\n",
    "    study.optimize(objective, n_trials=n_trials, show_progress_bar=True) #, n_jobs=-1)\n",
    "    return study\n",
    "#функция для запуска поиска оптимальных параметров"
   ]
  },
  {
   "cell_type": "markdown",
   "metadata": {},
   "source": [
    "Начнем поиск:"
   ]
  },
  {
   "cell_type": "code",
   "execution_count": 26,
   "metadata": {
    "scrolled": true
   },
   "outputs": [
    {
     "name": "stderr",
     "output_type": "stream",
     "text": [
      "[I 2025-07-24 19:06:39,254] A new study created in memory with name: no-name-bf0250dd-1ad5-4528-9ce3-d689ddc91729\n"
     ]
    },
    {
     "name": "stdout",
     "output_type": "stream",
     "text": [
      "Оптимизация Logistic Regression\n"
     ]
    },
    {
     "data": {
      "application/vnd.jupyter.widget-view+json": {
       "model_id": "4c4d6de34f0343a8b8dd8fd1b9900214",
       "version_major": 2,
       "version_minor": 0
      },
      "text/plain": [
       "  0%|          | 0/20 [00:00<?, ?it/s]"
      ]
     },
     "metadata": {},
     "output_type": "display_data"
    },
    {
     "name": "stdout",
     "output_type": "stream",
     "text": [
      "[I 2025-07-24 19:06:40,493] Trial 0 finished with value: 0.0 and parameters: {'tfidf__max_features': 1389, 'tfidf__ngram_range': 1, 'tfidf__min_df': 1, 'model__C': 0.02569759474617266, 'model__penalty': 'l2', 'model__solver': 'liblinear'}. Best is trial 0 with value: 0.0.\n",
      "[I 2025-07-24 19:06:44,756] Trial 1 finished with value: 0.0 and parameters: {'tfidf__max_features': 1536, 'tfidf__ngram_range': 2, 'tfidf__min_df': 3, 'model__C': 0.01720095710505958, 'model__penalty': 'l2', 'model__solver': 'liblinear'}. Best is trial 0 with value: 0.0.\n",
      "[I 2025-07-24 19:06:49,335] Trial 2 finished with value: 0.3287180155389886 and parameters: {'tfidf__max_features': 4990, 'tfidf__ngram_range': 2, 'tfidf__min_df': 1, 'model__C': 0.38910549881170825, 'model__penalty': 'l2', 'model__solver': 'saga'}. Best is trial 2 with value: 0.3287180155389886.\n",
      "[I 2025-07-24 19:06:50,727] Trial 3 finished with value: 0.0 and parameters: {'tfidf__max_features': 2651, 'tfidf__ngram_range': 1, 'tfidf__min_df': 4, 'model__C': 0.01801826981026117, 'model__penalty': 'l2', 'model__solver': 'saga'}. Best is trial 2 with value: 0.3287180155389886.\n",
      "[I 2025-07-24 19:06:55,148] Trial 4 finished with value: 0.0 and parameters: {'tfidf__max_features': 3250, 'tfidf__ngram_range': 2, 'tfidf__min_df': 1, 'model__C': 0.012802997841041257, 'model__penalty': 'l1', 'model__solver': 'liblinear'}. Best is trial 2 with value: 0.3287180155389886.\n",
      "[I 2025-07-24 19:07:00,076] Trial 5 finished with value: 0.0 and parameters: {'tfidf__max_features': 2384, 'tfidf__ngram_range': 2, 'tfidf__min_df': 1, 'model__C': 0.016761138893654576, 'model__penalty': 'l1', 'model__solver': 'saga'}. Best is trial 2 with value: 0.3287180155389886.\n",
      "[I 2025-07-24 19:07:01,443] Trial 6 finished with value: 0.7087175522837885 and parameters: {'tfidf__max_features': 4139, 'tfidf__ngram_range': 1, 'tfidf__min_df': 1, 'model__C': 5.10737372089399, 'model__penalty': 'l1', 'model__solver': 'liblinear'}. Best is trial 6 with value: 0.7087175522837885.\n",
      "[I 2025-07-24 19:07:02,880] Trial 7 finished with value: 0.20255744368828174 and parameters: {'tfidf__max_features': 2844, 'tfidf__ngram_range': 1, 'tfidf__min_df': 5, 'model__C': 0.16728826147915818, 'model__penalty': 'l2', 'model__solver': 'saga'}. Best is trial 6 with value: 0.7087175522837885.\n",
      "[I 2025-07-24 19:07:07,467] Trial 8 finished with value: 0.04076036573467489 and parameters: {'tfidf__max_features': 4563, 'tfidf__ngram_range': 2, 'tfidf__min_df': 4, 'model__C': 0.026560217623660745, 'model__penalty': 'l1', 'model__solver': 'saga'}. Best is trial 6 with value: 0.7087175522837885.\n",
      "[I 2025-07-24 19:07:08,757] Trial 9 finished with value: 0.6396755265401003 and parameters: {'tfidf__max_features': 4229, 'tfidf__ngram_range': 1, 'tfidf__min_df': 4, 'model__C': 0.7529504986650538, 'model__penalty': 'l1', 'model__solver': 'liblinear'}. Best is trial 6 with value: 0.7087175522837885.\n",
      "[I 2025-07-24 19:07:10,114] Trial 10 finished with value: 0.7064520806825785 and parameters: {'tfidf__max_features': 3692, 'tfidf__ngram_range': 1, 'tfidf__min_df': 2, 'model__C': 6.814754893947341, 'model__penalty': 'l1', 'model__solver': 'liblinear'}. Best is trial 6 with value: 0.7087175522837885.\n",
      "[I 2025-07-24 19:07:11,506] Trial 11 finished with value: 0.7017592767069973 and parameters: {'tfidf__max_features': 3771, 'tfidf__ngram_range': 1, 'tfidf__min_df': 2, 'model__C': 8.616076785596459, 'model__penalty': 'l1', 'model__solver': 'liblinear'}. Best is trial 6 with value: 0.7087175522837885.\n",
      "[I 2025-07-24 19:07:12,886] Trial 12 finished with value: 0.7004318236566435 and parameters: {'tfidf__max_features': 3711, 'tfidf__ngram_range': 1, 'tfidf__min_df': 2, 'model__C': 8.269175077018087, 'model__penalty': 'l1', 'model__solver': 'liblinear'}. Best is trial 6 with value: 0.7087175522837885.\n",
      "[I 2025-07-24 19:07:14,204] Trial 13 finished with value: 0.7020940037989195 and parameters: {'tfidf__max_features': 3730, 'tfidf__ngram_range': 1, 'tfidf__min_df': 2, 'model__C': 2.2539573796457293, 'model__penalty': 'l1', 'model__solver': 'liblinear'}. Best is trial 6 with value: 0.7087175522837885.\n",
      "[I 2025-07-24 19:07:15,531] Trial 14 finished with value: 0.701036100307865 and parameters: {'tfidf__max_features': 4233, 'tfidf__ngram_range': 1, 'tfidf__min_df': 2, 'model__C': 2.2008176469356737, 'model__penalty': 'l1', 'model__solver': 'liblinear'}. Best is trial 6 with value: 0.7087175522837885.\n",
      "[I 2025-07-24 19:07:16,885] Trial 15 finished with value: 0.7103663740814955 and parameters: {'tfidf__max_features': 3271, 'tfidf__ngram_range': 1, 'tfidf__min_df': 3, 'model__C': 2.949310625666666, 'model__penalty': 'l1', 'model__solver': 'liblinear'}. Best is trial 15 with value: 0.7103663740814955.\n",
      "[I 2025-07-24 19:07:18,177] Trial 16 finished with value: 0.6967085892861188 and parameters: {'tfidf__max_features': 2153, 'tfidf__ngram_range': 1, 'tfidf__min_df': 3, 'model__C': 1.951176214961454, 'model__penalty': 'l1', 'model__solver': 'liblinear'}. Best is trial 15 with value: 0.7103663740814955.\n",
      "[I 2025-07-24 19:07:19,421] Trial 17 finished with value: 0.2947150767011441 and parameters: {'tfidf__max_features': 3331, 'tfidf__ngram_range': 1, 'tfidf__min_df': 5, 'model__C': 0.10170723069945296, 'model__penalty': 'l1', 'model__solver': 'liblinear'}. Best is trial 15 with value: 0.7103663740814955.\n",
      "[I 2025-07-24 19:07:20,700] Trial 18 finished with value: 0.6474782346692147 and parameters: {'tfidf__max_features': 4963, 'tfidf__ngram_range': 1, 'tfidf__min_df': 3, 'model__C': 0.8434924401056869, 'model__penalty': 'l1', 'model__solver': 'liblinear'}. Best is trial 15 with value: 0.7103663740814955.\n",
      "[I 2025-07-24 19:07:22,043] Trial 19 finished with value: 0.6996397237172083 and parameters: {'tfidf__max_features': 1897, 'tfidf__ngram_range': 1, 'tfidf__min_df': 3, 'model__C': 3.63400682726481, 'model__penalty': 'l1', 'model__solver': 'liblinear'}. Best is trial 15 with value: 0.7103663740814955.\n"
     ]
    }
   ],
   "source": [
    "lr_study = run_optimization(objective_lr, 'Logistic Regression')"
   ]
  },
  {
   "cell_type": "code",
   "execution_count": 27,
   "metadata": {
    "scrolled": true
   },
   "outputs": [
    {
     "name": "stderr",
     "output_type": "stream",
     "text": [
      "[I 2025-07-24 19:07:22,055] A new study created in memory with name: no-name-d63c9f05-5c51-4baa-8ece-49516d7e3a29\n"
     ]
    },
    {
     "name": "stdout",
     "output_type": "stream",
     "text": [
      "Оптимизация Decision Tree\n"
     ]
    },
    {
     "data": {
      "application/vnd.jupyter.widget-view+json": {
       "model_id": "4636c43556af4155ad18da0c6c1e9b74",
       "version_major": 2,
       "version_minor": 0
      },
      "text/plain": [
       "  0%|          | 0/20 [00:00<?, ?it/s]"
      ]
     },
     "metadata": {},
     "output_type": "display_data"
    },
    {
     "name": "stdout",
     "output_type": "stream",
     "text": [
      "[I 2025-07-24 19:07:27,654] Trial 0 finished with value: 0.600126999136065 and parameters: {'tfidf_max_features': 1458, 'tfidf__ngram_range': 2, 'tfidf__min_df': 3, 'model__max_depth': 16, 'model__min_samples_split': 19, 'model__criterion': 'entropy'}. Best is trial 0 with value: 0.600126999136065.\n",
      "[I 2025-07-24 19:07:33,365] Trial 1 finished with value: 0.6212924700641013 and parameters: {'tfidf_max_features': 3600, 'tfidf__ngram_range': 2, 'tfidf__min_df': 3, 'model__max_depth': 17, 'model__min_samples_split': 7, 'model__criterion': 'gini'}. Best is trial 1 with value: 0.6212924700641013.\n",
      "[I 2025-07-24 19:07:39,716] Trial 2 finished with value: 0.6117903499011418 and parameters: {'tfidf_max_features': 4409, 'tfidf__ngram_range': 2, 'tfidf__min_df': 3, 'model__max_depth': 19, 'model__min_samples_split': 19, 'model__criterion': 'entropy'}. Best is trial 1 with value: 0.6212924700641013.\n",
      "[I 2025-07-24 19:07:42,157] Trial 3 finished with value: 0.5903646642569361 and parameters: {'tfidf_max_features': 2185, 'tfidf__ngram_range': 1, 'tfidf__min_df': 2, 'model__max_depth': 13, 'model__min_samples_split': 7, 'model__criterion': 'entropy'}. Best is trial 1 with value: 0.6212924700641013.\n",
      "[I 2025-07-24 19:07:47,125] Trial 4 finished with value: 0.524598517258536 and parameters: {'tfidf_max_features': 2039, 'tfidf__ngram_range': 2, 'tfidf__min_df': 2, 'model__max_depth': 7, 'model__min_samples_split': 11, 'model__criterion': 'gini'}. Best is trial 1 with value: 0.6212924700641013.\n",
      "[I 2025-07-24 19:07:52,567] Trial 5 finished with value: 0.5917644967719701 and parameters: {'tfidf_max_features': 2401, 'tfidf__ngram_range': 2, 'tfidf__min_df': 3, 'model__max_depth': 11, 'model__min_samples_split': 12, 'model__criterion': 'gini'}. Best is trial 1 with value: 0.6212924700641013.\n",
      "[I 2025-07-24 19:07:54,296] Trial 6 finished with value: 0.47414787371077277 and parameters: {'tfidf_max_features': 4241, 'tfidf__ngram_range': 1, 'tfidf__min_df': 3, 'model__max_depth': 5, 'model__min_samples_split': 10, 'model__criterion': 'gini'}. Best is trial 1 with value: 0.6212924700641013.\n",
      "[I 2025-07-24 19:07:56,215] Trial 7 finished with value: 0.5002186289974325 and parameters: {'tfidf_max_features': 3010, 'tfidf__ngram_range': 1, 'tfidf__min_df': 1, 'model__max_depth': 6, 'model__min_samples_split': 16, 'model__criterion': 'entropy'}. Best is trial 1 with value: 0.6212924700641013.\n",
      "[I 2025-07-24 19:08:01,235] Trial 8 finished with value: 0.5550630213770702 and parameters: {'tfidf_max_features': 1451, 'tfidf__ngram_range': 2, 'tfidf__min_df': 2, 'model__max_depth': 8, 'model__min_samples_split': 8, 'model__criterion': 'gini'}. Best is trial 1 with value: 0.6212924700641013.\n",
      "[I 2025-07-24 19:08:04,105] Trial 9 finished with value: 0.6035586615187641 and parameters: {'tfidf_max_features': 4575, 'tfidf__ngram_range': 1, 'tfidf__min_df': 3, 'model__max_depth': 15, 'model__min_samples_split': 3, 'model__criterion': 'entropy'}. Best is trial 1 with value: 0.6212924700641013.\n",
      "[I 2025-07-24 19:08:10,198] Trial 10 finished with value: 0.6377688669355336 and parameters: {'tfidf_max_features': 3492, 'tfidf__ngram_range': 2, 'tfidf__min_df': 5, 'model__max_depth': 20, 'model__min_samples_split': 2, 'model__criterion': 'gini'}. Best is trial 10 with value: 0.6377688669355336.\n",
      "[I 2025-07-24 19:08:16,055] Trial 11 finished with value: 0.6418093538873378 and parameters: {'tfidf_max_features': 3432, 'tfidf__ngram_range': 2, 'tfidf__min_df': 5, 'model__max_depth': 20, 'model__min_samples_split': 2, 'model__criterion': 'gini'}. Best is trial 11 with value: 0.6418093538873378.\n",
      "[I 2025-07-24 19:08:21,848] Trial 12 finished with value: 0.6380070580912967 and parameters: {'tfidf_max_features': 3417, 'tfidf__ngram_range': 2, 'tfidf__min_df': 5, 'model__max_depth': 20, 'model__min_samples_split': 2, 'model__criterion': 'gini'}. Best is trial 11 with value: 0.6418093538873378.\n",
      "[I 2025-07-24 19:08:27,780] Trial 13 finished with value: 0.6314562781510582 and parameters: {'tfidf_max_features': 3611, 'tfidf__ngram_range': 2, 'tfidf__min_df': 5, 'model__max_depth': 19, 'model__min_samples_split': 4, 'model__criterion': 'gini'}. Best is trial 11 with value: 0.6418093538873378.\n",
      "[I 2025-07-24 19:08:32,345] Trial 14 finished with value: 0.4065826717569325 and parameters: {'tfidf_max_features': 3060, 'tfidf__ngram_range': 2, 'tfidf__min_df': 5, 'model__max_depth': 3, 'model__min_samples_split': 5, 'model__criterion': 'gini'}. Best is trial 11 with value: 0.6418093538873378.\n",
      "[I 2025-07-24 19:08:37,676] Trial 15 finished with value: 0.587852103804341 and parameters: {'tfidf_max_features': 4979, 'tfidf__ngram_range': 2, 'tfidf__min_df': 4, 'model__max_depth': 11, 'model__min_samples_split': 2, 'model__criterion': 'gini'}. Best is trial 11 with value: 0.6418093538873378.\n",
      "[I 2025-07-24 19:08:43,363] Trial 16 finished with value: 0.6229864279510854 and parameters: {'tfidf_max_features': 3981, 'tfidf__ngram_range': 2, 'tfidf__min_df': 4, 'model__max_depth': 17, 'model__min_samples_split': 14, 'model__criterion': 'gini'}. Best is trial 11 with value: 0.6418093538873378.\n",
      "[I 2025-07-24 19:08:45,542] Trial 17 finished with value: 0.6011500174335566 and parameters: {'tfidf_max_features': 2653, 'tfidf__ngram_range': 1, 'tfidf__min_df': 4, 'model__max_depth': 14, 'model__min_samples_split': 6, 'model__criterion': 'gini'}. Best is trial 11 with value: 0.6418093538873378.\n",
      "[I 2025-07-24 19:08:51,392] Trial 18 finished with value: 0.6394357048488152 and parameters: {'tfidf_max_features': 3267, 'tfidf__ngram_range': 2, 'tfidf__min_df': 5, 'model__max_depth': 20, 'model__min_samples_split': 9, 'model__criterion': 'gini'}. Best is trial 11 with value: 0.6418093538873378.\n",
      "[I 2025-07-24 19:08:57,122] Trial 19 finished with value: 0.6273279804892683 and parameters: {'tfidf_max_features': 2739, 'tfidf__ngram_range': 2, 'tfidf__min_df': 4, 'model__max_depth': 18, 'model__min_samples_split': 9, 'model__criterion': 'gini'}. Best is trial 11 with value: 0.6418093538873378.\n"
     ]
    }
   ],
   "source": [
    "dt_study = run_optimization(objective_dt, 'Decision Tree')"
   ]
  },
  {
   "cell_type": "code",
   "execution_count": 28,
   "metadata": {
    "scrolled": true
   },
   "outputs": [
    {
     "name": "stderr",
     "output_type": "stream",
     "text": [
      "[I 2025-07-24 19:08:57,133] A new study created in memory with name: no-name-9df6f84c-8a03-49be-a7a5-67ea0bbd84c5\n"
     ]
    },
    {
     "name": "stdout",
     "output_type": "stream",
     "text": [
      "Оптимизация LinearSVC\n"
     ]
    },
    {
     "data": {
      "application/vnd.jupyter.widget-view+json": {
       "model_id": "f9ecb032b16849c68e0f721929ee6a9c",
       "version_major": 2,
       "version_minor": 0
      },
      "text/plain": [
       "  0%|          | 0/20 [00:00<?, ?it/s]"
      ]
     },
     "metadata": {},
     "output_type": "display_data"
    },
    {
     "name": "stdout",
     "output_type": "stream",
     "text": [
      "[I 2025-07-24 19:08:58,532] Trial 0 finished with value: 0.6799083435461162 and parameters: {'tfidf__max_features': 4669, 'tfidf__ngram_range': 1, 'tfidf__min_df': 2, 'model__C': 6.036602312299089, 'model__penalty': 'l2', 'model__class_weight': None, 'model__max_iter': 247}. Best is trial 0 with value: 0.6799083435461162.\n",
      "[I 2025-07-24 19:09:03,046] Trial 1 finished with value: 0.6680369128609409 and parameters: {'tfidf__max_features': 2953, 'tfidf__ngram_range': 2, 'tfidf__min_df': 1, 'model__C': 0.19323680448235614, 'model__penalty': 'l1', 'model__class_weight': 'balanced', 'model__max_iter': 358}. Best is trial 0 with value: 0.6799083435461162.\n",
      "[I 2025-07-24 19:09:07,558] Trial 2 finished with value: 0.5883308134829432 and parameters: {'tfidf__max_features': 3929, 'tfidf__ngram_range': 2, 'tfidf__min_df': 4, 'model__C': 0.1190729525968417, 'model__penalty': 'l1', 'model__class_weight': None, 'model__max_iter': 414}. Best is trial 0 with value: 0.6799083435461162.\n",
      "[I 2025-07-24 19:09:11,960] Trial 3 finished with value: 0.5682752366289913 and parameters: {'tfidf__max_features': 3705, 'tfidf__ngram_range': 2, 'tfidf__min_df': 4, 'model__C': 0.10061981120051182, 'model__penalty': 'l1', 'model__class_weight': None, 'model__max_iter': 919}. Best is trial 0 with value: 0.6799083435461162.\n",
      "[I 2025-07-24 19:09:16,479] Trial 4 finished with value: 0.651404918197649 and parameters: {'tfidf__max_features': 3334, 'tfidf__ngram_range': 2, 'tfidf__min_df': 2, 'model__C': 0.6514188558942039, 'model__penalty': 'l2', 'model__class_weight': 'balanced', 'model__max_iter': 970}. Best is trial 0 with value: 0.6799083435461162.\n",
      "[I 2025-07-24 19:09:20,727] Trial 5 finished with value: 0.6662230808720295 and parameters: {'tfidf__max_features': 4197, 'tfidf__ngram_range': 2, 'tfidf__min_df': 5, 'model__C': 0.015040662831877825, 'model__penalty': 'l2', 'model__class_weight': 'balanced', 'model__max_iter': 193}. Best is trial 0 with value: 0.6799083435461162.\n",
      "[I 2025-07-24 19:09:22,068] Trial 6 finished with value: 0.6816276101101161 and parameters: {'tfidf__max_features': 4780, 'tfidf__ngram_range': 1, 'tfidf__min_df': 4, 'model__C': 0.47435435715837104, 'model__penalty': 'l2', 'model__class_weight': None, 'model__max_iter': 219}. Best is trial 6 with value: 0.6816276101101161.\n",
      "[I 2025-07-24 19:09:23,346] Trial 7 finished with value: 0.6850231835389081 and parameters: {'tfidf__max_features': 2489, 'tfidf__ngram_range': 1, 'tfidf__min_df': 3, 'model__C': 2.022938488986042, 'model__penalty': 'l2', 'model__class_weight': None, 'model__max_iter': 340}. Best is trial 7 with value: 0.6850231835389081.\n",
      "[I 2025-07-24 19:09:29,999] Trial 8 finished with value: 0.6534037622382577 and parameters: {'tfidf__max_features': 3827, 'tfidf__ngram_range': 2, 'tfidf__min_df': 2, 'model__C': 6.1666653316274855, 'model__penalty': 'l1', 'model__class_weight': None, 'model__max_iter': 851}. Best is trial 7 with value: 0.6850231835389081.\n",
      "[I 2025-07-24 19:09:31,307] Trial 9 finished with value: 0.6597297524981508 and parameters: {'tfidf__max_features': 3166, 'tfidf__ngram_range': 1, 'tfidf__min_df': 2, 'model__C': 0.3183715902262599, 'model__penalty': 'l2', 'model__class_weight': None, 'model__max_iter': 265}. Best is trial 7 with value: 0.6850231835389081.\n",
      "[I 2025-07-24 19:09:32,744] Trial 10 finished with value: 0.5695681742096941 and parameters: {'tfidf__max_features': 1581, 'tfidf__ngram_range': 1, 'tfidf__min_df': 3, 'model__C': 2.0268300847448146, 'model__penalty': 'l2', 'model__class_weight': 'balanced', 'model__max_iter': 658}. Best is trial 7 with value: 0.6850231835389081.\n",
      "[I 2025-07-24 19:09:34,026] Trial 11 finished with value: 0.6835417928122794 and parameters: {'tfidf__max_features': 2133, 'tfidf__ngram_range': 1, 'tfidf__min_df': 4, 'model__C': 1.1252560472738107, 'model__penalty': 'l2', 'model__class_weight': None, 'model__max_iter': 519}. Best is trial 7 with value: 0.6850231835389081.\n",
      "[I 2025-07-24 19:09:35,320] Trial 12 finished with value: 0.6815017208440423 and parameters: {'tfidf__max_features': 1986, 'tfidf__ngram_range': 1, 'tfidf__min_df': 5, 'model__C': 2.4096751884700076, 'model__penalty': 'l2', 'model__class_weight': None, 'model__max_iter': 578}. Best is trial 7 with value: 0.6850231835389081.\n",
      "[I 2025-07-24 19:09:36,710] Trial 13 finished with value: 0.6832151834790662 and parameters: {'tfidf__max_features': 2356, 'tfidf__ngram_range': 1, 'tfidf__min_df': 3, 'model__C': 1.2778379969999893, 'model__penalty': 'l2', 'model__class_weight': None, 'model__max_iter': 482}. Best is trial 7 with value: 0.6850231835389081.\n",
      "[I 2025-07-24 19:09:38,093] Trial 14 finished with value: 0.6189026753783692 and parameters: {'tfidf__max_features': 1129, 'tfidf__ngram_range': 1, 'tfidf__min_df': 4, 'model__C': 9.71996955111159, 'model__penalty': 'l2', 'model__class_weight': None, 'model__max_iter': 710}. Best is trial 7 with value: 0.6850231835389081.\n",
      "[I 2025-07-24 19:09:39,411] Trial 15 finished with value: 0.6865990841280288 and parameters: {'tfidf__max_features': 2535, 'tfidf__ngram_range': 1, 'tfidf__min_df': 3, 'model__C': 1.364325058263207, 'model__penalty': 'l2', 'model__class_weight': None, 'model__max_iter': 102}. Best is trial 15 with value: 0.6865990841280288.\n",
      "[I 2025-07-24 19:09:40,805] Trial 16 finished with value: 0.6759518293657866 and parameters: {'tfidf__max_features': 2631, 'tfidf__ngram_range': 1, 'tfidf__min_df': 3, 'model__C': 2.9540126104782654, 'model__penalty': 'l2', 'model__class_weight': None, 'model__max_iter': 102}. Best is trial 15 with value: 0.6865990841280288.\n",
      "[I 2025-07-24 19:09:42,196] Trial 17 finished with value: 0.4560821074691967 and parameters: {'tfidf__max_features': 1584, 'tfidf__ngram_range': 1, 'tfidf__min_df': 1, 'model__C': 0.050939042822637726, 'model__penalty': 'l2', 'model__class_weight': None, 'model__max_iter': 109}. Best is trial 15 with value: 0.6865990841280288.\n",
      "[I 2025-07-24 19:09:44,146] Trial 18 finished with value: 0.6442949280139002 and parameters: {'tfidf__max_features': 2557, 'tfidf__ngram_range': 1, 'tfidf__min_df': 3, 'model__C': 0.8530111409971802, 'model__penalty': 'l1', 'model__class_weight': 'balanced', 'model__max_iter': 339}. Best is trial 15 with value: 0.6865990841280288.\n",
      "[I 2025-07-24 19:09:45,572] Trial 19 finished with value: 0.6738418582035376 and parameters: {'tfidf__max_features': 2825, 'tfidf__ngram_range': 1, 'tfidf__min_df': 2, 'model__C': 3.769394573627935, 'model__penalty': 'l2', 'model__class_weight': None, 'model__max_iter': 345}. Best is trial 15 with value: 0.6865990841280288.\n"
     ]
    }
   ],
   "source": [
    "lsvc_study = run_optimization(objective_lsvc, 'LinearSVC')"
   ]
  },
  {
   "cell_type": "markdown",
   "metadata": {},
   "source": [
    "Посмотрим на результаты:"
   ]
  },
  {
   "cell_type": "code",
   "execution_count": 29,
   "metadata": {
    "scrolled": true
   },
   "outputs": [
    {
     "name": "stdout",
     "output_type": "stream",
     "text": [
      "--------------------------------------------------\n",
      "Logistic Regression f1: 0.7103663740814955\n",
      "--------------------------------------------------\n",
      "Decision Tree f1:       0.6418093538873378\n",
      "--------------------------------------------------\n",
      "LinearSVC f1:           0.6865990841280288\n",
      "--------------------------------------------------\n"
     ]
    }
   ],
   "source": [
    "print('-'*50)\n",
    "print('Logistic Regression f1:', lr_study.best_value)\n",
    "print('-'*50)\n",
    "print('Decision Tree f1:      ', dt_study.best_value)\n",
    "print('-'*50)\n",
    "print('LinearSVC f1:          ', lsvc_study.best_value)\n",
    "print('-'*50)"
   ]
  },
  {
   "cell_type": "markdown",
   "metadata": {},
   "source": [
    "### Выбор лучшей модели"
   ]
  },
  {
   "cell_type": "markdown",
   "metadata": {},
   "source": [
    "Уберем одну модель с самым низким показателем метрики. К остальным двум применим подобранные гиперпараметры и выберем лучшую модель при кросс-валидации на всей обучающей выборке:"
   ]
  },
  {
   "cell_type": "code",
   "execution_count": 30,
   "metadata": {},
   "outputs": [],
   "source": [
    "LR_model = Pipeline([\n",
    "        ('tfidf', TfidfVectorizer()),\n",
    "        ('model', LogisticRegression(random_state=RANDOM_STATE, max_iter=1000))\n",
    "    ])"
   ]
  },
  {
   "cell_type": "markdown",
   "metadata": {},
   "source": [
    "**Optuna** не умеет сохранять сложные типы данных (кортежи) в **best_params**.\n",
    "\n",
    "Он сохраняет только простые значения и если передавать через метод **set_params()** значение типа **tuple** (чем и является параметр **ngram_range**), то **Optuna** сохранит только одно значение, которое использовалось для его построения.\n",
    "\n",
    "При подборе гиперпараметров мы писали **tuple([1, trial.suggest_int('tfidf__ngram_range', 1, 2)])**, но при выводе **best_params** он вернул одно число из **suggest_int()**, а не весь кортеж.\n",
    "\n",
    "Поэтому проведем такие действия:\n",
    "- Сохраним лучшие гиперпараметры в переменную\n",
    "- Перезапишем **ngram_range** в форме кортежа\n",
    "- Проверим все ли получилось"
   ]
  },
  {
   "cell_type": "code",
   "execution_count": 31,
   "metadata": {},
   "outputs": [
    {
     "name": "stdout",
     "output_type": "stream",
     "text": [
      "Как было: 1\n",
      "Как стало: (1, 1)\n"
     ]
    }
   ],
   "source": [
    "LR_params = lr_study.best_params.copy()\n",
    "print('Как было:', LR_params['tfidf__ngram_range'])\n",
    "LR_params['tfidf__ngram_range'] = (1, LR_params['tfidf__ngram_range'])\n",
    "print('Как стало:', LR_params['tfidf__ngram_range'])"
   ]
  },
  {
   "cell_type": "markdown",
   "metadata": {},
   "source": [
    "Теперь можно применять к модели:"
   ]
  },
  {
   "cell_type": "code",
   "execution_count": 32,
   "metadata": {},
   "outputs": [
    {
     "data": {
      "text/html": [
       "<style>#sk-container-id-1 {\n",
       "  /* Definition of color scheme common for light and dark mode */\n",
       "  --sklearn-color-text: #000;\n",
       "  --sklearn-color-text-muted: #666;\n",
       "  --sklearn-color-line: gray;\n",
       "  /* Definition of color scheme for unfitted estimators */\n",
       "  --sklearn-color-unfitted-level-0: #fff5e6;\n",
       "  --sklearn-color-unfitted-level-1: #f6e4d2;\n",
       "  --sklearn-color-unfitted-level-2: #ffe0b3;\n",
       "  --sklearn-color-unfitted-level-3: chocolate;\n",
       "  /* Definition of color scheme for fitted estimators */\n",
       "  --sklearn-color-fitted-level-0: #f0f8ff;\n",
       "  --sklearn-color-fitted-level-1: #d4ebff;\n",
       "  --sklearn-color-fitted-level-2: #b3dbfd;\n",
       "  --sklearn-color-fitted-level-3: cornflowerblue;\n",
       "\n",
       "  /* Specific color for light theme */\n",
       "  --sklearn-color-text-on-default-background: var(--sg-text-color, var(--theme-code-foreground, var(--jp-content-font-color1, black)));\n",
       "  --sklearn-color-background: var(--sg-background-color, var(--theme-background, var(--jp-layout-color0, white)));\n",
       "  --sklearn-color-border-box: var(--sg-text-color, var(--theme-code-foreground, var(--jp-content-font-color1, black)));\n",
       "  --sklearn-color-icon: #696969;\n",
       "\n",
       "  @media (prefers-color-scheme: dark) {\n",
       "    /* Redefinition of color scheme for dark theme */\n",
       "    --sklearn-color-text-on-default-background: var(--sg-text-color, var(--theme-code-foreground, var(--jp-content-font-color1, white)));\n",
       "    --sklearn-color-background: var(--sg-background-color, var(--theme-background, var(--jp-layout-color0, #111)));\n",
       "    --sklearn-color-border-box: var(--sg-text-color, var(--theme-code-foreground, var(--jp-content-font-color1, white)));\n",
       "    --sklearn-color-icon: #878787;\n",
       "  }\n",
       "}\n",
       "\n",
       "#sk-container-id-1 {\n",
       "  color: var(--sklearn-color-text);\n",
       "}\n",
       "\n",
       "#sk-container-id-1 pre {\n",
       "  padding: 0;\n",
       "}\n",
       "\n",
       "#sk-container-id-1 input.sk-hidden--visually {\n",
       "  border: 0;\n",
       "  clip: rect(1px 1px 1px 1px);\n",
       "  clip: rect(1px, 1px, 1px, 1px);\n",
       "  height: 1px;\n",
       "  margin: -1px;\n",
       "  overflow: hidden;\n",
       "  padding: 0;\n",
       "  position: absolute;\n",
       "  width: 1px;\n",
       "}\n",
       "\n",
       "#sk-container-id-1 div.sk-dashed-wrapped {\n",
       "  border: 1px dashed var(--sklearn-color-line);\n",
       "  margin: 0 0.4em 0.5em 0.4em;\n",
       "  box-sizing: border-box;\n",
       "  padding-bottom: 0.4em;\n",
       "  background-color: var(--sklearn-color-background);\n",
       "}\n",
       "\n",
       "#sk-container-id-1 div.sk-container {\n",
       "  /* jupyter's `normalize.less` sets `[hidden] { display: none; }`\n",
       "     but bootstrap.min.css set `[hidden] { display: none !important; }`\n",
       "     so we also need the `!important` here to be able to override the\n",
       "     default hidden behavior on the sphinx rendered scikit-learn.org.\n",
       "     See: https://github.com/scikit-learn/scikit-learn/issues/21755 */\n",
       "  display: inline-block !important;\n",
       "  position: relative;\n",
       "}\n",
       "\n",
       "#sk-container-id-1 div.sk-text-repr-fallback {\n",
       "  display: none;\n",
       "}\n",
       "\n",
       "div.sk-parallel-item,\n",
       "div.sk-serial,\n",
       "div.sk-item {\n",
       "  /* draw centered vertical line to link estimators */\n",
       "  background-image: linear-gradient(var(--sklearn-color-text-on-default-background), var(--sklearn-color-text-on-default-background));\n",
       "  background-size: 2px 100%;\n",
       "  background-repeat: no-repeat;\n",
       "  background-position: center center;\n",
       "}\n",
       "\n",
       "/* Parallel-specific style estimator block */\n",
       "\n",
       "#sk-container-id-1 div.sk-parallel-item::after {\n",
       "  content: \"\";\n",
       "  width: 100%;\n",
       "  border-bottom: 2px solid var(--sklearn-color-text-on-default-background);\n",
       "  flex-grow: 1;\n",
       "}\n",
       "\n",
       "#sk-container-id-1 div.sk-parallel {\n",
       "  display: flex;\n",
       "  align-items: stretch;\n",
       "  justify-content: center;\n",
       "  background-color: var(--sklearn-color-background);\n",
       "  position: relative;\n",
       "}\n",
       "\n",
       "#sk-container-id-1 div.sk-parallel-item {\n",
       "  display: flex;\n",
       "  flex-direction: column;\n",
       "}\n",
       "\n",
       "#sk-container-id-1 div.sk-parallel-item:first-child::after {\n",
       "  align-self: flex-end;\n",
       "  width: 50%;\n",
       "}\n",
       "\n",
       "#sk-container-id-1 div.sk-parallel-item:last-child::after {\n",
       "  align-self: flex-start;\n",
       "  width: 50%;\n",
       "}\n",
       "\n",
       "#sk-container-id-1 div.sk-parallel-item:only-child::after {\n",
       "  width: 0;\n",
       "}\n",
       "\n",
       "/* Serial-specific style estimator block */\n",
       "\n",
       "#sk-container-id-1 div.sk-serial {\n",
       "  display: flex;\n",
       "  flex-direction: column;\n",
       "  align-items: center;\n",
       "  background-color: var(--sklearn-color-background);\n",
       "  padding-right: 1em;\n",
       "  padding-left: 1em;\n",
       "}\n",
       "\n",
       "\n",
       "/* Toggleable style: style used for estimator/Pipeline/ColumnTransformer box that is\n",
       "clickable and can be expanded/collapsed.\n",
       "- Pipeline and ColumnTransformer use this feature and define the default style\n",
       "- Estimators will overwrite some part of the style using the `sk-estimator` class\n",
       "*/\n",
       "\n",
       "/* Pipeline and ColumnTransformer style (default) */\n",
       "\n",
       "#sk-container-id-1 div.sk-toggleable {\n",
       "  /* Default theme specific background. It is overwritten whether we have a\n",
       "  specific estimator or a Pipeline/ColumnTransformer */\n",
       "  background-color: var(--sklearn-color-background);\n",
       "}\n",
       "\n",
       "/* Toggleable label */\n",
       "#sk-container-id-1 label.sk-toggleable__label {\n",
       "  cursor: pointer;\n",
       "  display: flex;\n",
       "  width: 100%;\n",
       "  margin-bottom: 0;\n",
       "  padding: 0.5em;\n",
       "  box-sizing: border-box;\n",
       "  text-align: center;\n",
       "  align-items: start;\n",
       "  justify-content: space-between;\n",
       "  gap: 0.5em;\n",
       "}\n",
       "\n",
       "#sk-container-id-1 label.sk-toggleable__label .caption {\n",
       "  font-size: 0.6rem;\n",
       "  font-weight: lighter;\n",
       "  color: var(--sklearn-color-text-muted);\n",
       "}\n",
       "\n",
       "#sk-container-id-1 label.sk-toggleable__label-arrow:before {\n",
       "  /* Arrow on the left of the label */\n",
       "  content: \"▸\";\n",
       "  float: left;\n",
       "  margin-right: 0.25em;\n",
       "  color: var(--sklearn-color-icon);\n",
       "}\n",
       "\n",
       "#sk-container-id-1 label.sk-toggleable__label-arrow:hover:before {\n",
       "  color: var(--sklearn-color-text);\n",
       "}\n",
       "\n",
       "/* Toggleable content - dropdown */\n",
       "\n",
       "#sk-container-id-1 div.sk-toggleable__content {\n",
       "  max-height: 0;\n",
       "  max-width: 0;\n",
       "  overflow: hidden;\n",
       "  text-align: left;\n",
       "  /* unfitted */\n",
       "  background-color: var(--sklearn-color-unfitted-level-0);\n",
       "}\n",
       "\n",
       "#sk-container-id-1 div.sk-toggleable__content.fitted {\n",
       "  /* fitted */\n",
       "  background-color: var(--sklearn-color-fitted-level-0);\n",
       "}\n",
       "\n",
       "#sk-container-id-1 div.sk-toggleable__content pre {\n",
       "  margin: 0.2em;\n",
       "  border-radius: 0.25em;\n",
       "  color: var(--sklearn-color-text);\n",
       "  /* unfitted */\n",
       "  background-color: var(--sklearn-color-unfitted-level-0);\n",
       "}\n",
       "\n",
       "#sk-container-id-1 div.sk-toggleable__content.fitted pre {\n",
       "  /* unfitted */\n",
       "  background-color: var(--sklearn-color-fitted-level-0);\n",
       "}\n",
       "\n",
       "#sk-container-id-1 input.sk-toggleable__control:checked~div.sk-toggleable__content {\n",
       "  /* Expand drop-down */\n",
       "  max-height: 200px;\n",
       "  max-width: 100%;\n",
       "  overflow: auto;\n",
       "}\n",
       "\n",
       "#sk-container-id-1 input.sk-toggleable__control:checked~label.sk-toggleable__label-arrow:before {\n",
       "  content: \"▾\";\n",
       "}\n",
       "\n",
       "/* Pipeline/ColumnTransformer-specific style */\n",
       "\n",
       "#sk-container-id-1 div.sk-label input.sk-toggleable__control:checked~label.sk-toggleable__label {\n",
       "  color: var(--sklearn-color-text);\n",
       "  background-color: var(--sklearn-color-unfitted-level-2);\n",
       "}\n",
       "\n",
       "#sk-container-id-1 div.sk-label.fitted input.sk-toggleable__control:checked~label.sk-toggleable__label {\n",
       "  background-color: var(--sklearn-color-fitted-level-2);\n",
       "}\n",
       "\n",
       "/* Estimator-specific style */\n",
       "\n",
       "/* Colorize estimator box */\n",
       "#sk-container-id-1 div.sk-estimator input.sk-toggleable__control:checked~label.sk-toggleable__label {\n",
       "  /* unfitted */\n",
       "  background-color: var(--sklearn-color-unfitted-level-2);\n",
       "}\n",
       "\n",
       "#sk-container-id-1 div.sk-estimator.fitted input.sk-toggleable__control:checked~label.sk-toggleable__label {\n",
       "  /* fitted */\n",
       "  background-color: var(--sklearn-color-fitted-level-2);\n",
       "}\n",
       "\n",
       "#sk-container-id-1 div.sk-label label.sk-toggleable__label,\n",
       "#sk-container-id-1 div.sk-label label {\n",
       "  /* The background is the default theme color */\n",
       "  color: var(--sklearn-color-text-on-default-background);\n",
       "}\n",
       "\n",
       "/* On hover, darken the color of the background */\n",
       "#sk-container-id-1 div.sk-label:hover label.sk-toggleable__label {\n",
       "  color: var(--sklearn-color-text);\n",
       "  background-color: var(--sklearn-color-unfitted-level-2);\n",
       "}\n",
       "\n",
       "/* Label box, darken color on hover, fitted */\n",
       "#sk-container-id-1 div.sk-label.fitted:hover label.sk-toggleable__label.fitted {\n",
       "  color: var(--sklearn-color-text);\n",
       "  background-color: var(--sklearn-color-fitted-level-2);\n",
       "}\n",
       "\n",
       "/* Estimator label */\n",
       "\n",
       "#sk-container-id-1 div.sk-label label {\n",
       "  font-family: monospace;\n",
       "  font-weight: bold;\n",
       "  display: inline-block;\n",
       "  line-height: 1.2em;\n",
       "}\n",
       "\n",
       "#sk-container-id-1 div.sk-label-container {\n",
       "  text-align: center;\n",
       "}\n",
       "\n",
       "/* Estimator-specific */\n",
       "#sk-container-id-1 div.sk-estimator {\n",
       "  font-family: monospace;\n",
       "  border: 1px dotted var(--sklearn-color-border-box);\n",
       "  border-radius: 0.25em;\n",
       "  box-sizing: border-box;\n",
       "  margin-bottom: 0.5em;\n",
       "  /* unfitted */\n",
       "  background-color: var(--sklearn-color-unfitted-level-0);\n",
       "}\n",
       "\n",
       "#sk-container-id-1 div.sk-estimator.fitted {\n",
       "  /* fitted */\n",
       "  background-color: var(--sklearn-color-fitted-level-0);\n",
       "}\n",
       "\n",
       "/* on hover */\n",
       "#sk-container-id-1 div.sk-estimator:hover {\n",
       "  /* unfitted */\n",
       "  background-color: var(--sklearn-color-unfitted-level-2);\n",
       "}\n",
       "\n",
       "#sk-container-id-1 div.sk-estimator.fitted:hover {\n",
       "  /* fitted */\n",
       "  background-color: var(--sklearn-color-fitted-level-2);\n",
       "}\n",
       "\n",
       "/* Specification for estimator info (e.g. \"i\" and \"?\") */\n",
       "\n",
       "/* Common style for \"i\" and \"?\" */\n",
       "\n",
       ".sk-estimator-doc-link,\n",
       "a:link.sk-estimator-doc-link,\n",
       "a:visited.sk-estimator-doc-link {\n",
       "  float: right;\n",
       "  font-size: smaller;\n",
       "  line-height: 1em;\n",
       "  font-family: monospace;\n",
       "  background-color: var(--sklearn-color-background);\n",
       "  border-radius: 1em;\n",
       "  height: 1em;\n",
       "  width: 1em;\n",
       "  text-decoration: none !important;\n",
       "  margin-left: 0.5em;\n",
       "  text-align: center;\n",
       "  /* unfitted */\n",
       "  border: var(--sklearn-color-unfitted-level-1) 1pt solid;\n",
       "  color: var(--sklearn-color-unfitted-level-1);\n",
       "}\n",
       "\n",
       ".sk-estimator-doc-link.fitted,\n",
       "a:link.sk-estimator-doc-link.fitted,\n",
       "a:visited.sk-estimator-doc-link.fitted {\n",
       "  /* fitted */\n",
       "  border: var(--sklearn-color-fitted-level-1) 1pt solid;\n",
       "  color: var(--sklearn-color-fitted-level-1);\n",
       "}\n",
       "\n",
       "/* On hover */\n",
       "div.sk-estimator:hover .sk-estimator-doc-link:hover,\n",
       ".sk-estimator-doc-link:hover,\n",
       "div.sk-label-container:hover .sk-estimator-doc-link:hover,\n",
       ".sk-estimator-doc-link:hover {\n",
       "  /* unfitted */\n",
       "  background-color: var(--sklearn-color-unfitted-level-3);\n",
       "  color: var(--sklearn-color-background);\n",
       "  text-decoration: none;\n",
       "}\n",
       "\n",
       "div.sk-estimator.fitted:hover .sk-estimator-doc-link.fitted:hover,\n",
       ".sk-estimator-doc-link.fitted:hover,\n",
       "div.sk-label-container:hover .sk-estimator-doc-link.fitted:hover,\n",
       ".sk-estimator-doc-link.fitted:hover {\n",
       "  /* fitted */\n",
       "  background-color: var(--sklearn-color-fitted-level-3);\n",
       "  color: var(--sklearn-color-background);\n",
       "  text-decoration: none;\n",
       "}\n",
       "\n",
       "/* Span, style for the box shown on hovering the info icon */\n",
       ".sk-estimator-doc-link span {\n",
       "  display: none;\n",
       "  z-index: 9999;\n",
       "  position: relative;\n",
       "  font-weight: normal;\n",
       "  right: .2ex;\n",
       "  padding: .5ex;\n",
       "  margin: .5ex;\n",
       "  width: min-content;\n",
       "  min-width: 20ex;\n",
       "  max-width: 50ex;\n",
       "  color: var(--sklearn-color-text);\n",
       "  box-shadow: 2pt 2pt 4pt #999;\n",
       "  /* unfitted */\n",
       "  background: var(--sklearn-color-unfitted-level-0);\n",
       "  border: .5pt solid var(--sklearn-color-unfitted-level-3);\n",
       "}\n",
       "\n",
       ".sk-estimator-doc-link.fitted span {\n",
       "  /* fitted */\n",
       "  background: var(--sklearn-color-fitted-level-0);\n",
       "  border: var(--sklearn-color-fitted-level-3);\n",
       "}\n",
       "\n",
       ".sk-estimator-doc-link:hover span {\n",
       "  display: block;\n",
       "}\n",
       "\n",
       "/* \"?\"-specific style due to the `<a>` HTML tag */\n",
       "\n",
       "#sk-container-id-1 a.estimator_doc_link {\n",
       "  float: right;\n",
       "  font-size: 1rem;\n",
       "  line-height: 1em;\n",
       "  font-family: monospace;\n",
       "  background-color: var(--sklearn-color-background);\n",
       "  border-radius: 1rem;\n",
       "  height: 1rem;\n",
       "  width: 1rem;\n",
       "  text-decoration: none;\n",
       "  /* unfitted */\n",
       "  color: var(--sklearn-color-unfitted-level-1);\n",
       "  border: var(--sklearn-color-unfitted-level-1) 1pt solid;\n",
       "}\n",
       "\n",
       "#sk-container-id-1 a.estimator_doc_link.fitted {\n",
       "  /* fitted */\n",
       "  border: var(--sklearn-color-fitted-level-1) 1pt solid;\n",
       "  color: var(--sklearn-color-fitted-level-1);\n",
       "}\n",
       "\n",
       "/* On hover */\n",
       "#sk-container-id-1 a.estimator_doc_link:hover {\n",
       "  /* unfitted */\n",
       "  background-color: var(--sklearn-color-unfitted-level-3);\n",
       "  color: var(--sklearn-color-background);\n",
       "  text-decoration: none;\n",
       "}\n",
       "\n",
       "#sk-container-id-1 a.estimator_doc_link.fitted:hover {\n",
       "  /* fitted */\n",
       "  background-color: var(--sklearn-color-fitted-level-3);\n",
       "}\n",
       "</style><div id=\"sk-container-id-1\" class=\"sk-top-container\"><div class=\"sk-text-repr-fallback\"><pre>Pipeline(steps=[(&#x27;tfidf&#x27;, TfidfVectorizer(max_features=3271, min_df=3)),\n",
       "                (&#x27;model&#x27;,\n",
       "                 LogisticRegression(C=2.949310625666666, max_iter=1000,\n",
       "                                    penalty=&#x27;l1&#x27;, random_state=42,\n",
       "                                    solver=&#x27;liblinear&#x27;))])</pre><b>In a Jupyter environment, please rerun this cell to show the HTML representation or trust the notebook. <br />On GitHub, the HTML representation is unable to render, please try loading this page with nbviewer.org.</b></div><div class=\"sk-container\" hidden><div class=\"sk-item sk-dashed-wrapped\"><div class=\"sk-label-container\"><div class=\"sk-label  sk-toggleable\"><input class=\"sk-toggleable__control sk-hidden--visually\" id=\"sk-estimator-id-1\" type=\"checkbox\" ><label for=\"sk-estimator-id-1\" class=\"sk-toggleable__label  sk-toggleable__label-arrow\"><div><div>Pipeline</div></div><div><a class=\"sk-estimator-doc-link \" rel=\"noreferrer\" target=\"_blank\" href=\"https://scikit-learn.org/1.6/modules/generated/sklearn.pipeline.Pipeline.html\">?<span>Documentation for Pipeline</span></a><span class=\"sk-estimator-doc-link \">i<span>Not fitted</span></span></div></label><div class=\"sk-toggleable__content \"><pre>Pipeline(steps=[(&#x27;tfidf&#x27;, TfidfVectorizer(max_features=3271, min_df=3)),\n",
       "                (&#x27;model&#x27;,\n",
       "                 LogisticRegression(C=2.949310625666666, max_iter=1000,\n",
       "                                    penalty=&#x27;l1&#x27;, random_state=42,\n",
       "                                    solver=&#x27;liblinear&#x27;))])</pre></div> </div></div><div class=\"sk-serial\"><div class=\"sk-item\"><div class=\"sk-estimator  sk-toggleable\"><input class=\"sk-toggleable__control sk-hidden--visually\" id=\"sk-estimator-id-2\" type=\"checkbox\" ><label for=\"sk-estimator-id-2\" class=\"sk-toggleable__label  sk-toggleable__label-arrow\"><div><div>TfidfVectorizer</div></div><div><a class=\"sk-estimator-doc-link \" rel=\"noreferrer\" target=\"_blank\" href=\"https://scikit-learn.org/1.6/modules/generated/sklearn.feature_extraction.text.TfidfVectorizer.html\">?<span>Documentation for TfidfVectorizer</span></a></div></label><div class=\"sk-toggleable__content \"><pre>TfidfVectorizer(max_features=3271, min_df=3)</pre></div> </div></div><div class=\"sk-item\"><div class=\"sk-estimator  sk-toggleable\"><input class=\"sk-toggleable__control sk-hidden--visually\" id=\"sk-estimator-id-3\" type=\"checkbox\" ><label for=\"sk-estimator-id-3\" class=\"sk-toggleable__label  sk-toggleable__label-arrow\"><div><div>LogisticRegression</div></div><div><a class=\"sk-estimator-doc-link \" rel=\"noreferrer\" target=\"_blank\" href=\"https://scikit-learn.org/1.6/modules/generated/sklearn.linear_model.LogisticRegression.html\">?<span>Documentation for LogisticRegression</span></a></div></label><div class=\"sk-toggleable__content \"><pre>LogisticRegression(C=2.949310625666666, max_iter=1000, penalty=&#x27;l1&#x27;,\n",
       "                   random_state=42, solver=&#x27;liblinear&#x27;)</pre></div> </div></div></div></div></div></div>"
      ],
      "text/plain": [
       "Pipeline(steps=[('tfidf', TfidfVectorizer(max_features=3271, min_df=3)),\n",
       "                ('model',\n",
       "                 LogisticRegression(C=2.949310625666666, max_iter=1000,\n",
       "                                    penalty='l1', random_state=42,\n",
       "                                    solver='liblinear'))])"
      ]
     },
     "execution_count": 32,
     "metadata": {},
     "output_type": "execute_result"
    }
   ],
   "source": [
    "LR_model.set_params(**LR_params)"
   ]
  },
  {
   "cell_type": "code",
   "execution_count": 33,
   "metadata": {},
   "outputs": [],
   "source": [
    "LSVC_model = Pipeline([\n",
    "        ('tfidf', TfidfVectorizer()),\n",
    "        ('model', LinearSVC(random_state=RANDOM_STATE))\n",
    "    ])"
   ]
  },
  {
   "cell_type": "code",
   "execution_count": 34,
   "metadata": {},
   "outputs": [
    {
     "name": "stdout",
     "output_type": "stream",
     "text": [
      "Как было: 1\n",
      "Как стало: (1, 1)\n"
     ]
    }
   ],
   "source": [
    "LSVC_params = lsvc_study.best_params.copy()\n",
    "print('Как было:', LSVC_params['tfidf__ngram_range'])\n",
    "LSVC_params['tfidf__ngram_range'] = (1, LSVC_params['tfidf__ngram_range'])\n",
    "print('Как стало:', LSVC_params['tfidf__ngram_range'])"
   ]
  },
  {
   "cell_type": "code",
   "execution_count": 35,
   "metadata": {},
   "outputs": [
    {
     "data": {
      "text/html": [
       "<style>#sk-container-id-2 {\n",
       "  /* Definition of color scheme common for light and dark mode */\n",
       "  --sklearn-color-text: #000;\n",
       "  --sklearn-color-text-muted: #666;\n",
       "  --sklearn-color-line: gray;\n",
       "  /* Definition of color scheme for unfitted estimators */\n",
       "  --sklearn-color-unfitted-level-0: #fff5e6;\n",
       "  --sklearn-color-unfitted-level-1: #f6e4d2;\n",
       "  --sklearn-color-unfitted-level-2: #ffe0b3;\n",
       "  --sklearn-color-unfitted-level-3: chocolate;\n",
       "  /* Definition of color scheme for fitted estimators */\n",
       "  --sklearn-color-fitted-level-0: #f0f8ff;\n",
       "  --sklearn-color-fitted-level-1: #d4ebff;\n",
       "  --sklearn-color-fitted-level-2: #b3dbfd;\n",
       "  --sklearn-color-fitted-level-3: cornflowerblue;\n",
       "\n",
       "  /* Specific color for light theme */\n",
       "  --sklearn-color-text-on-default-background: var(--sg-text-color, var(--theme-code-foreground, var(--jp-content-font-color1, black)));\n",
       "  --sklearn-color-background: var(--sg-background-color, var(--theme-background, var(--jp-layout-color0, white)));\n",
       "  --sklearn-color-border-box: var(--sg-text-color, var(--theme-code-foreground, var(--jp-content-font-color1, black)));\n",
       "  --sklearn-color-icon: #696969;\n",
       "\n",
       "  @media (prefers-color-scheme: dark) {\n",
       "    /* Redefinition of color scheme for dark theme */\n",
       "    --sklearn-color-text-on-default-background: var(--sg-text-color, var(--theme-code-foreground, var(--jp-content-font-color1, white)));\n",
       "    --sklearn-color-background: var(--sg-background-color, var(--theme-background, var(--jp-layout-color0, #111)));\n",
       "    --sklearn-color-border-box: var(--sg-text-color, var(--theme-code-foreground, var(--jp-content-font-color1, white)));\n",
       "    --sklearn-color-icon: #878787;\n",
       "  }\n",
       "}\n",
       "\n",
       "#sk-container-id-2 {\n",
       "  color: var(--sklearn-color-text);\n",
       "}\n",
       "\n",
       "#sk-container-id-2 pre {\n",
       "  padding: 0;\n",
       "}\n",
       "\n",
       "#sk-container-id-2 input.sk-hidden--visually {\n",
       "  border: 0;\n",
       "  clip: rect(1px 1px 1px 1px);\n",
       "  clip: rect(1px, 1px, 1px, 1px);\n",
       "  height: 1px;\n",
       "  margin: -1px;\n",
       "  overflow: hidden;\n",
       "  padding: 0;\n",
       "  position: absolute;\n",
       "  width: 1px;\n",
       "}\n",
       "\n",
       "#sk-container-id-2 div.sk-dashed-wrapped {\n",
       "  border: 1px dashed var(--sklearn-color-line);\n",
       "  margin: 0 0.4em 0.5em 0.4em;\n",
       "  box-sizing: border-box;\n",
       "  padding-bottom: 0.4em;\n",
       "  background-color: var(--sklearn-color-background);\n",
       "}\n",
       "\n",
       "#sk-container-id-2 div.sk-container {\n",
       "  /* jupyter's `normalize.less` sets `[hidden] { display: none; }`\n",
       "     but bootstrap.min.css set `[hidden] { display: none !important; }`\n",
       "     so we also need the `!important` here to be able to override the\n",
       "     default hidden behavior on the sphinx rendered scikit-learn.org.\n",
       "     See: https://github.com/scikit-learn/scikit-learn/issues/21755 */\n",
       "  display: inline-block !important;\n",
       "  position: relative;\n",
       "}\n",
       "\n",
       "#sk-container-id-2 div.sk-text-repr-fallback {\n",
       "  display: none;\n",
       "}\n",
       "\n",
       "div.sk-parallel-item,\n",
       "div.sk-serial,\n",
       "div.sk-item {\n",
       "  /* draw centered vertical line to link estimators */\n",
       "  background-image: linear-gradient(var(--sklearn-color-text-on-default-background), var(--sklearn-color-text-on-default-background));\n",
       "  background-size: 2px 100%;\n",
       "  background-repeat: no-repeat;\n",
       "  background-position: center center;\n",
       "}\n",
       "\n",
       "/* Parallel-specific style estimator block */\n",
       "\n",
       "#sk-container-id-2 div.sk-parallel-item::after {\n",
       "  content: \"\";\n",
       "  width: 100%;\n",
       "  border-bottom: 2px solid var(--sklearn-color-text-on-default-background);\n",
       "  flex-grow: 1;\n",
       "}\n",
       "\n",
       "#sk-container-id-2 div.sk-parallel {\n",
       "  display: flex;\n",
       "  align-items: stretch;\n",
       "  justify-content: center;\n",
       "  background-color: var(--sklearn-color-background);\n",
       "  position: relative;\n",
       "}\n",
       "\n",
       "#sk-container-id-2 div.sk-parallel-item {\n",
       "  display: flex;\n",
       "  flex-direction: column;\n",
       "}\n",
       "\n",
       "#sk-container-id-2 div.sk-parallel-item:first-child::after {\n",
       "  align-self: flex-end;\n",
       "  width: 50%;\n",
       "}\n",
       "\n",
       "#sk-container-id-2 div.sk-parallel-item:last-child::after {\n",
       "  align-self: flex-start;\n",
       "  width: 50%;\n",
       "}\n",
       "\n",
       "#sk-container-id-2 div.sk-parallel-item:only-child::after {\n",
       "  width: 0;\n",
       "}\n",
       "\n",
       "/* Serial-specific style estimator block */\n",
       "\n",
       "#sk-container-id-2 div.sk-serial {\n",
       "  display: flex;\n",
       "  flex-direction: column;\n",
       "  align-items: center;\n",
       "  background-color: var(--sklearn-color-background);\n",
       "  padding-right: 1em;\n",
       "  padding-left: 1em;\n",
       "}\n",
       "\n",
       "\n",
       "/* Toggleable style: style used for estimator/Pipeline/ColumnTransformer box that is\n",
       "clickable and can be expanded/collapsed.\n",
       "- Pipeline and ColumnTransformer use this feature and define the default style\n",
       "- Estimators will overwrite some part of the style using the `sk-estimator` class\n",
       "*/\n",
       "\n",
       "/* Pipeline and ColumnTransformer style (default) */\n",
       "\n",
       "#sk-container-id-2 div.sk-toggleable {\n",
       "  /* Default theme specific background. It is overwritten whether we have a\n",
       "  specific estimator or a Pipeline/ColumnTransformer */\n",
       "  background-color: var(--sklearn-color-background);\n",
       "}\n",
       "\n",
       "/* Toggleable label */\n",
       "#sk-container-id-2 label.sk-toggleable__label {\n",
       "  cursor: pointer;\n",
       "  display: flex;\n",
       "  width: 100%;\n",
       "  margin-bottom: 0;\n",
       "  padding: 0.5em;\n",
       "  box-sizing: border-box;\n",
       "  text-align: center;\n",
       "  align-items: start;\n",
       "  justify-content: space-between;\n",
       "  gap: 0.5em;\n",
       "}\n",
       "\n",
       "#sk-container-id-2 label.sk-toggleable__label .caption {\n",
       "  font-size: 0.6rem;\n",
       "  font-weight: lighter;\n",
       "  color: var(--sklearn-color-text-muted);\n",
       "}\n",
       "\n",
       "#sk-container-id-2 label.sk-toggleable__label-arrow:before {\n",
       "  /* Arrow on the left of the label */\n",
       "  content: \"▸\";\n",
       "  float: left;\n",
       "  margin-right: 0.25em;\n",
       "  color: var(--sklearn-color-icon);\n",
       "}\n",
       "\n",
       "#sk-container-id-2 label.sk-toggleable__label-arrow:hover:before {\n",
       "  color: var(--sklearn-color-text);\n",
       "}\n",
       "\n",
       "/* Toggleable content - dropdown */\n",
       "\n",
       "#sk-container-id-2 div.sk-toggleable__content {\n",
       "  max-height: 0;\n",
       "  max-width: 0;\n",
       "  overflow: hidden;\n",
       "  text-align: left;\n",
       "  /* unfitted */\n",
       "  background-color: var(--sklearn-color-unfitted-level-0);\n",
       "}\n",
       "\n",
       "#sk-container-id-2 div.sk-toggleable__content.fitted {\n",
       "  /* fitted */\n",
       "  background-color: var(--sklearn-color-fitted-level-0);\n",
       "}\n",
       "\n",
       "#sk-container-id-2 div.sk-toggleable__content pre {\n",
       "  margin: 0.2em;\n",
       "  border-radius: 0.25em;\n",
       "  color: var(--sklearn-color-text);\n",
       "  /* unfitted */\n",
       "  background-color: var(--sklearn-color-unfitted-level-0);\n",
       "}\n",
       "\n",
       "#sk-container-id-2 div.sk-toggleable__content.fitted pre {\n",
       "  /* unfitted */\n",
       "  background-color: var(--sklearn-color-fitted-level-0);\n",
       "}\n",
       "\n",
       "#sk-container-id-2 input.sk-toggleable__control:checked~div.sk-toggleable__content {\n",
       "  /* Expand drop-down */\n",
       "  max-height: 200px;\n",
       "  max-width: 100%;\n",
       "  overflow: auto;\n",
       "}\n",
       "\n",
       "#sk-container-id-2 input.sk-toggleable__control:checked~label.sk-toggleable__label-arrow:before {\n",
       "  content: \"▾\";\n",
       "}\n",
       "\n",
       "/* Pipeline/ColumnTransformer-specific style */\n",
       "\n",
       "#sk-container-id-2 div.sk-label input.sk-toggleable__control:checked~label.sk-toggleable__label {\n",
       "  color: var(--sklearn-color-text);\n",
       "  background-color: var(--sklearn-color-unfitted-level-2);\n",
       "}\n",
       "\n",
       "#sk-container-id-2 div.sk-label.fitted input.sk-toggleable__control:checked~label.sk-toggleable__label {\n",
       "  background-color: var(--sklearn-color-fitted-level-2);\n",
       "}\n",
       "\n",
       "/* Estimator-specific style */\n",
       "\n",
       "/* Colorize estimator box */\n",
       "#sk-container-id-2 div.sk-estimator input.sk-toggleable__control:checked~label.sk-toggleable__label {\n",
       "  /* unfitted */\n",
       "  background-color: var(--sklearn-color-unfitted-level-2);\n",
       "}\n",
       "\n",
       "#sk-container-id-2 div.sk-estimator.fitted input.sk-toggleable__control:checked~label.sk-toggleable__label {\n",
       "  /* fitted */\n",
       "  background-color: var(--sklearn-color-fitted-level-2);\n",
       "}\n",
       "\n",
       "#sk-container-id-2 div.sk-label label.sk-toggleable__label,\n",
       "#sk-container-id-2 div.sk-label label {\n",
       "  /* The background is the default theme color */\n",
       "  color: var(--sklearn-color-text-on-default-background);\n",
       "}\n",
       "\n",
       "/* On hover, darken the color of the background */\n",
       "#sk-container-id-2 div.sk-label:hover label.sk-toggleable__label {\n",
       "  color: var(--sklearn-color-text);\n",
       "  background-color: var(--sklearn-color-unfitted-level-2);\n",
       "}\n",
       "\n",
       "/* Label box, darken color on hover, fitted */\n",
       "#sk-container-id-2 div.sk-label.fitted:hover label.sk-toggleable__label.fitted {\n",
       "  color: var(--sklearn-color-text);\n",
       "  background-color: var(--sklearn-color-fitted-level-2);\n",
       "}\n",
       "\n",
       "/* Estimator label */\n",
       "\n",
       "#sk-container-id-2 div.sk-label label {\n",
       "  font-family: monospace;\n",
       "  font-weight: bold;\n",
       "  display: inline-block;\n",
       "  line-height: 1.2em;\n",
       "}\n",
       "\n",
       "#sk-container-id-2 div.sk-label-container {\n",
       "  text-align: center;\n",
       "}\n",
       "\n",
       "/* Estimator-specific */\n",
       "#sk-container-id-2 div.sk-estimator {\n",
       "  font-family: monospace;\n",
       "  border: 1px dotted var(--sklearn-color-border-box);\n",
       "  border-radius: 0.25em;\n",
       "  box-sizing: border-box;\n",
       "  margin-bottom: 0.5em;\n",
       "  /* unfitted */\n",
       "  background-color: var(--sklearn-color-unfitted-level-0);\n",
       "}\n",
       "\n",
       "#sk-container-id-2 div.sk-estimator.fitted {\n",
       "  /* fitted */\n",
       "  background-color: var(--sklearn-color-fitted-level-0);\n",
       "}\n",
       "\n",
       "/* on hover */\n",
       "#sk-container-id-2 div.sk-estimator:hover {\n",
       "  /* unfitted */\n",
       "  background-color: var(--sklearn-color-unfitted-level-2);\n",
       "}\n",
       "\n",
       "#sk-container-id-2 div.sk-estimator.fitted:hover {\n",
       "  /* fitted */\n",
       "  background-color: var(--sklearn-color-fitted-level-2);\n",
       "}\n",
       "\n",
       "/* Specification for estimator info (e.g. \"i\" and \"?\") */\n",
       "\n",
       "/* Common style for \"i\" and \"?\" */\n",
       "\n",
       ".sk-estimator-doc-link,\n",
       "a:link.sk-estimator-doc-link,\n",
       "a:visited.sk-estimator-doc-link {\n",
       "  float: right;\n",
       "  font-size: smaller;\n",
       "  line-height: 1em;\n",
       "  font-family: monospace;\n",
       "  background-color: var(--sklearn-color-background);\n",
       "  border-radius: 1em;\n",
       "  height: 1em;\n",
       "  width: 1em;\n",
       "  text-decoration: none !important;\n",
       "  margin-left: 0.5em;\n",
       "  text-align: center;\n",
       "  /* unfitted */\n",
       "  border: var(--sklearn-color-unfitted-level-1) 1pt solid;\n",
       "  color: var(--sklearn-color-unfitted-level-1);\n",
       "}\n",
       "\n",
       ".sk-estimator-doc-link.fitted,\n",
       "a:link.sk-estimator-doc-link.fitted,\n",
       "a:visited.sk-estimator-doc-link.fitted {\n",
       "  /* fitted */\n",
       "  border: var(--sklearn-color-fitted-level-1) 1pt solid;\n",
       "  color: var(--sklearn-color-fitted-level-1);\n",
       "}\n",
       "\n",
       "/* On hover */\n",
       "div.sk-estimator:hover .sk-estimator-doc-link:hover,\n",
       ".sk-estimator-doc-link:hover,\n",
       "div.sk-label-container:hover .sk-estimator-doc-link:hover,\n",
       ".sk-estimator-doc-link:hover {\n",
       "  /* unfitted */\n",
       "  background-color: var(--sklearn-color-unfitted-level-3);\n",
       "  color: var(--sklearn-color-background);\n",
       "  text-decoration: none;\n",
       "}\n",
       "\n",
       "div.sk-estimator.fitted:hover .sk-estimator-doc-link.fitted:hover,\n",
       ".sk-estimator-doc-link.fitted:hover,\n",
       "div.sk-label-container:hover .sk-estimator-doc-link.fitted:hover,\n",
       ".sk-estimator-doc-link.fitted:hover {\n",
       "  /* fitted */\n",
       "  background-color: var(--sklearn-color-fitted-level-3);\n",
       "  color: var(--sklearn-color-background);\n",
       "  text-decoration: none;\n",
       "}\n",
       "\n",
       "/* Span, style for the box shown on hovering the info icon */\n",
       ".sk-estimator-doc-link span {\n",
       "  display: none;\n",
       "  z-index: 9999;\n",
       "  position: relative;\n",
       "  font-weight: normal;\n",
       "  right: .2ex;\n",
       "  padding: .5ex;\n",
       "  margin: .5ex;\n",
       "  width: min-content;\n",
       "  min-width: 20ex;\n",
       "  max-width: 50ex;\n",
       "  color: var(--sklearn-color-text);\n",
       "  box-shadow: 2pt 2pt 4pt #999;\n",
       "  /* unfitted */\n",
       "  background: var(--sklearn-color-unfitted-level-0);\n",
       "  border: .5pt solid var(--sklearn-color-unfitted-level-3);\n",
       "}\n",
       "\n",
       ".sk-estimator-doc-link.fitted span {\n",
       "  /* fitted */\n",
       "  background: var(--sklearn-color-fitted-level-0);\n",
       "  border: var(--sklearn-color-fitted-level-3);\n",
       "}\n",
       "\n",
       ".sk-estimator-doc-link:hover span {\n",
       "  display: block;\n",
       "}\n",
       "\n",
       "/* \"?\"-specific style due to the `<a>` HTML tag */\n",
       "\n",
       "#sk-container-id-2 a.estimator_doc_link {\n",
       "  float: right;\n",
       "  font-size: 1rem;\n",
       "  line-height: 1em;\n",
       "  font-family: monospace;\n",
       "  background-color: var(--sklearn-color-background);\n",
       "  border-radius: 1rem;\n",
       "  height: 1rem;\n",
       "  width: 1rem;\n",
       "  text-decoration: none;\n",
       "  /* unfitted */\n",
       "  color: var(--sklearn-color-unfitted-level-1);\n",
       "  border: var(--sklearn-color-unfitted-level-1) 1pt solid;\n",
       "}\n",
       "\n",
       "#sk-container-id-2 a.estimator_doc_link.fitted {\n",
       "  /* fitted */\n",
       "  border: var(--sklearn-color-fitted-level-1) 1pt solid;\n",
       "  color: var(--sklearn-color-fitted-level-1);\n",
       "}\n",
       "\n",
       "/* On hover */\n",
       "#sk-container-id-2 a.estimator_doc_link:hover {\n",
       "  /* unfitted */\n",
       "  background-color: var(--sklearn-color-unfitted-level-3);\n",
       "  color: var(--sklearn-color-background);\n",
       "  text-decoration: none;\n",
       "}\n",
       "\n",
       "#sk-container-id-2 a.estimator_doc_link.fitted:hover {\n",
       "  /* fitted */\n",
       "  background-color: var(--sklearn-color-fitted-level-3);\n",
       "}\n",
       "</style><div id=\"sk-container-id-2\" class=\"sk-top-container\"><div class=\"sk-text-repr-fallback\"><pre>Pipeline(steps=[(&#x27;tfidf&#x27;, TfidfVectorizer(max_features=2535, min_df=3)),\n",
       "                (&#x27;model&#x27;,\n",
       "                 LinearSVC(C=1.364325058263207, max_iter=102,\n",
       "                           random_state=42))])</pre><b>In a Jupyter environment, please rerun this cell to show the HTML representation or trust the notebook. <br />On GitHub, the HTML representation is unable to render, please try loading this page with nbviewer.org.</b></div><div class=\"sk-container\" hidden><div class=\"sk-item sk-dashed-wrapped\"><div class=\"sk-label-container\"><div class=\"sk-label  sk-toggleable\"><input class=\"sk-toggleable__control sk-hidden--visually\" id=\"sk-estimator-id-4\" type=\"checkbox\" ><label for=\"sk-estimator-id-4\" class=\"sk-toggleable__label  sk-toggleable__label-arrow\"><div><div>Pipeline</div></div><div><a class=\"sk-estimator-doc-link \" rel=\"noreferrer\" target=\"_blank\" href=\"https://scikit-learn.org/1.6/modules/generated/sklearn.pipeline.Pipeline.html\">?<span>Documentation for Pipeline</span></a><span class=\"sk-estimator-doc-link \">i<span>Not fitted</span></span></div></label><div class=\"sk-toggleable__content \"><pre>Pipeline(steps=[(&#x27;tfidf&#x27;, TfidfVectorizer(max_features=2535, min_df=3)),\n",
       "                (&#x27;model&#x27;,\n",
       "                 LinearSVC(C=1.364325058263207, max_iter=102,\n",
       "                           random_state=42))])</pre></div> </div></div><div class=\"sk-serial\"><div class=\"sk-item\"><div class=\"sk-estimator  sk-toggleable\"><input class=\"sk-toggleable__control sk-hidden--visually\" id=\"sk-estimator-id-5\" type=\"checkbox\" ><label for=\"sk-estimator-id-5\" class=\"sk-toggleable__label  sk-toggleable__label-arrow\"><div><div>TfidfVectorizer</div></div><div><a class=\"sk-estimator-doc-link \" rel=\"noreferrer\" target=\"_blank\" href=\"https://scikit-learn.org/1.6/modules/generated/sklearn.feature_extraction.text.TfidfVectorizer.html\">?<span>Documentation for TfidfVectorizer</span></a></div></label><div class=\"sk-toggleable__content \"><pre>TfidfVectorizer(max_features=2535, min_df=3)</pre></div> </div></div><div class=\"sk-item\"><div class=\"sk-estimator  sk-toggleable\"><input class=\"sk-toggleable__control sk-hidden--visually\" id=\"sk-estimator-id-6\" type=\"checkbox\" ><label for=\"sk-estimator-id-6\" class=\"sk-toggleable__label  sk-toggleable__label-arrow\"><div><div>LinearSVC</div></div><div><a class=\"sk-estimator-doc-link \" rel=\"noreferrer\" target=\"_blank\" href=\"https://scikit-learn.org/1.6/modules/generated/sklearn.svm.LinearSVC.html\">?<span>Documentation for LinearSVC</span></a></div></label><div class=\"sk-toggleable__content \"><pre>LinearSVC(C=1.364325058263207, max_iter=102, random_state=42)</pre></div> </div></div></div></div></div></div>"
      ],
      "text/plain": [
       "Pipeline(steps=[('tfidf', TfidfVectorizer(max_features=2535, min_df=3)),\n",
       "                ('model',\n",
       "                 LinearSVC(C=1.364325058263207, max_iter=102,\n",
       "                           random_state=42))])"
      ]
     },
     "execution_count": 35,
     "metadata": {},
     "output_type": "execute_result"
    }
   ],
   "source": [
    "LSVC_model.set_params(**LSVC_params)"
   ]
  },
  {
   "cell_type": "markdown",
   "metadata": {},
   "source": [
    "Обучаем:"
   ]
  },
  {
   "cell_type": "code",
   "execution_count": 36,
   "metadata": {},
   "outputs": [
    {
     "data": {
      "text/html": [
       "<style>#sk-container-id-3 {\n",
       "  /* Definition of color scheme common for light and dark mode */\n",
       "  --sklearn-color-text: #000;\n",
       "  --sklearn-color-text-muted: #666;\n",
       "  --sklearn-color-line: gray;\n",
       "  /* Definition of color scheme for unfitted estimators */\n",
       "  --sklearn-color-unfitted-level-0: #fff5e6;\n",
       "  --sklearn-color-unfitted-level-1: #f6e4d2;\n",
       "  --sklearn-color-unfitted-level-2: #ffe0b3;\n",
       "  --sklearn-color-unfitted-level-3: chocolate;\n",
       "  /* Definition of color scheme for fitted estimators */\n",
       "  --sklearn-color-fitted-level-0: #f0f8ff;\n",
       "  --sklearn-color-fitted-level-1: #d4ebff;\n",
       "  --sklearn-color-fitted-level-2: #b3dbfd;\n",
       "  --sklearn-color-fitted-level-3: cornflowerblue;\n",
       "\n",
       "  /* Specific color for light theme */\n",
       "  --sklearn-color-text-on-default-background: var(--sg-text-color, var(--theme-code-foreground, var(--jp-content-font-color1, black)));\n",
       "  --sklearn-color-background: var(--sg-background-color, var(--theme-background, var(--jp-layout-color0, white)));\n",
       "  --sklearn-color-border-box: var(--sg-text-color, var(--theme-code-foreground, var(--jp-content-font-color1, black)));\n",
       "  --sklearn-color-icon: #696969;\n",
       "\n",
       "  @media (prefers-color-scheme: dark) {\n",
       "    /* Redefinition of color scheme for dark theme */\n",
       "    --sklearn-color-text-on-default-background: var(--sg-text-color, var(--theme-code-foreground, var(--jp-content-font-color1, white)));\n",
       "    --sklearn-color-background: var(--sg-background-color, var(--theme-background, var(--jp-layout-color0, #111)));\n",
       "    --sklearn-color-border-box: var(--sg-text-color, var(--theme-code-foreground, var(--jp-content-font-color1, white)));\n",
       "    --sklearn-color-icon: #878787;\n",
       "  }\n",
       "}\n",
       "\n",
       "#sk-container-id-3 {\n",
       "  color: var(--sklearn-color-text);\n",
       "}\n",
       "\n",
       "#sk-container-id-3 pre {\n",
       "  padding: 0;\n",
       "}\n",
       "\n",
       "#sk-container-id-3 input.sk-hidden--visually {\n",
       "  border: 0;\n",
       "  clip: rect(1px 1px 1px 1px);\n",
       "  clip: rect(1px, 1px, 1px, 1px);\n",
       "  height: 1px;\n",
       "  margin: -1px;\n",
       "  overflow: hidden;\n",
       "  padding: 0;\n",
       "  position: absolute;\n",
       "  width: 1px;\n",
       "}\n",
       "\n",
       "#sk-container-id-3 div.sk-dashed-wrapped {\n",
       "  border: 1px dashed var(--sklearn-color-line);\n",
       "  margin: 0 0.4em 0.5em 0.4em;\n",
       "  box-sizing: border-box;\n",
       "  padding-bottom: 0.4em;\n",
       "  background-color: var(--sklearn-color-background);\n",
       "}\n",
       "\n",
       "#sk-container-id-3 div.sk-container {\n",
       "  /* jupyter's `normalize.less` sets `[hidden] { display: none; }`\n",
       "     but bootstrap.min.css set `[hidden] { display: none !important; }`\n",
       "     so we also need the `!important` here to be able to override the\n",
       "     default hidden behavior on the sphinx rendered scikit-learn.org.\n",
       "     See: https://github.com/scikit-learn/scikit-learn/issues/21755 */\n",
       "  display: inline-block !important;\n",
       "  position: relative;\n",
       "}\n",
       "\n",
       "#sk-container-id-3 div.sk-text-repr-fallback {\n",
       "  display: none;\n",
       "}\n",
       "\n",
       "div.sk-parallel-item,\n",
       "div.sk-serial,\n",
       "div.sk-item {\n",
       "  /* draw centered vertical line to link estimators */\n",
       "  background-image: linear-gradient(var(--sklearn-color-text-on-default-background), var(--sklearn-color-text-on-default-background));\n",
       "  background-size: 2px 100%;\n",
       "  background-repeat: no-repeat;\n",
       "  background-position: center center;\n",
       "}\n",
       "\n",
       "/* Parallel-specific style estimator block */\n",
       "\n",
       "#sk-container-id-3 div.sk-parallel-item::after {\n",
       "  content: \"\";\n",
       "  width: 100%;\n",
       "  border-bottom: 2px solid var(--sklearn-color-text-on-default-background);\n",
       "  flex-grow: 1;\n",
       "}\n",
       "\n",
       "#sk-container-id-3 div.sk-parallel {\n",
       "  display: flex;\n",
       "  align-items: stretch;\n",
       "  justify-content: center;\n",
       "  background-color: var(--sklearn-color-background);\n",
       "  position: relative;\n",
       "}\n",
       "\n",
       "#sk-container-id-3 div.sk-parallel-item {\n",
       "  display: flex;\n",
       "  flex-direction: column;\n",
       "}\n",
       "\n",
       "#sk-container-id-3 div.sk-parallel-item:first-child::after {\n",
       "  align-self: flex-end;\n",
       "  width: 50%;\n",
       "}\n",
       "\n",
       "#sk-container-id-3 div.sk-parallel-item:last-child::after {\n",
       "  align-self: flex-start;\n",
       "  width: 50%;\n",
       "}\n",
       "\n",
       "#sk-container-id-3 div.sk-parallel-item:only-child::after {\n",
       "  width: 0;\n",
       "}\n",
       "\n",
       "/* Serial-specific style estimator block */\n",
       "\n",
       "#sk-container-id-3 div.sk-serial {\n",
       "  display: flex;\n",
       "  flex-direction: column;\n",
       "  align-items: center;\n",
       "  background-color: var(--sklearn-color-background);\n",
       "  padding-right: 1em;\n",
       "  padding-left: 1em;\n",
       "}\n",
       "\n",
       "\n",
       "/* Toggleable style: style used for estimator/Pipeline/ColumnTransformer box that is\n",
       "clickable and can be expanded/collapsed.\n",
       "- Pipeline and ColumnTransformer use this feature and define the default style\n",
       "- Estimators will overwrite some part of the style using the `sk-estimator` class\n",
       "*/\n",
       "\n",
       "/* Pipeline and ColumnTransformer style (default) */\n",
       "\n",
       "#sk-container-id-3 div.sk-toggleable {\n",
       "  /* Default theme specific background. It is overwritten whether we have a\n",
       "  specific estimator or a Pipeline/ColumnTransformer */\n",
       "  background-color: var(--sklearn-color-background);\n",
       "}\n",
       "\n",
       "/* Toggleable label */\n",
       "#sk-container-id-3 label.sk-toggleable__label {\n",
       "  cursor: pointer;\n",
       "  display: flex;\n",
       "  width: 100%;\n",
       "  margin-bottom: 0;\n",
       "  padding: 0.5em;\n",
       "  box-sizing: border-box;\n",
       "  text-align: center;\n",
       "  align-items: start;\n",
       "  justify-content: space-between;\n",
       "  gap: 0.5em;\n",
       "}\n",
       "\n",
       "#sk-container-id-3 label.sk-toggleable__label .caption {\n",
       "  font-size: 0.6rem;\n",
       "  font-weight: lighter;\n",
       "  color: var(--sklearn-color-text-muted);\n",
       "}\n",
       "\n",
       "#sk-container-id-3 label.sk-toggleable__label-arrow:before {\n",
       "  /* Arrow on the left of the label */\n",
       "  content: \"▸\";\n",
       "  float: left;\n",
       "  margin-right: 0.25em;\n",
       "  color: var(--sklearn-color-icon);\n",
       "}\n",
       "\n",
       "#sk-container-id-3 label.sk-toggleable__label-arrow:hover:before {\n",
       "  color: var(--sklearn-color-text);\n",
       "}\n",
       "\n",
       "/* Toggleable content - dropdown */\n",
       "\n",
       "#sk-container-id-3 div.sk-toggleable__content {\n",
       "  max-height: 0;\n",
       "  max-width: 0;\n",
       "  overflow: hidden;\n",
       "  text-align: left;\n",
       "  /* unfitted */\n",
       "  background-color: var(--sklearn-color-unfitted-level-0);\n",
       "}\n",
       "\n",
       "#sk-container-id-3 div.sk-toggleable__content.fitted {\n",
       "  /* fitted */\n",
       "  background-color: var(--sklearn-color-fitted-level-0);\n",
       "}\n",
       "\n",
       "#sk-container-id-3 div.sk-toggleable__content pre {\n",
       "  margin: 0.2em;\n",
       "  border-radius: 0.25em;\n",
       "  color: var(--sklearn-color-text);\n",
       "  /* unfitted */\n",
       "  background-color: var(--sklearn-color-unfitted-level-0);\n",
       "}\n",
       "\n",
       "#sk-container-id-3 div.sk-toggleable__content.fitted pre {\n",
       "  /* unfitted */\n",
       "  background-color: var(--sklearn-color-fitted-level-0);\n",
       "}\n",
       "\n",
       "#sk-container-id-3 input.sk-toggleable__control:checked~div.sk-toggleable__content {\n",
       "  /* Expand drop-down */\n",
       "  max-height: 200px;\n",
       "  max-width: 100%;\n",
       "  overflow: auto;\n",
       "}\n",
       "\n",
       "#sk-container-id-3 input.sk-toggleable__control:checked~label.sk-toggleable__label-arrow:before {\n",
       "  content: \"▾\";\n",
       "}\n",
       "\n",
       "/* Pipeline/ColumnTransformer-specific style */\n",
       "\n",
       "#sk-container-id-3 div.sk-label input.sk-toggleable__control:checked~label.sk-toggleable__label {\n",
       "  color: var(--sklearn-color-text);\n",
       "  background-color: var(--sklearn-color-unfitted-level-2);\n",
       "}\n",
       "\n",
       "#sk-container-id-3 div.sk-label.fitted input.sk-toggleable__control:checked~label.sk-toggleable__label {\n",
       "  background-color: var(--sklearn-color-fitted-level-2);\n",
       "}\n",
       "\n",
       "/* Estimator-specific style */\n",
       "\n",
       "/* Colorize estimator box */\n",
       "#sk-container-id-3 div.sk-estimator input.sk-toggleable__control:checked~label.sk-toggleable__label {\n",
       "  /* unfitted */\n",
       "  background-color: var(--sklearn-color-unfitted-level-2);\n",
       "}\n",
       "\n",
       "#sk-container-id-3 div.sk-estimator.fitted input.sk-toggleable__control:checked~label.sk-toggleable__label {\n",
       "  /* fitted */\n",
       "  background-color: var(--sklearn-color-fitted-level-2);\n",
       "}\n",
       "\n",
       "#sk-container-id-3 div.sk-label label.sk-toggleable__label,\n",
       "#sk-container-id-3 div.sk-label label {\n",
       "  /* The background is the default theme color */\n",
       "  color: var(--sklearn-color-text-on-default-background);\n",
       "}\n",
       "\n",
       "/* On hover, darken the color of the background */\n",
       "#sk-container-id-3 div.sk-label:hover label.sk-toggleable__label {\n",
       "  color: var(--sklearn-color-text);\n",
       "  background-color: var(--sklearn-color-unfitted-level-2);\n",
       "}\n",
       "\n",
       "/* Label box, darken color on hover, fitted */\n",
       "#sk-container-id-3 div.sk-label.fitted:hover label.sk-toggleable__label.fitted {\n",
       "  color: var(--sklearn-color-text);\n",
       "  background-color: var(--sklearn-color-fitted-level-2);\n",
       "}\n",
       "\n",
       "/* Estimator label */\n",
       "\n",
       "#sk-container-id-3 div.sk-label label {\n",
       "  font-family: monospace;\n",
       "  font-weight: bold;\n",
       "  display: inline-block;\n",
       "  line-height: 1.2em;\n",
       "}\n",
       "\n",
       "#sk-container-id-3 div.sk-label-container {\n",
       "  text-align: center;\n",
       "}\n",
       "\n",
       "/* Estimator-specific */\n",
       "#sk-container-id-3 div.sk-estimator {\n",
       "  font-family: monospace;\n",
       "  border: 1px dotted var(--sklearn-color-border-box);\n",
       "  border-radius: 0.25em;\n",
       "  box-sizing: border-box;\n",
       "  margin-bottom: 0.5em;\n",
       "  /* unfitted */\n",
       "  background-color: var(--sklearn-color-unfitted-level-0);\n",
       "}\n",
       "\n",
       "#sk-container-id-3 div.sk-estimator.fitted {\n",
       "  /* fitted */\n",
       "  background-color: var(--sklearn-color-fitted-level-0);\n",
       "}\n",
       "\n",
       "/* on hover */\n",
       "#sk-container-id-3 div.sk-estimator:hover {\n",
       "  /* unfitted */\n",
       "  background-color: var(--sklearn-color-unfitted-level-2);\n",
       "}\n",
       "\n",
       "#sk-container-id-3 div.sk-estimator.fitted:hover {\n",
       "  /* fitted */\n",
       "  background-color: var(--sklearn-color-fitted-level-2);\n",
       "}\n",
       "\n",
       "/* Specification for estimator info (e.g. \"i\" and \"?\") */\n",
       "\n",
       "/* Common style for \"i\" and \"?\" */\n",
       "\n",
       ".sk-estimator-doc-link,\n",
       "a:link.sk-estimator-doc-link,\n",
       "a:visited.sk-estimator-doc-link {\n",
       "  float: right;\n",
       "  font-size: smaller;\n",
       "  line-height: 1em;\n",
       "  font-family: monospace;\n",
       "  background-color: var(--sklearn-color-background);\n",
       "  border-radius: 1em;\n",
       "  height: 1em;\n",
       "  width: 1em;\n",
       "  text-decoration: none !important;\n",
       "  margin-left: 0.5em;\n",
       "  text-align: center;\n",
       "  /* unfitted */\n",
       "  border: var(--sklearn-color-unfitted-level-1) 1pt solid;\n",
       "  color: var(--sklearn-color-unfitted-level-1);\n",
       "}\n",
       "\n",
       ".sk-estimator-doc-link.fitted,\n",
       "a:link.sk-estimator-doc-link.fitted,\n",
       "a:visited.sk-estimator-doc-link.fitted {\n",
       "  /* fitted */\n",
       "  border: var(--sklearn-color-fitted-level-1) 1pt solid;\n",
       "  color: var(--sklearn-color-fitted-level-1);\n",
       "}\n",
       "\n",
       "/* On hover */\n",
       "div.sk-estimator:hover .sk-estimator-doc-link:hover,\n",
       ".sk-estimator-doc-link:hover,\n",
       "div.sk-label-container:hover .sk-estimator-doc-link:hover,\n",
       ".sk-estimator-doc-link:hover {\n",
       "  /* unfitted */\n",
       "  background-color: var(--sklearn-color-unfitted-level-3);\n",
       "  color: var(--sklearn-color-background);\n",
       "  text-decoration: none;\n",
       "}\n",
       "\n",
       "div.sk-estimator.fitted:hover .sk-estimator-doc-link.fitted:hover,\n",
       ".sk-estimator-doc-link.fitted:hover,\n",
       "div.sk-label-container:hover .sk-estimator-doc-link.fitted:hover,\n",
       ".sk-estimator-doc-link.fitted:hover {\n",
       "  /* fitted */\n",
       "  background-color: var(--sklearn-color-fitted-level-3);\n",
       "  color: var(--sklearn-color-background);\n",
       "  text-decoration: none;\n",
       "}\n",
       "\n",
       "/* Span, style for the box shown on hovering the info icon */\n",
       ".sk-estimator-doc-link span {\n",
       "  display: none;\n",
       "  z-index: 9999;\n",
       "  position: relative;\n",
       "  font-weight: normal;\n",
       "  right: .2ex;\n",
       "  padding: .5ex;\n",
       "  margin: .5ex;\n",
       "  width: min-content;\n",
       "  min-width: 20ex;\n",
       "  max-width: 50ex;\n",
       "  color: var(--sklearn-color-text);\n",
       "  box-shadow: 2pt 2pt 4pt #999;\n",
       "  /* unfitted */\n",
       "  background: var(--sklearn-color-unfitted-level-0);\n",
       "  border: .5pt solid var(--sklearn-color-unfitted-level-3);\n",
       "}\n",
       "\n",
       ".sk-estimator-doc-link.fitted span {\n",
       "  /* fitted */\n",
       "  background: var(--sklearn-color-fitted-level-0);\n",
       "  border: var(--sklearn-color-fitted-level-3);\n",
       "}\n",
       "\n",
       ".sk-estimator-doc-link:hover span {\n",
       "  display: block;\n",
       "}\n",
       "\n",
       "/* \"?\"-specific style due to the `<a>` HTML tag */\n",
       "\n",
       "#sk-container-id-3 a.estimator_doc_link {\n",
       "  float: right;\n",
       "  font-size: 1rem;\n",
       "  line-height: 1em;\n",
       "  font-family: monospace;\n",
       "  background-color: var(--sklearn-color-background);\n",
       "  border-radius: 1rem;\n",
       "  height: 1rem;\n",
       "  width: 1rem;\n",
       "  text-decoration: none;\n",
       "  /* unfitted */\n",
       "  color: var(--sklearn-color-unfitted-level-1);\n",
       "  border: var(--sklearn-color-unfitted-level-1) 1pt solid;\n",
       "}\n",
       "\n",
       "#sk-container-id-3 a.estimator_doc_link.fitted {\n",
       "  /* fitted */\n",
       "  border: var(--sklearn-color-fitted-level-1) 1pt solid;\n",
       "  color: var(--sklearn-color-fitted-level-1);\n",
       "}\n",
       "\n",
       "/* On hover */\n",
       "#sk-container-id-3 a.estimator_doc_link:hover {\n",
       "  /* unfitted */\n",
       "  background-color: var(--sklearn-color-unfitted-level-3);\n",
       "  color: var(--sklearn-color-background);\n",
       "  text-decoration: none;\n",
       "}\n",
       "\n",
       "#sk-container-id-3 a.estimator_doc_link.fitted:hover {\n",
       "  /* fitted */\n",
       "  background-color: var(--sklearn-color-fitted-level-3);\n",
       "}\n",
       "</style><div id=\"sk-container-id-3\" class=\"sk-top-container\"><div class=\"sk-text-repr-fallback\"><pre>Pipeline(steps=[(&#x27;tfidf&#x27;, TfidfVectorizer(max_features=3271, min_df=3)),\n",
       "                (&#x27;model&#x27;,\n",
       "                 LogisticRegression(C=2.949310625666666, max_iter=1000,\n",
       "                                    penalty=&#x27;l1&#x27;, random_state=42,\n",
       "                                    solver=&#x27;liblinear&#x27;))])</pre><b>In a Jupyter environment, please rerun this cell to show the HTML representation or trust the notebook. <br />On GitHub, the HTML representation is unable to render, please try loading this page with nbviewer.org.</b></div><div class=\"sk-container\" hidden><div class=\"sk-item sk-dashed-wrapped\"><div class=\"sk-label-container\"><div class=\"sk-label fitted sk-toggleable\"><input class=\"sk-toggleable__control sk-hidden--visually\" id=\"sk-estimator-id-7\" type=\"checkbox\" ><label for=\"sk-estimator-id-7\" class=\"sk-toggleable__label fitted sk-toggleable__label-arrow\"><div><div>Pipeline</div></div><div><a class=\"sk-estimator-doc-link fitted\" rel=\"noreferrer\" target=\"_blank\" href=\"https://scikit-learn.org/1.6/modules/generated/sklearn.pipeline.Pipeline.html\">?<span>Documentation for Pipeline</span></a><span class=\"sk-estimator-doc-link fitted\">i<span>Fitted</span></span></div></label><div class=\"sk-toggleable__content fitted\"><pre>Pipeline(steps=[(&#x27;tfidf&#x27;, TfidfVectorizer(max_features=3271, min_df=3)),\n",
       "                (&#x27;model&#x27;,\n",
       "                 LogisticRegression(C=2.949310625666666, max_iter=1000,\n",
       "                                    penalty=&#x27;l1&#x27;, random_state=42,\n",
       "                                    solver=&#x27;liblinear&#x27;))])</pre></div> </div></div><div class=\"sk-serial\"><div class=\"sk-item\"><div class=\"sk-estimator fitted sk-toggleable\"><input class=\"sk-toggleable__control sk-hidden--visually\" id=\"sk-estimator-id-8\" type=\"checkbox\" ><label for=\"sk-estimator-id-8\" class=\"sk-toggleable__label fitted sk-toggleable__label-arrow\"><div><div>TfidfVectorizer</div></div><div><a class=\"sk-estimator-doc-link fitted\" rel=\"noreferrer\" target=\"_blank\" href=\"https://scikit-learn.org/1.6/modules/generated/sklearn.feature_extraction.text.TfidfVectorizer.html\">?<span>Documentation for TfidfVectorizer</span></a></div></label><div class=\"sk-toggleable__content fitted\"><pre>TfidfVectorizer(max_features=3271, min_df=3)</pre></div> </div></div><div class=\"sk-item\"><div class=\"sk-estimator fitted sk-toggleable\"><input class=\"sk-toggleable__control sk-hidden--visually\" id=\"sk-estimator-id-9\" type=\"checkbox\" ><label for=\"sk-estimator-id-9\" class=\"sk-toggleable__label fitted sk-toggleable__label-arrow\"><div><div>LogisticRegression</div></div><div><a class=\"sk-estimator-doc-link fitted\" rel=\"noreferrer\" target=\"_blank\" href=\"https://scikit-learn.org/1.6/modules/generated/sklearn.linear_model.LogisticRegression.html\">?<span>Documentation for LogisticRegression</span></a></div></label><div class=\"sk-toggleable__content fitted\"><pre>LogisticRegression(C=2.949310625666666, max_iter=1000, penalty=&#x27;l1&#x27;,\n",
       "                   random_state=42, solver=&#x27;liblinear&#x27;)</pre></div> </div></div></div></div></div></div>"
      ],
      "text/plain": [
       "Pipeline(steps=[('tfidf', TfidfVectorizer(max_features=3271, min_df=3)),\n",
       "                ('model',\n",
       "                 LogisticRegression(C=2.949310625666666, max_iter=1000,\n",
       "                                    penalty='l1', random_state=42,\n",
       "                                    solver='liblinear'))])"
      ]
     },
     "execution_count": 36,
     "metadata": {},
     "output_type": "execute_result"
    }
   ],
   "source": [
    "LR_model.fit(X_train, y_train)"
   ]
  },
  {
   "cell_type": "code",
   "execution_count": 37,
   "metadata": {},
   "outputs": [
    {
     "data": {
      "text/html": [
       "<style>#sk-container-id-4 {\n",
       "  /* Definition of color scheme common for light and dark mode */\n",
       "  --sklearn-color-text: #000;\n",
       "  --sklearn-color-text-muted: #666;\n",
       "  --sklearn-color-line: gray;\n",
       "  /* Definition of color scheme for unfitted estimators */\n",
       "  --sklearn-color-unfitted-level-0: #fff5e6;\n",
       "  --sklearn-color-unfitted-level-1: #f6e4d2;\n",
       "  --sklearn-color-unfitted-level-2: #ffe0b3;\n",
       "  --sklearn-color-unfitted-level-3: chocolate;\n",
       "  /* Definition of color scheme for fitted estimators */\n",
       "  --sklearn-color-fitted-level-0: #f0f8ff;\n",
       "  --sklearn-color-fitted-level-1: #d4ebff;\n",
       "  --sklearn-color-fitted-level-2: #b3dbfd;\n",
       "  --sklearn-color-fitted-level-3: cornflowerblue;\n",
       "\n",
       "  /* Specific color for light theme */\n",
       "  --sklearn-color-text-on-default-background: var(--sg-text-color, var(--theme-code-foreground, var(--jp-content-font-color1, black)));\n",
       "  --sklearn-color-background: var(--sg-background-color, var(--theme-background, var(--jp-layout-color0, white)));\n",
       "  --sklearn-color-border-box: var(--sg-text-color, var(--theme-code-foreground, var(--jp-content-font-color1, black)));\n",
       "  --sklearn-color-icon: #696969;\n",
       "\n",
       "  @media (prefers-color-scheme: dark) {\n",
       "    /* Redefinition of color scheme for dark theme */\n",
       "    --sklearn-color-text-on-default-background: var(--sg-text-color, var(--theme-code-foreground, var(--jp-content-font-color1, white)));\n",
       "    --sklearn-color-background: var(--sg-background-color, var(--theme-background, var(--jp-layout-color0, #111)));\n",
       "    --sklearn-color-border-box: var(--sg-text-color, var(--theme-code-foreground, var(--jp-content-font-color1, white)));\n",
       "    --sklearn-color-icon: #878787;\n",
       "  }\n",
       "}\n",
       "\n",
       "#sk-container-id-4 {\n",
       "  color: var(--sklearn-color-text);\n",
       "}\n",
       "\n",
       "#sk-container-id-4 pre {\n",
       "  padding: 0;\n",
       "}\n",
       "\n",
       "#sk-container-id-4 input.sk-hidden--visually {\n",
       "  border: 0;\n",
       "  clip: rect(1px 1px 1px 1px);\n",
       "  clip: rect(1px, 1px, 1px, 1px);\n",
       "  height: 1px;\n",
       "  margin: -1px;\n",
       "  overflow: hidden;\n",
       "  padding: 0;\n",
       "  position: absolute;\n",
       "  width: 1px;\n",
       "}\n",
       "\n",
       "#sk-container-id-4 div.sk-dashed-wrapped {\n",
       "  border: 1px dashed var(--sklearn-color-line);\n",
       "  margin: 0 0.4em 0.5em 0.4em;\n",
       "  box-sizing: border-box;\n",
       "  padding-bottom: 0.4em;\n",
       "  background-color: var(--sklearn-color-background);\n",
       "}\n",
       "\n",
       "#sk-container-id-4 div.sk-container {\n",
       "  /* jupyter's `normalize.less` sets `[hidden] { display: none; }`\n",
       "     but bootstrap.min.css set `[hidden] { display: none !important; }`\n",
       "     so we also need the `!important` here to be able to override the\n",
       "     default hidden behavior on the sphinx rendered scikit-learn.org.\n",
       "     See: https://github.com/scikit-learn/scikit-learn/issues/21755 */\n",
       "  display: inline-block !important;\n",
       "  position: relative;\n",
       "}\n",
       "\n",
       "#sk-container-id-4 div.sk-text-repr-fallback {\n",
       "  display: none;\n",
       "}\n",
       "\n",
       "div.sk-parallel-item,\n",
       "div.sk-serial,\n",
       "div.sk-item {\n",
       "  /* draw centered vertical line to link estimators */\n",
       "  background-image: linear-gradient(var(--sklearn-color-text-on-default-background), var(--sklearn-color-text-on-default-background));\n",
       "  background-size: 2px 100%;\n",
       "  background-repeat: no-repeat;\n",
       "  background-position: center center;\n",
       "}\n",
       "\n",
       "/* Parallel-specific style estimator block */\n",
       "\n",
       "#sk-container-id-4 div.sk-parallel-item::after {\n",
       "  content: \"\";\n",
       "  width: 100%;\n",
       "  border-bottom: 2px solid var(--sklearn-color-text-on-default-background);\n",
       "  flex-grow: 1;\n",
       "}\n",
       "\n",
       "#sk-container-id-4 div.sk-parallel {\n",
       "  display: flex;\n",
       "  align-items: stretch;\n",
       "  justify-content: center;\n",
       "  background-color: var(--sklearn-color-background);\n",
       "  position: relative;\n",
       "}\n",
       "\n",
       "#sk-container-id-4 div.sk-parallel-item {\n",
       "  display: flex;\n",
       "  flex-direction: column;\n",
       "}\n",
       "\n",
       "#sk-container-id-4 div.sk-parallel-item:first-child::after {\n",
       "  align-self: flex-end;\n",
       "  width: 50%;\n",
       "}\n",
       "\n",
       "#sk-container-id-4 div.sk-parallel-item:last-child::after {\n",
       "  align-self: flex-start;\n",
       "  width: 50%;\n",
       "}\n",
       "\n",
       "#sk-container-id-4 div.sk-parallel-item:only-child::after {\n",
       "  width: 0;\n",
       "}\n",
       "\n",
       "/* Serial-specific style estimator block */\n",
       "\n",
       "#sk-container-id-4 div.sk-serial {\n",
       "  display: flex;\n",
       "  flex-direction: column;\n",
       "  align-items: center;\n",
       "  background-color: var(--sklearn-color-background);\n",
       "  padding-right: 1em;\n",
       "  padding-left: 1em;\n",
       "}\n",
       "\n",
       "\n",
       "/* Toggleable style: style used for estimator/Pipeline/ColumnTransformer box that is\n",
       "clickable and can be expanded/collapsed.\n",
       "- Pipeline and ColumnTransformer use this feature and define the default style\n",
       "- Estimators will overwrite some part of the style using the `sk-estimator` class\n",
       "*/\n",
       "\n",
       "/* Pipeline and ColumnTransformer style (default) */\n",
       "\n",
       "#sk-container-id-4 div.sk-toggleable {\n",
       "  /* Default theme specific background. It is overwritten whether we have a\n",
       "  specific estimator or a Pipeline/ColumnTransformer */\n",
       "  background-color: var(--sklearn-color-background);\n",
       "}\n",
       "\n",
       "/* Toggleable label */\n",
       "#sk-container-id-4 label.sk-toggleable__label {\n",
       "  cursor: pointer;\n",
       "  display: flex;\n",
       "  width: 100%;\n",
       "  margin-bottom: 0;\n",
       "  padding: 0.5em;\n",
       "  box-sizing: border-box;\n",
       "  text-align: center;\n",
       "  align-items: start;\n",
       "  justify-content: space-between;\n",
       "  gap: 0.5em;\n",
       "}\n",
       "\n",
       "#sk-container-id-4 label.sk-toggleable__label .caption {\n",
       "  font-size: 0.6rem;\n",
       "  font-weight: lighter;\n",
       "  color: var(--sklearn-color-text-muted);\n",
       "}\n",
       "\n",
       "#sk-container-id-4 label.sk-toggleable__label-arrow:before {\n",
       "  /* Arrow on the left of the label */\n",
       "  content: \"▸\";\n",
       "  float: left;\n",
       "  margin-right: 0.25em;\n",
       "  color: var(--sklearn-color-icon);\n",
       "}\n",
       "\n",
       "#sk-container-id-4 label.sk-toggleable__label-arrow:hover:before {\n",
       "  color: var(--sklearn-color-text);\n",
       "}\n",
       "\n",
       "/* Toggleable content - dropdown */\n",
       "\n",
       "#sk-container-id-4 div.sk-toggleable__content {\n",
       "  max-height: 0;\n",
       "  max-width: 0;\n",
       "  overflow: hidden;\n",
       "  text-align: left;\n",
       "  /* unfitted */\n",
       "  background-color: var(--sklearn-color-unfitted-level-0);\n",
       "}\n",
       "\n",
       "#sk-container-id-4 div.sk-toggleable__content.fitted {\n",
       "  /* fitted */\n",
       "  background-color: var(--sklearn-color-fitted-level-0);\n",
       "}\n",
       "\n",
       "#sk-container-id-4 div.sk-toggleable__content pre {\n",
       "  margin: 0.2em;\n",
       "  border-radius: 0.25em;\n",
       "  color: var(--sklearn-color-text);\n",
       "  /* unfitted */\n",
       "  background-color: var(--sklearn-color-unfitted-level-0);\n",
       "}\n",
       "\n",
       "#sk-container-id-4 div.sk-toggleable__content.fitted pre {\n",
       "  /* unfitted */\n",
       "  background-color: var(--sklearn-color-fitted-level-0);\n",
       "}\n",
       "\n",
       "#sk-container-id-4 input.sk-toggleable__control:checked~div.sk-toggleable__content {\n",
       "  /* Expand drop-down */\n",
       "  max-height: 200px;\n",
       "  max-width: 100%;\n",
       "  overflow: auto;\n",
       "}\n",
       "\n",
       "#sk-container-id-4 input.sk-toggleable__control:checked~label.sk-toggleable__label-arrow:before {\n",
       "  content: \"▾\";\n",
       "}\n",
       "\n",
       "/* Pipeline/ColumnTransformer-specific style */\n",
       "\n",
       "#sk-container-id-4 div.sk-label input.sk-toggleable__control:checked~label.sk-toggleable__label {\n",
       "  color: var(--sklearn-color-text);\n",
       "  background-color: var(--sklearn-color-unfitted-level-2);\n",
       "}\n",
       "\n",
       "#sk-container-id-4 div.sk-label.fitted input.sk-toggleable__control:checked~label.sk-toggleable__label {\n",
       "  background-color: var(--sklearn-color-fitted-level-2);\n",
       "}\n",
       "\n",
       "/* Estimator-specific style */\n",
       "\n",
       "/* Colorize estimator box */\n",
       "#sk-container-id-4 div.sk-estimator input.sk-toggleable__control:checked~label.sk-toggleable__label {\n",
       "  /* unfitted */\n",
       "  background-color: var(--sklearn-color-unfitted-level-2);\n",
       "}\n",
       "\n",
       "#sk-container-id-4 div.sk-estimator.fitted input.sk-toggleable__control:checked~label.sk-toggleable__label {\n",
       "  /* fitted */\n",
       "  background-color: var(--sklearn-color-fitted-level-2);\n",
       "}\n",
       "\n",
       "#sk-container-id-4 div.sk-label label.sk-toggleable__label,\n",
       "#sk-container-id-4 div.sk-label label {\n",
       "  /* The background is the default theme color */\n",
       "  color: var(--sklearn-color-text-on-default-background);\n",
       "}\n",
       "\n",
       "/* On hover, darken the color of the background */\n",
       "#sk-container-id-4 div.sk-label:hover label.sk-toggleable__label {\n",
       "  color: var(--sklearn-color-text);\n",
       "  background-color: var(--sklearn-color-unfitted-level-2);\n",
       "}\n",
       "\n",
       "/* Label box, darken color on hover, fitted */\n",
       "#sk-container-id-4 div.sk-label.fitted:hover label.sk-toggleable__label.fitted {\n",
       "  color: var(--sklearn-color-text);\n",
       "  background-color: var(--sklearn-color-fitted-level-2);\n",
       "}\n",
       "\n",
       "/* Estimator label */\n",
       "\n",
       "#sk-container-id-4 div.sk-label label {\n",
       "  font-family: monospace;\n",
       "  font-weight: bold;\n",
       "  display: inline-block;\n",
       "  line-height: 1.2em;\n",
       "}\n",
       "\n",
       "#sk-container-id-4 div.sk-label-container {\n",
       "  text-align: center;\n",
       "}\n",
       "\n",
       "/* Estimator-specific */\n",
       "#sk-container-id-4 div.sk-estimator {\n",
       "  font-family: monospace;\n",
       "  border: 1px dotted var(--sklearn-color-border-box);\n",
       "  border-radius: 0.25em;\n",
       "  box-sizing: border-box;\n",
       "  margin-bottom: 0.5em;\n",
       "  /* unfitted */\n",
       "  background-color: var(--sklearn-color-unfitted-level-0);\n",
       "}\n",
       "\n",
       "#sk-container-id-4 div.sk-estimator.fitted {\n",
       "  /* fitted */\n",
       "  background-color: var(--sklearn-color-fitted-level-0);\n",
       "}\n",
       "\n",
       "/* on hover */\n",
       "#sk-container-id-4 div.sk-estimator:hover {\n",
       "  /* unfitted */\n",
       "  background-color: var(--sklearn-color-unfitted-level-2);\n",
       "}\n",
       "\n",
       "#sk-container-id-4 div.sk-estimator.fitted:hover {\n",
       "  /* fitted */\n",
       "  background-color: var(--sklearn-color-fitted-level-2);\n",
       "}\n",
       "\n",
       "/* Specification for estimator info (e.g. \"i\" and \"?\") */\n",
       "\n",
       "/* Common style for \"i\" and \"?\" */\n",
       "\n",
       ".sk-estimator-doc-link,\n",
       "a:link.sk-estimator-doc-link,\n",
       "a:visited.sk-estimator-doc-link {\n",
       "  float: right;\n",
       "  font-size: smaller;\n",
       "  line-height: 1em;\n",
       "  font-family: monospace;\n",
       "  background-color: var(--sklearn-color-background);\n",
       "  border-radius: 1em;\n",
       "  height: 1em;\n",
       "  width: 1em;\n",
       "  text-decoration: none !important;\n",
       "  margin-left: 0.5em;\n",
       "  text-align: center;\n",
       "  /* unfitted */\n",
       "  border: var(--sklearn-color-unfitted-level-1) 1pt solid;\n",
       "  color: var(--sklearn-color-unfitted-level-1);\n",
       "}\n",
       "\n",
       ".sk-estimator-doc-link.fitted,\n",
       "a:link.sk-estimator-doc-link.fitted,\n",
       "a:visited.sk-estimator-doc-link.fitted {\n",
       "  /* fitted */\n",
       "  border: var(--sklearn-color-fitted-level-1) 1pt solid;\n",
       "  color: var(--sklearn-color-fitted-level-1);\n",
       "}\n",
       "\n",
       "/* On hover */\n",
       "div.sk-estimator:hover .sk-estimator-doc-link:hover,\n",
       ".sk-estimator-doc-link:hover,\n",
       "div.sk-label-container:hover .sk-estimator-doc-link:hover,\n",
       ".sk-estimator-doc-link:hover {\n",
       "  /* unfitted */\n",
       "  background-color: var(--sklearn-color-unfitted-level-3);\n",
       "  color: var(--sklearn-color-background);\n",
       "  text-decoration: none;\n",
       "}\n",
       "\n",
       "div.sk-estimator.fitted:hover .sk-estimator-doc-link.fitted:hover,\n",
       ".sk-estimator-doc-link.fitted:hover,\n",
       "div.sk-label-container:hover .sk-estimator-doc-link.fitted:hover,\n",
       ".sk-estimator-doc-link.fitted:hover {\n",
       "  /* fitted */\n",
       "  background-color: var(--sklearn-color-fitted-level-3);\n",
       "  color: var(--sklearn-color-background);\n",
       "  text-decoration: none;\n",
       "}\n",
       "\n",
       "/* Span, style for the box shown on hovering the info icon */\n",
       ".sk-estimator-doc-link span {\n",
       "  display: none;\n",
       "  z-index: 9999;\n",
       "  position: relative;\n",
       "  font-weight: normal;\n",
       "  right: .2ex;\n",
       "  padding: .5ex;\n",
       "  margin: .5ex;\n",
       "  width: min-content;\n",
       "  min-width: 20ex;\n",
       "  max-width: 50ex;\n",
       "  color: var(--sklearn-color-text);\n",
       "  box-shadow: 2pt 2pt 4pt #999;\n",
       "  /* unfitted */\n",
       "  background: var(--sklearn-color-unfitted-level-0);\n",
       "  border: .5pt solid var(--sklearn-color-unfitted-level-3);\n",
       "}\n",
       "\n",
       ".sk-estimator-doc-link.fitted span {\n",
       "  /* fitted */\n",
       "  background: var(--sklearn-color-fitted-level-0);\n",
       "  border: var(--sklearn-color-fitted-level-3);\n",
       "}\n",
       "\n",
       ".sk-estimator-doc-link:hover span {\n",
       "  display: block;\n",
       "}\n",
       "\n",
       "/* \"?\"-specific style due to the `<a>` HTML tag */\n",
       "\n",
       "#sk-container-id-4 a.estimator_doc_link {\n",
       "  float: right;\n",
       "  font-size: 1rem;\n",
       "  line-height: 1em;\n",
       "  font-family: monospace;\n",
       "  background-color: var(--sklearn-color-background);\n",
       "  border-radius: 1rem;\n",
       "  height: 1rem;\n",
       "  width: 1rem;\n",
       "  text-decoration: none;\n",
       "  /* unfitted */\n",
       "  color: var(--sklearn-color-unfitted-level-1);\n",
       "  border: var(--sklearn-color-unfitted-level-1) 1pt solid;\n",
       "}\n",
       "\n",
       "#sk-container-id-4 a.estimator_doc_link.fitted {\n",
       "  /* fitted */\n",
       "  border: var(--sklearn-color-fitted-level-1) 1pt solid;\n",
       "  color: var(--sklearn-color-fitted-level-1);\n",
       "}\n",
       "\n",
       "/* On hover */\n",
       "#sk-container-id-4 a.estimator_doc_link:hover {\n",
       "  /* unfitted */\n",
       "  background-color: var(--sklearn-color-unfitted-level-3);\n",
       "  color: var(--sklearn-color-background);\n",
       "  text-decoration: none;\n",
       "}\n",
       "\n",
       "#sk-container-id-4 a.estimator_doc_link.fitted:hover {\n",
       "  /* fitted */\n",
       "  background-color: var(--sklearn-color-fitted-level-3);\n",
       "}\n",
       "</style><div id=\"sk-container-id-4\" class=\"sk-top-container\"><div class=\"sk-text-repr-fallback\"><pre>Pipeline(steps=[(&#x27;tfidf&#x27;, TfidfVectorizer(max_features=2535, min_df=3)),\n",
       "                (&#x27;model&#x27;,\n",
       "                 LinearSVC(C=1.364325058263207, max_iter=102,\n",
       "                           random_state=42))])</pre><b>In a Jupyter environment, please rerun this cell to show the HTML representation or trust the notebook. <br />On GitHub, the HTML representation is unable to render, please try loading this page with nbviewer.org.</b></div><div class=\"sk-container\" hidden><div class=\"sk-item sk-dashed-wrapped\"><div class=\"sk-label-container\"><div class=\"sk-label fitted sk-toggleable\"><input class=\"sk-toggleable__control sk-hidden--visually\" id=\"sk-estimator-id-10\" type=\"checkbox\" ><label for=\"sk-estimator-id-10\" class=\"sk-toggleable__label fitted sk-toggleable__label-arrow\"><div><div>Pipeline</div></div><div><a class=\"sk-estimator-doc-link fitted\" rel=\"noreferrer\" target=\"_blank\" href=\"https://scikit-learn.org/1.6/modules/generated/sklearn.pipeline.Pipeline.html\">?<span>Documentation for Pipeline</span></a><span class=\"sk-estimator-doc-link fitted\">i<span>Fitted</span></span></div></label><div class=\"sk-toggleable__content fitted\"><pre>Pipeline(steps=[(&#x27;tfidf&#x27;, TfidfVectorizer(max_features=2535, min_df=3)),\n",
       "                (&#x27;model&#x27;,\n",
       "                 LinearSVC(C=1.364325058263207, max_iter=102,\n",
       "                           random_state=42))])</pre></div> </div></div><div class=\"sk-serial\"><div class=\"sk-item\"><div class=\"sk-estimator fitted sk-toggleable\"><input class=\"sk-toggleable__control sk-hidden--visually\" id=\"sk-estimator-id-11\" type=\"checkbox\" ><label for=\"sk-estimator-id-11\" class=\"sk-toggleable__label fitted sk-toggleable__label-arrow\"><div><div>TfidfVectorizer</div></div><div><a class=\"sk-estimator-doc-link fitted\" rel=\"noreferrer\" target=\"_blank\" href=\"https://scikit-learn.org/1.6/modules/generated/sklearn.feature_extraction.text.TfidfVectorizer.html\">?<span>Documentation for TfidfVectorizer</span></a></div></label><div class=\"sk-toggleable__content fitted\"><pre>TfidfVectorizer(max_features=2535, min_df=3)</pre></div> </div></div><div class=\"sk-item\"><div class=\"sk-estimator fitted sk-toggleable\"><input class=\"sk-toggleable__control sk-hidden--visually\" id=\"sk-estimator-id-12\" type=\"checkbox\" ><label for=\"sk-estimator-id-12\" class=\"sk-toggleable__label fitted sk-toggleable__label-arrow\"><div><div>LinearSVC</div></div><div><a class=\"sk-estimator-doc-link fitted\" rel=\"noreferrer\" target=\"_blank\" href=\"https://scikit-learn.org/1.6/modules/generated/sklearn.svm.LinearSVC.html\">?<span>Documentation for LinearSVC</span></a></div></label><div class=\"sk-toggleable__content fitted\"><pre>LinearSVC(C=1.364325058263207, max_iter=102, random_state=42)</pre></div> </div></div></div></div></div></div>"
      ],
      "text/plain": [
       "Pipeline(steps=[('tfidf', TfidfVectorizer(max_features=2535, min_df=3)),\n",
       "                ('model',\n",
       "                 LinearSVC(C=1.364325058263207, max_iter=102,\n",
       "                           random_state=42))])"
      ]
     },
     "execution_count": 37,
     "metadata": {},
     "output_type": "execute_result"
    }
   ],
   "source": [
    "LSVC_model.fit(X_train, y_train)"
   ]
  },
  {
   "cell_type": "code",
   "execution_count": 38,
   "metadata": {},
   "outputs": [],
   "source": [
    "LR_CV = cross_val_score(LR_model, X_train, y_train, cv=SCV, scoring='f1', n_jobs=-1)"
   ]
  },
  {
   "cell_type": "code",
   "execution_count": 39,
   "metadata": {},
   "outputs": [],
   "source": [
    "LSVC_CV = cross_val_score(LSVC_model, X_train, y_train, cv=SCV, scoring='f1', n_jobs=-1)"
   ]
  },
  {
   "cell_type": "code",
   "execution_count": 40,
   "metadata": {},
   "outputs": [
    {
     "name": "stdout",
     "output_type": "stream",
     "text": [
      "================================================================================\n",
      "LogisticRegression CV Score\n",
      "--------------------------------------------------------------------------------\n",
      "Mean F1 CV: 0.7686967318831807 | Std F1 CV: 0.0033671719393066246\n",
      "================================================================================\n",
      "LinearSVC CV Score\n",
      "--------------------------------------------------------------------------------\n",
      "Mean F1 CV: 0.7580081568359481 | Std F1 CV: 0.002940903960828167\n",
      "================================================================================\n"
     ]
    }
   ],
   "source": [
    "print('='*80)\n",
    "print('LogisticRegression CV Score')\n",
    "print('-'*80)\n",
    "print('Mean F1 CV:', LR_CV.mean(), '|', 'Std F1 CV:', LR_CV.std())\n",
    "print('='*80)\n",
    "print('LinearSVC CV Score')\n",
    "print('-'*80)\n",
    "print('Mean F1 CV:', LSVC_CV.mean(), '|', 'Std F1 CV:', LSVC_CV.std())\n",
    "print('='*80)"
   ]
  },
  {
   "cell_type": "markdown",
   "metadata": {},
   "source": [
    "По итогам проведения кросс-валидации лучшая метрика у модели **LinearSVC**, на ней мы и будем проводить тестирование"
   ]
  },
  {
   "cell_type": "markdown",
   "metadata": {},
   "source": [
    "\n",
    "\n",
    "\n",
    "<div class=\"alert alert-block alert-success\">\n",
    "<b>Успех:</b> Хорошая работа с моделями - выбор модели обоснован\n",
    "</div>\n"
   ]
  },
  {
   "cell_type": "markdown",
   "metadata": {},
   "source": [
    "### Тестирование"
   ]
  },
  {
   "cell_type": "code",
   "execution_count": 41,
   "metadata": {},
   "outputs": [],
   "source": [
    "y_pred = LSVC_model.predict(X_test)"
   ]
  },
  {
   "cell_type": "code",
   "execution_count": 42,
   "metadata": {},
   "outputs": [
    {
     "name": "stdout",
     "output_type": "stream",
     "text": [
      "Метрика LSVC на тестовых данных: 0.7573229185158885\n"
     ]
    }
   ],
   "source": [
    "print('Метрика LSVC на тестовых данных:', f1_score(y_test, y_pred))"
   ]
  },
  {
   "cell_type": "markdown",
   "metadata": {},
   "source": [
    "</div>\n",
    "\n",
    "\n",
    "\n",
    "<div class=\"alert alert-block alert-success\">\n",
    "<b>Успех:</b> На тестовой выборке получено хорошее качество!\n",
    "</div>\n"
   ]
  },
  {
   "cell_type": "markdown",
   "metadata": {},
   "source": [
    "## Вывод"
   ]
  },
  {
   "cell_type": "markdown",
   "metadata": {},
   "source": [
    "Cтояла задача классификации тональности текста. \n",
    "\n",
    "В распоряжении был набор данных с разметкой. \n",
    "\n",
    "Была произведена работа: \n",
    "- Токенизация и лемматизация текста и очистка от стоп-слов. \n",
    "- Подготовка данных для обучения моделей.\n",
    "- Подготовка данных для подбора гиперпараметров.\n",
    "- Подбор гиперпараметров.\n",
    "- Произведен выбор лучшей модели на основе кросс-валидации и метрики F1.\n",
    "- Обучение модели.\n",
    "- Предсказания на тестовых данных.\n",
    "\n",
    "Лучшей моделью оказалась **LinearSVC**. \n",
    "\n",
    "Значение метрики **0.78**"
   ]
  },
  {
   "cell_type": "markdown",
   "metadata": {},
   "source": [
    "## Чек-лист проверки"
   ]
  },
  {
   "cell_type": "markdown",
   "metadata": {},
   "source": [
    "- [x]  Jupyter Notebook открыт\n",
    "- [x]  Весь код выполняется без ошибок\n",
    "- [x]  Ячейки с кодом расположены в порядке исполнения\n",
    "- [x]  Данные загружены и подготовлены\n",
    "- [x]  Модели обучены\n",
    "- [x]  Значение метрики *F1* не меньше 0.75\n",
    "- [x]  Выводы написаны"
   ]
  }
 ],
 "metadata": {
  "ExecuteTimeLog": [
   {
    "duration": 15228,
    "start_time": "2025-05-10T11:52:50.830Z"
   },
   {
    "duration": 1918,
    "start_time": "2025-05-10T11:53:08.994Z"
   },
   {
    "duration": 135,
    "start_time": "2025-05-10T11:53:33.887Z"
   },
   {
    "duration": 6,
    "start_time": "2025-05-10T11:53:56.086Z"
   },
   {
    "duration": 6,
    "start_time": "2025-05-10T11:54:02.814Z"
   },
   {
    "duration": 933,
    "start_time": "2025-05-10T11:55:08.383Z"
   },
   {
    "duration": 9,
    "start_time": "2025-05-10T11:55:15.856Z"
   },
   {
    "duration": 5,
    "start_time": "2025-05-10T11:55:34.960Z"
   },
   {
    "duration": 15,
    "start_time": "2025-05-10T11:55:42.041Z"
   },
   {
    "duration": 976,
    "start_time": "2025-05-10T11:57:49.227Z"
   },
   {
    "duration": 13,
    "start_time": "2025-05-10T11:57:50.642Z"
   },
   {
    "duration": 36,
    "start_time": "2025-05-10T11:58:36.343Z"
   },
   {
    "duration": 30,
    "start_time": "2025-05-10T11:58:54.843Z"
   },
   {
    "duration": 965,
    "start_time": "2025-05-10T12:07:14.753Z"
   },
   {
    "duration": 10,
    "start_time": "2025-05-10T12:07:21.460Z"
   },
   {
    "duration": 3,
    "start_time": "2025-05-10T12:17:56.010Z"
   },
   {
    "duration": 3,
    "start_time": "2025-05-10T12:18:22.210Z"
   },
   {
    "duration": 265,
    "start_time": "2025-05-10T12:27:35.049Z"
   },
   {
    "duration": 6,
    "start_time": "2025-05-10T12:36:45.545Z"
   },
   {
    "duration": 402,
    "start_time": "2025-05-10T12:36:48.673Z"
   },
   {
    "duration": 8190,
    "start_time": "2025-05-10T12:37:17.877Z"
   },
   {
    "duration": 1952,
    "start_time": "2025-05-10T12:37:26.071Z"
   },
   {
    "duration": 177,
    "start_time": "2025-05-10T12:37:28.025Z"
   },
   {
    "duration": 877,
    "start_time": "2025-05-10T12:37:28.204Z"
   },
   {
    "duration": 10,
    "start_time": "2025-05-10T12:37:29.083Z"
   },
   {
    "duration": 4,
    "start_time": "2025-05-10T13:29:48.682Z"
   },
   {
    "duration": 8322,
    "start_time": "2025-05-10T14:21:45.766Z"
   },
   {
    "duration": 1814,
    "start_time": "2025-05-10T14:21:54.091Z"
   },
   {
    "duration": 702,
    "start_time": "2025-05-10T14:21:55.907Z"
   },
   {
    "duration": 947,
    "start_time": "2025-05-10T14:21:56.611Z"
   },
   {
    "duration": 8,
    "start_time": "2025-05-10T14:21:57.560Z"
   },
   {
    "duration": 4,
    "start_time": "2025-05-10T14:22:07.076Z"
   },
   {
    "duration": 5,
    "start_time": "2025-05-10T14:22:12.248Z"
   },
   {
    "duration": 4,
    "start_time": "2025-05-10T14:22:38.847Z"
   },
   {
    "duration": 17,
    "start_time": "2025-05-10T14:22:44.133Z"
   },
   {
    "duration": 3,
    "start_time": "2025-05-10T14:23:03.247Z"
   },
   {
    "duration": 137,
    "start_time": "2025-05-10T14:23:07.797Z"
   },
   {
    "duration": 8404,
    "start_time": "2025-05-10T14:30:13.544Z"
   },
   {
    "duration": 1845,
    "start_time": "2025-05-10T14:30:21.951Z"
   },
   {
    "duration": 206,
    "start_time": "2025-05-10T14:30:23.798Z"
   },
   {
    "duration": 913,
    "start_time": "2025-05-10T14:30:24.006Z"
   },
   {
    "duration": 25,
    "start_time": "2025-05-10T14:30:24.921Z"
   },
   {
    "duration": 4,
    "start_time": "2025-05-10T14:30:24.948Z"
   },
   {
    "duration": 5,
    "start_time": "2025-05-10T14:30:47.267Z"
   },
   {
    "duration": 544679,
    "start_time": "2025-05-10T14:32:53.506Z"
   },
   {
    "duration": 7,
    "start_time": "2025-05-10T14:44:41.226Z"
   },
   {
    "duration": 8223,
    "start_time": "2025-05-10T15:04:43.506Z"
   },
   {
    "duration": 1960,
    "start_time": "2025-05-10T15:04:51.732Z"
   },
   {
    "duration": 259,
    "start_time": "2025-05-10T15:04:53.694Z"
   },
   {
    "duration": 921,
    "start_time": "2025-05-10T15:04:53.955Z"
   },
   {
    "duration": 8,
    "start_time": "2025-05-10T15:04:54.878Z"
   },
   {
    "duration": 3,
    "start_time": "2025-05-10T15:04:59.827Z"
   },
   {
    "duration": 5,
    "start_time": "2025-05-10T15:05:02.902Z"
   },
   {
    "duration": 571239,
    "start_time": "2025-05-10T15:05:25.245Z"
   },
   {
    "duration": 156,
    "start_time": "2025-05-10T15:29:56.688Z"
   },
   {
    "duration": 13,
    "start_time": "2025-05-10T15:30:03.775Z"
   },
   {
    "duration": 177,
    "start_time": "2025-05-10T15:35:26.926Z"
   },
   {
    "duration": 156,
    "start_time": "2025-05-10T15:35:43.896Z"
   },
   {
    "duration": 157,
    "start_time": "2025-05-10T15:36:03.773Z"
   },
   {
    "duration": 55,
    "start_time": "2025-05-10T15:45:24.584Z"
   },
   {
    "duration": 2,
    "start_time": "2025-05-10T16:12:56.654Z"
   },
   {
    "duration": 2,
    "start_time": "2025-05-10T16:15:08.854Z"
   },
   {
    "duration": 65,
    "start_time": "2025-05-10T16:16:11.195Z"
   },
   {
    "duration": 3,
    "start_time": "2025-05-10T16:19:23.173Z"
   },
   {
    "duration": 4657,
    "start_time": "2025-05-10T16:21:38.381Z"
   },
   {
    "duration": 28,
    "start_time": "2025-05-10T16:24:43.801Z"
   },
   {
    "duration": 14843,
    "start_time": "2025-05-12T11:06:54.639Z"
   },
   {
    "duration": 2153,
    "start_time": "2025-05-12T11:07:09.485Z"
   },
   {
    "duration": 904,
    "start_time": "2025-05-12T11:07:11.639Z"
   },
   {
    "duration": 949,
    "start_time": "2025-05-12T11:07:12.545Z"
   },
   {
    "duration": 10,
    "start_time": "2025-05-12T11:07:13.496Z"
   },
   {
    "duration": 45,
    "start_time": "2025-05-12T11:07:13.508Z"
   },
   {
    "duration": 14,
    "start_time": "2025-05-12T11:07:13.555Z"
   },
   {
    "duration": 16,
    "start_time": "2025-05-12T11:07:13.570Z"
   },
   {
    "duration": 573715,
    "start_time": "2025-05-12T11:07:13.587Z"
   },
   {
    "duration": 8,
    "start_time": "2025-05-12T11:16:47.305Z"
   },
   {
    "duration": 242,
    "start_time": "2025-05-12T11:16:47.314Z"
   },
   {
    "duration": 8,
    "start_time": "2025-05-12T11:31:08.289Z"
   },
   {
    "duration": 4,
    "start_time": "2025-05-12T11:31:11.452Z"
   },
   {
    "duration": 158,
    "start_time": "2025-05-12T11:34:43.490Z"
   },
   {
    "duration": 3,
    "start_time": "2025-05-12T11:34:56.466Z"
   },
   {
    "duration": 3,
    "start_time": "2025-05-12T11:35:02.430Z"
   },
   {
    "duration": 76,
    "start_time": "2025-05-12T11:35:03.199Z"
   },
   {
    "duration": 3,
    "start_time": "2025-05-12T11:35:04.262Z"
   },
   {
    "duration": 4720,
    "start_time": "2025-05-12T11:35:05.542Z"
   },
   {
    "duration": 8,
    "start_time": "2025-05-12T11:35:13.832Z"
   },
   {
    "duration": 3,
    "start_time": "2025-05-12T11:35:14.581Z"
   },
   {
    "duration": 36,
    "start_time": "2025-05-12T11:35:15.319Z"
   },
   {
    "duration": 14,
    "start_time": "2025-05-12T11:36:06.931Z"
   },
   {
    "duration": 7,
    "start_time": "2025-05-12T11:37:32.529Z"
   },
   {
    "duration": 41,
    "start_time": "2025-05-12T11:37:39.749Z"
   },
   {
    "duration": 8,
    "start_time": "2025-05-12T11:38:05.944Z"
   },
   {
    "duration": 8806,
    "start_time": "2025-05-12T11:55:35.600Z"
   },
   {
    "duration": 1952,
    "start_time": "2025-05-12T11:55:44.409Z"
   },
   {
    "duration": 291,
    "start_time": "2025-05-12T11:55:46.363Z"
   },
   {
    "duration": 940,
    "start_time": "2025-05-12T11:55:46.656Z"
   },
   {
    "duration": 10,
    "start_time": "2025-05-12T11:55:47.598Z"
   },
   {
    "duration": 47,
    "start_time": "2025-05-12T11:55:47.610Z"
   },
   {
    "duration": 5,
    "start_time": "2025-05-12T11:55:47.658Z"
   },
   {
    "duration": 9,
    "start_time": "2025-05-12T11:55:47.665Z"
   },
   {
    "duration": 583486,
    "start_time": "2025-05-12T11:55:47.677Z"
   },
   {
    "duration": 8,
    "start_time": "2025-05-12T12:05:31.167Z"
   },
   {
    "duration": 205,
    "start_time": "2025-05-12T12:05:31.177Z"
   },
   {
    "duration": 4,
    "start_time": "2025-05-12T12:05:31.384Z"
   },
   {
    "duration": 49,
    "start_time": "2025-05-12T12:05:31.389Z"
   },
   {
    "duration": 166,
    "start_time": "2025-05-12T12:05:31.440Z"
   },
   {
    "duration": 3,
    "start_time": "2025-05-12T12:05:31.608Z"
   },
   {
    "duration": 4614,
    "start_time": "2025-05-12T12:05:31.613Z"
   },
   {
    "duration": 9,
    "start_time": "2025-05-12T12:05:36.229Z"
   },
   {
    "duration": 11,
    "start_time": "2025-05-12T12:05:36.240Z"
   },
   {
    "duration": 932236,
    "start_time": "2025-05-12T12:05:36.262Z"
   },
   {
    "duration": 8,
    "start_time": "2025-05-12T12:21:37.128Z"
   },
   {
    "duration": 7904,
    "start_time": "2025-05-12T12:35:03.997Z"
   },
   {
    "duration": 1829,
    "start_time": "2025-05-12T12:35:11.903Z"
   },
   {
    "duration": 279,
    "start_time": "2025-05-12T12:35:13.734Z"
   },
   {
    "duration": 907,
    "start_time": "2025-05-12T12:35:14.015Z"
   },
   {
    "duration": 9,
    "start_time": "2025-05-12T12:35:14.924Z"
   },
   {
    "duration": 61,
    "start_time": "2025-05-12T12:35:14.935Z"
   },
   {
    "duration": 78,
    "start_time": "2025-05-12T12:35:14.998Z"
   },
   {
    "duration": 38,
    "start_time": "2025-05-12T12:35:15.078Z"
   },
   {
    "duration": 541631,
    "start_time": "2025-05-12T12:35:15.117Z"
   },
   {
    "duration": 15,
    "start_time": "2025-05-12T12:44:16.750Z"
   },
   {
    "duration": 206,
    "start_time": "2025-05-12T12:44:16.767Z"
   },
   {
    "duration": 2,
    "start_time": "2025-05-12T12:44:16.977Z"
   },
   {
    "duration": 39,
    "start_time": "2025-05-12T12:44:16.982Z"
   },
   {
    "duration": 107,
    "start_time": "2025-05-12T12:44:17.023Z"
   },
   {
    "duration": 2,
    "start_time": "2025-05-12T12:44:17.132Z"
   },
   {
    "duration": 4669,
    "start_time": "2025-05-12T12:44:17.136Z"
   },
   {
    "duration": 8,
    "start_time": "2025-05-12T12:44:21.807Z"
   },
   {
    "duration": 43,
    "start_time": "2025-05-12T12:44:21.817Z"
   },
   {
    "duration": 50096,
    "start_time": "2025-05-12T12:46:56.301Z"
   },
   {
    "duration": 196281,
    "start_time": "2025-05-12T12:49:18.048Z"
   },
   {
    "duration": 135,
    "start_time": "2025-05-12T12:56:42.538Z"
   },
   {
    "duration": 4,
    "start_time": "2025-05-12T12:58:00.159Z"
   },
   {
    "duration": 130,
    "start_time": "2025-05-12T13:02:28.438Z"
   },
   {
    "duration": 8,
    "start_time": "2025-05-12T13:04:50.926Z"
   },
   {
    "duration": 3,
    "start_time": "2025-05-12T13:04:52.923Z"
   },
   {
    "duration": 99,
    "start_time": "2025-05-12T13:04:56.203Z"
   },
   {
    "duration": 8278,
    "start_time": "2025-05-12T13:08:41.199Z"
   },
   {
    "duration": 8348,
    "start_time": "2025-05-12T13:09:13.571Z"
   },
   {
    "duration": 1752,
    "start_time": "2025-05-12T13:09:21.922Z"
   },
   {
    "duration": 209,
    "start_time": "2025-05-12T13:09:23.675Z"
   },
   {
    "duration": 878,
    "start_time": "2025-05-12T13:09:23.886Z"
   },
   {
    "duration": 10,
    "start_time": "2025-05-12T13:09:24.766Z"
   },
   {
    "duration": 81,
    "start_time": "2025-05-12T13:09:24.778Z"
   },
   {
    "duration": 3,
    "start_time": "2025-05-12T13:09:24.860Z"
   },
   {
    "duration": 4,
    "start_time": "2025-05-12T13:09:24.865Z"
   },
   {
    "duration": 538325,
    "start_time": "2025-05-12T13:09:24.870Z"
   },
   {
    "duration": 7,
    "start_time": "2025-05-12T13:18:23.197Z"
   },
   {
    "duration": 172,
    "start_time": "2025-05-12T13:18:23.206Z"
   },
   {
    "duration": 2,
    "start_time": "2025-05-12T13:18:23.380Z"
   },
   {
    "duration": 9,
    "start_time": "2025-05-12T13:18:23.383Z"
   },
   {
    "duration": 72,
    "start_time": "2025-05-12T13:18:23.393Z"
   },
   {
    "duration": 2,
    "start_time": "2025-05-12T13:18:23.467Z"
   },
   {
    "duration": 4327,
    "start_time": "2025-05-12T13:18:23.471Z"
   },
   {
    "duration": 7,
    "start_time": "2025-05-12T13:19:39.072Z"
   },
   {
    "duration": 6,
    "start_time": "2025-05-12T13:23:24.658Z"
   },
   {
    "duration": 4,
    "start_time": "2025-05-12T13:23:34.882Z"
   },
   {
    "duration": 0,
    "start_time": "2025-05-12T13:47:10.281Z"
   },
   {
    "duration": 16707,
    "start_time": "2025-05-12T13:47:13.062Z"
   },
   {
    "duration": 1508701,
    "start_time": "2025-05-12T13:47:33.369Z"
   },
   {
    "duration": 1093598,
    "start_time": "2025-05-12T14:12:46.563Z"
   },
   {
    "duration": 10,
    "start_time": "2025-05-12T14:31:53.663Z"
   },
   {
    "duration": 5,
    "start_time": "2025-05-12T14:32:37.863Z"
   },
   {
    "duration": 905,
    "start_time": "2025-05-12T14:32:43.863Z"
   },
   {
    "duration": 10,
    "start_time": "2025-05-12T14:33:23.263Z"
   },
   {
    "duration": 5,
    "start_time": "2025-05-12T14:33:26.863Z"
   },
   {
    "duration": 0,
    "start_time": "2025-05-12T14:34:27.167Z"
   },
   {
    "duration": 0,
    "start_time": "2025-05-12T14:34:27.262Z"
   },
   {
    "duration": 0,
    "start_time": "2025-05-12T14:34:27.266Z"
   },
   {
    "duration": 104,
    "start_time": "2025-05-12T14:34:31.963Z"
   },
   {
    "duration": 6,
    "start_time": "2025-05-12T14:34:33.163Z"
   },
   {
    "duration": 95205,
    "start_time": "2025-05-12T14:34:33.968Z"
   },
   {
    "duration": 211600,
    "start_time": "2025-05-12T14:36:10.764Z"
   },
   {
    "duration": 100,
    "start_time": "2025-05-12T14:40:05.263Z"
   },
   {
    "duration": 199,
    "start_time": "2025-05-12T14:40:05.765Z"
   },
   {
    "duration": 7701,
    "start_time": "2025-05-12T14:40:17.263Z"
   },
   {
    "duration": 109,
    "start_time": "2025-05-12T14:41:18.964Z"
   },
   {
    "duration": 8526,
    "start_time": "2025-05-12T14:43:12.293Z"
   },
   {
    "duration": 1990,
    "start_time": "2025-05-12T14:43:20.821Z"
   },
   {
    "duration": 294,
    "start_time": "2025-05-12T14:43:22.813Z"
   },
   {
    "duration": 937,
    "start_time": "2025-05-12T14:43:23.109Z"
   },
   {
    "duration": 19,
    "start_time": "2025-05-12T14:43:24.048Z"
   },
   {
    "duration": 42,
    "start_time": "2025-05-12T14:43:24.068Z"
   },
   {
    "duration": 5,
    "start_time": "2025-05-12T14:43:24.113Z"
   },
   {
    "duration": 7,
    "start_time": "2025-05-12T14:43:24.120Z"
   },
   {
    "duration": 589089,
    "start_time": "2025-05-12T14:43:24.129Z"
   },
   {
    "duration": 7,
    "start_time": "2025-05-12T14:53:13.221Z"
   },
   {
    "duration": 186,
    "start_time": "2025-05-12T14:53:13.231Z"
   },
   {
    "duration": 3,
    "start_time": "2025-05-12T14:53:13.420Z"
   },
   {
    "duration": 18,
    "start_time": "2025-05-12T14:53:13.425Z"
   },
   {
    "duration": 71,
    "start_time": "2025-05-12T14:53:13.445Z"
   },
   {
    "duration": 4,
    "start_time": "2025-05-12T14:53:13.517Z"
   },
   {
    "duration": 4652,
    "start_time": "2025-05-12T14:53:13.522Z"
   },
   {
    "duration": 7,
    "start_time": "2025-05-12T14:59:05.955Z"
   },
   {
    "duration": 3,
    "start_time": "2025-05-12T14:59:21.832Z"
   },
   {
    "duration": 2406614,
    "start_time": "2025-05-12T14:59:23.887Z"
   },
   {
    "duration": 135,
    "start_time": "2025-05-12T15:40:00.339Z"
   },
   {
    "duration": 2,
    "start_time": "2025-05-12T15:40:35.899Z"
   },
   {
    "duration": 43,
    "start_time": "2025-05-12T15:40:40.029Z"
   },
   {
    "duration": 13,
    "start_time": "2025-05-12T15:41:41.849Z"
   },
   {
    "duration": 3,
    "start_time": "2025-05-12T15:41:54.140Z"
   },
   {
    "duration": 3,
    "start_time": "2025-05-12T15:42:04.421Z"
   },
   {
    "duration": 6,
    "start_time": "2025-05-12T15:42:28.288Z"
   },
   {
    "duration": 10,
    "start_time": "2025-05-12T15:56:49.975Z"
   },
   {
    "duration": 11,
    "start_time": "2025-05-12T15:56:55.111Z"
   },
   {
    "duration": 2245,
    "start_time": "2025-05-12T15:59:19.756Z"
   },
   {
    "duration": 3,
    "start_time": "2025-05-12T16:00:35.863Z"
   },
   {
    "duration": 19,
    "start_time": "2025-05-12T16:01:06.702Z"
   },
   {
    "duration": 12,
    "start_time": "2025-05-12T16:06:23.642Z"
   },
   {
    "duration": 3,
    "start_time": "2025-05-12T16:07:19.490Z"
   },
   {
    "duration": 12,
    "start_time": "2025-05-12T16:07:20.244Z"
   },
   {
    "duration": 3,
    "start_time": "2025-05-12T16:07:49.296Z"
   },
   {
    "duration": 12,
    "start_time": "2025-05-12T16:07:49.650Z"
   },
   {
    "duration": 2267,
    "start_time": "2025-05-12T16:10:28.048Z"
   },
   {
    "duration": 5,
    "start_time": "2025-05-12T16:11:19.209Z"
   },
   {
    "duration": 6005,
    "start_time": "2025-05-12T16:15:25.090Z"
   },
   {
    "duration": 2221,
    "start_time": "2025-05-12T16:15:41.978Z"
   },
   {
    "duration": 281,
    "start_time": "2025-05-12T16:15:44.201Z"
   },
   {
    "duration": 921,
    "start_time": "2025-05-12T16:15:44.484Z"
   },
   {
    "duration": 10,
    "start_time": "2025-05-12T16:15:45.407Z"
   },
   {
    "duration": 33,
    "start_time": "2025-05-12T16:15:46.099Z"
   },
   {
    "duration": 3,
    "start_time": "2025-05-12T16:15:46.888Z"
   },
   {
    "duration": 5,
    "start_time": "2025-05-12T16:15:47.066Z"
   },
   {
    "duration": 549702,
    "start_time": "2025-05-12T16:15:47.609Z"
   },
   {
    "duration": 7,
    "start_time": "2025-05-12T16:24:57.313Z"
   },
   {
    "duration": 185,
    "start_time": "2025-05-12T16:24:57.322Z"
   },
   {
    "duration": 2,
    "start_time": "2025-05-12T16:24:57.510Z"
   },
   {
    "duration": 19,
    "start_time": "2025-05-12T16:24:57.514Z"
   },
   {
    "duration": 63,
    "start_time": "2025-05-12T16:24:57.535Z"
   },
   {
    "duration": 3,
    "start_time": "2025-05-12T16:24:57.599Z"
   },
   {
    "duration": 19,
    "start_time": "2025-05-12T16:24:57.604Z"
   },
   {
    "duration": 4,
    "start_time": "2025-05-12T16:24:57.624Z"
   },
   {
    "duration": 8,
    "start_time": "2025-05-12T16:24:57.630Z"
   },
   {
    "duration": 7,
    "start_time": "2025-05-12T16:24:57.640Z"
   },
   {
    "duration": 4,
    "start_time": "2025-05-12T16:24:57.648Z"
   },
   {
    "duration": 5,
    "start_time": "2025-05-12T16:24:57.653Z"
   },
   {
    "duration": 3,
    "start_time": "2025-05-12T16:24:57.662Z"
   },
   {
    "duration": 185,
    "start_time": "2025-05-12T16:25:20.989Z"
   },
   {
    "duration": 3,
    "start_time": "2025-05-12T16:26:02.315Z"
   },
   {
    "duration": 3,
    "start_time": "2025-05-12T16:27:13.282Z"
   },
   {
    "duration": 3,
    "start_time": "2025-05-12T16:28:42.931Z"
   },
   {
    "duration": 127,
    "start_time": "2025-05-12T16:28:59.609Z"
   },
   {
    "duration": 3,
    "start_time": "2025-05-12T16:37:24.873Z"
   },
   {
    "duration": 14,
    "start_time": "2025-05-12T16:37:28.177Z"
   },
   {
    "duration": 12,
    "start_time": "2025-05-12T16:37:47.193Z"
   },
   {
    "duration": 7,
    "start_time": "2025-05-12T16:38:18.003Z"
   },
   {
    "duration": 75,
    "start_time": "2025-05-12T16:38:54.719Z"
   },
   {
    "duration": 14,
    "start_time": "2025-05-12T16:39:17.603Z"
   },
   {
    "duration": 3,
    "start_time": "2025-05-12T16:39:53.435Z"
   },
   {
    "duration": 15,
    "start_time": "2025-05-12T16:39:54.033Z"
   },
   {
    "duration": 4,
    "start_time": "2025-05-12T16:46:59.158Z"
   },
   {
    "duration": 3,
    "start_time": "2025-05-12T16:47:04.070Z"
   },
   {
    "duration": 11,
    "start_time": "2025-05-12T16:47:18.889Z"
   },
   {
    "duration": 3,
    "start_time": "2025-05-12T16:48:10.321Z"
   },
   {
    "duration": 3,
    "start_time": "2025-05-12T16:48:12.879Z"
   },
   {
    "duration": 11,
    "start_time": "2025-05-12T16:48:13.358Z"
   },
   {
    "duration": 5,
    "start_time": "2025-05-12T16:48:37.939Z"
   },
   {
    "duration": 13,
    "start_time": "2025-05-12T16:48:41.391Z"
   },
   {
    "duration": 10,
    "start_time": "2025-05-12T16:49:42.988Z"
   },
   {
    "duration": 10,
    "start_time": "2025-05-12T16:50:19.477Z"
   },
   {
    "duration": 6,
    "start_time": "2025-05-12T16:50:24.356Z"
   },
   {
    "duration": 3,
    "start_time": "2025-05-12T16:50:24.847Z"
   },
   {
    "duration": 100,
    "start_time": "2025-05-12T16:50:25.349Z"
   },
   {
    "duration": 4197,
    "start_time": "2025-05-12T16:50:45.704Z"
   },
   {
    "duration": 6,
    "start_time": "2025-05-12T16:50:59.698Z"
   },
   {
    "duration": 4,
    "start_time": "2025-05-12T16:51:00.178Z"
   },
   {
    "duration": 954500,
    "start_time": "2025-05-12T16:51:00.665Z"
   },
   {
    "duration": 0,
    "start_time": "2025-05-12T17:06:55.268Z"
   },
   {
    "duration": 102,
    "start_time": "2025-05-12T17:07:00.166Z"
   },
   {
    "duration": 6,
    "start_time": "2025-05-12T17:07:28.264Z"
   },
   {
    "duration": 87409,
    "start_time": "2025-05-12T17:08:28.764Z"
   },
   {
    "duration": 103,
    "start_time": "2025-05-12T17:09:59.164Z"
   },
   {
    "duration": 100,
    "start_time": "2025-05-12T17:09:59.765Z"
   },
   {
    "duration": 873602,
    "start_time": "2025-05-12T17:10:00.162Z"
   },
   {
    "duration": 398,
    "start_time": "2025-05-12T17:25:14.963Z"
   },
   {
    "duration": 8,
    "start_time": "2025-05-12T17:25:36.163Z"
   },
   {
    "duration": 404,
    "start_time": "2025-05-12T17:25:50.065Z"
   },
   {
    "duration": 1502,
    "start_time": "2025-05-12T17:26:40.065Z"
   },
   {
    "duration": 297,
    "start_time": "2025-05-12T17:27:28.264Z"
   },
   {
    "duration": 205,
    "start_time": "2025-05-12T17:28:15.964Z"
   },
   {
    "duration": 4,
    "start_time": "2025-05-12T17:29:07.663Z"
   },
   {
    "duration": 407,
    "start_time": "2025-05-12T17:29:14.363Z"
   },
   {
    "duration": 207,
    "start_time": "2025-05-12T17:30:02.664Z"
   },
   {
    "duration": 98,
    "start_time": "2025-05-12T17:30:18.863Z"
   },
   {
    "duration": 9,
    "start_time": "2025-05-12T17:30:19.361Z"
   },
   {
    "duration": 910608,
    "start_time": "2025-05-12T17:30:19.563Z"
   },
   {
    "duration": 0,
    "start_time": "2025-05-12T17:45:30.866Z"
   },
   {
    "duration": 109,
    "start_time": "2025-05-12T17:45:31.264Z"
   },
   {
    "duration": 295,
    "start_time": "2025-05-12T17:45:35.867Z"
   },
   {
    "duration": 7,
    "start_time": "2025-05-12T17:45:41.163Z"
   },
   {
    "duration": 100698,
    "start_time": "2025-05-12T17:45:44.763Z"
   },
   {
    "duration": 297,
    "start_time": "2025-05-12T17:52:36.565Z"
   },
   {
    "duration": 468603,
    "start_time": "2025-05-12T17:52:55.964Z"
   },
   {
    "duration": 592,
    "start_time": "2025-05-12T18:02:54.269Z"
   },
   {
    "duration": 4,
    "start_time": "2025-05-12T18:03:12.263Z"
   },
   {
    "duration": 598,
    "start_time": "2025-05-12T18:03:13.263Z"
   },
   {
    "duration": 4,
    "start_time": "2025-05-12T18:03:24.463Z"
   },
   {
    "duration": 903,
    "start_time": "2025-05-12T18:03:26.966Z"
   },
   {
    "duration": 2200,
    "start_time": "2025-05-12T18:11:25.464Z"
   },
   {
    "duration": 390,
    "start_time": "2025-05-12T18:12:12.572Z"
   },
   {
    "duration": 697,
    "start_time": "2025-05-12T18:12:32.565Z"
   },
   {
    "duration": 2989,
    "start_time": "2025-05-12T18:22:55.357Z"
   },
   {
    "duration": 1890,
    "start_time": "2025-05-12T18:23:16.351Z"
   },
   {
    "duration": 211,
    "start_time": "2025-05-12T18:23:18.243Z"
   },
   {
    "duration": 901,
    "start_time": "2025-05-12T18:23:18.456Z"
   },
   {
    "duration": 8,
    "start_time": "2025-05-12T18:23:19.361Z"
   },
   {
    "duration": 31,
    "start_time": "2025-05-12T18:23:19.371Z"
   },
   {
    "duration": 3,
    "start_time": "2025-05-12T18:23:19.404Z"
   },
   {
    "duration": 5,
    "start_time": "2025-05-12T18:23:19.409Z"
   },
   {
    "duration": 547411,
    "start_time": "2025-05-12T18:23:19.415Z"
   },
   {
    "duration": 7,
    "start_time": "2025-05-12T18:32:26.828Z"
   },
   {
    "duration": 181,
    "start_time": "2025-05-12T18:32:26.837Z"
   },
   {
    "duration": 2,
    "start_time": "2025-05-12T18:32:27.021Z"
   },
   {
    "duration": 8,
    "start_time": "2025-05-12T18:32:27.025Z"
   },
   {
    "duration": 78,
    "start_time": "2025-05-12T18:32:27.035Z"
   },
   {
    "duration": 134,
    "start_time": "2025-05-12T18:32:27.115Z"
   },
   {
    "duration": 2,
    "start_time": "2025-05-12T18:32:34.823Z"
   },
   {
    "duration": 4213,
    "start_time": "2025-05-12T18:32:37.969Z"
   },
   {
    "duration": 3,
    "start_time": "2025-05-12T18:32:47.775Z"
   },
   {
    "duration": 2,
    "start_time": "2025-05-12T18:32:47.922Z"
   },
   {
    "duration": 3,
    "start_time": "2025-05-12T18:32:48.083Z"
   },
   {
    "duration": 3,
    "start_time": "2025-05-12T18:32:51.042Z"
   },
   {
    "duration": 12,
    "start_time": "2025-05-12T18:32:51.787Z"
   },
   {
    "duration": 715,
    "start_time": "2025-05-12T18:33:24.228Z"
   },
   {
    "duration": 70,
    "start_time": "2025-05-12T18:34:04.253Z"
   },
   {
    "duration": 767,
    "start_time": "2025-05-12T18:34:09.176Z"
   },
   {
    "duration": 10,
    "start_time": "2025-05-12T18:34:53.623Z"
   },
   {
    "duration": 55219,
    "start_time": "2025-05-12T18:34:54.143Z"
   },
   {
    "duration": 11,
    "start_time": "2025-05-12T18:35:53.251Z"
   },
   {
    "duration": 1412837,
    "start_time": "2025-05-12T18:35:53.716Z"
   },
   {
    "duration": 19,
    "start_time": "2025-05-12T19:10:31.544Z"
   },
   {
    "duration": 62,
    "start_time": "2025-05-12T19:11:29.019Z"
   },
   {
    "duration": 365,
    "start_time": "2025-05-12T19:12:35.154Z"
   },
   {
    "duration": 3,
    "start_time": "2025-05-12T19:13:09.703Z"
   },
   {
    "duration": 11,
    "start_time": "2025-05-12T19:13:36.836Z"
   },
   {
    "duration": 21823,
    "start_time": "2025-05-12T19:13:41.963Z"
   },
   {
    "duration": 26669,
    "start_time": "2025-05-12T19:14:32.279Z"
   },
   {
    "duration": 12,
    "start_time": "2025-05-12T19:17:20.853Z"
   },
   {
    "duration": 26852,
    "start_time": "2025-05-12T19:17:25.395Z"
   },
   {
    "duration": 140437,
    "start_time": "2025-05-12T19:18:36.402Z"
   },
   {
    "duration": 567316,
    "start_time": "2025-05-12T19:21:28.669Z"
   },
   {
    "duration": 54,
    "start_time": "2025-05-12T19:31:05.059Z"
   },
   {
    "duration": 7,
    "start_time": "2025-05-12T19:31:52.031Z"
   },
   {
    "duration": 3,
    "start_time": "2025-05-12T19:31:54.660Z"
   },
   {
    "duration": 154019,
    "start_time": "2025-05-12T19:32:39.308Z"
   },
   {
    "duration": 93,
    "start_time": "2025-05-12T19:36:06.691Z"
   },
   {
    "duration": 3,
    "start_time": "2025-05-12T19:38:04.583Z"
   },
   {
    "duration": 85,
    "start_time": "2025-05-12T19:38:05.700Z"
   },
   {
    "duration": 7,
    "start_time": "2025-05-12T19:39:12.809Z"
   },
   {
    "duration": 114,
    "start_time": "2025-05-12T19:39:17.074Z"
   },
   {
    "duration": 351725,
    "start_time": "2025-05-12T19:40:50.804Z"
   },
   {
    "duration": 8120,
    "start_time": "2025-05-13T12:04:24.067Z"
   },
   {
    "duration": 1542,
    "start_time": "2025-05-13T12:04:32.189Z"
   },
   {
    "duration": 0,
    "start_time": "2025-05-13T12:04:33.733Z"
   },
   {
    "duration": 7619,
    "start_time": "2025-05-13T12:04:39.272Z"
   },
   {
    "duration": 848,
    "start_time": "2025-05-13T12:04:46.894Z"
   },
   {
    "duration": 587,
    "start_time": "2025-05-13T12:04:47.743Z"
   },
   {
    "duration": 1006,
    "start_time": "2025-05-13T12:04:48.332Z"
   },
   {
    "duration": 10,
    "start_time": "2025-05-13T12:04:49.340Z"
   },
   {
    "duration": 58,
    "start_time": "2025-05-13T12:04:49.352Z"
   },
   {
    "duration": 118,
    "start_time": "2025-05-13T12:04:49.412Z"
   },
   {
    "duration": 15,
    "start_time": "2025-05-13T12:04:49.532Z"
   },
   {
    "duration": 658257,
    "start_time": "2025-05-13T12:04:49.549Z"
   },
   {
    "duration": 9,
    "start_time": "2025-05-13T12:15:47.809Z"
   },
   {
    "duration": 214,
    "start_time": "2025-05-13T12:15:47.819Z"
   },
   {
    "duration": 2,
    "start_time": "2025-05-13T12:15:48.035Z"
   },
   {
    "duration": 22,
    "start_time": "2025-05-13T12:15:48.039Z"
   },
   {
    "duration": 91,
    "start_time": "2025-05-13T12:15:48.062Z"
   },
   {
    "duration": 180,
    "start_time": "2025-05-13T14:09:54.090Z"
   },
   {
    "duration": 3,
    "start_time": "2025-05-13T14:10:24.234Z"
   },
   {
    "duration": 6311,
    "start_time": "2025-05-13T14:11:08.399Z"
   },
   {
    "duration": 2044,
    "start_time": "2025-05-13T14:11:14.713Z"
   },
   {
    "duration": 272,
    "start_time": "2025-05-13T14:11:16.758Z"
   },
   {
    "duration": 1013,
    "start_time": "2025-05-13T14:11:17.032Z"
   },
   {
    "duration": 14,
    "start_time": "2025-05-13T14:11:18.047Z"
   },
   {
    "duration": 220,
    "start_time": "2025-05-13T14:11:18.063Z"
   },
   {
    "duration": 65,
    "start_time": "2025-05-13T14:11:18.284Z"
   },
   {
    "duration": 19,
    "start_time": "2025-05-13T14:11:18.350Z"
   },
   {
    "duration": 647741,
    "start_time": "2025-05-13T14:11:18.370Z"
   },
   {
    "duration": 8,
    "start_time": "2025-05-13T14:22:06.113Z"
   },
   {
    "duration": 372,
    "start_time": "2025-05-13T14:22:06.123Z"
   },
   {
    "duration": 3,
    "start_time": "2025-05-13T14:23:04.597Z"
   },
   {
    "duration": 4,
    "start_time": "2025-05-13T14:23:05.098Z"
   },
   {
    "duration": 84,
    "start_time": "2025-05-13T14:23:07.475Z"
   },
   {
    "duration": 58,
    "start_time": "2025-05-13T14:23:10.350Z"
   },
   {
    "duration": 3,
    "start_time": "2025-05-13T14:23:12.272Z"
   },
   {
    "duration": 3,
    "start_time": "2025-05-13T14:23:12.827Z"
   },
   {
    "duration": 3,
    "start_time": "2025-05-13T14:23:14.329Z"
   },
   {
    "duration": 8,
    "start_time": "2025-05-13T14:24:37.514Z"
   },
   {
    "duration": 3,
    "start_time": "2025-05-13T14:31:19.097Z"
   },
   {
    "duration": 3,
    "start_time": "2025-05-13T14:31:46.734Z"
   },
   {
    "duration": 5,
    "start_time": "2025-05-13T14:32:12.710Z"
   },
   {
    "duration": 5,
    "start_time": "2025-05-13T14:36:39.849Z"
   },
   {
    "duration": 221088,
    "start_time": "2025-05-13T14:37:00.191Z"
   },
   {
    "duration": 4,
    "start_time": "2025-05-13T14:41:42.396Z"
   },
   {
    "duration": 6,
    "start_time": "2025-05-13T14:43:14.204Z"
   },
   {
    "duration": 98391,
    "start_time": "2025-05-13T14:44:06.694Z"
   },
   {
    "duration": 5,
    "start_time": "2025-05-13T14:46:54.260Z"
   },
   {
    "duration": 456969,
    "start_time": "2025-05-13T14:47:16.511Z"
   },
   {
    "duration": 143,
    "start_time": "2025-05-13T14:56:29.195Z"
   },
   {
    "duration": 4,
    "start_time": "2025-05-13T14:56:34.510Z"
   },
   {
    "duration": 5,
    "start_time": "2025-05-13T14:56:45.353Z"
   },
   {
    "duration": 12,
    "start_time": "2025-05-13T14:56:53.713Z"
   },
   {
    "duration": 12,
    "start_time": "2025-05-13T14:58:27.513Z"
   },
   {
    "duration": 8,
    "start_time": "2025-05-13T14:59:58.064Z"
   },
   {
    "duration": 6,
    "start_time": "2025-05-13T15:00:06.026Z"
   },
   {
    "duration": 8,
    "start_time": "2025-05-13T15:02:08.531Z"
   },
   {
    "duration": 14,
    "start_time": "2025-05-13T15:04:40.959Z"
   },
   {
    "duration": 9,
    "start_time": "2025-05-13T15:05:28.762Z"
   },
   {
    "duration": 8,
    "start_time": "2025-05-13T15:06:19.659Z"
   },
   {
    "duration": 13,
    "start_time": "2025-05-13T15:07:00.549Z"
   },
   {
    "duration": 4,
    "start_time": "2025-05-13T15:07:24.993Z"
   },
   {
    "duration": 5,
    "start_time": "2025-05-13T15:12:09.863Z"
   },
   {
    "duration": 8,
    "start_time": "2025-05-13T15:18:51.301Z"
   },
   {
    "duration": 4,
    "start_time": "2025-05-13T15:21:02.043Z"
   },
   {
    "duration": 3,
    "start_time": "2025-05-13T15:28:52.061Z"
   },
   {
    "duration": 4,
    "start_time": "2025-05-13T15:53:31.876Z"
   },
   {
    "duration": 6817,
    "start_time": "2025-05-13T15:55:47.470Z"
   },
   {
    "duration": 4651,
    "start_time": "2025-05-13T15:55:54.290Z"
   },
   {
    "duration": 294,
    "start_time": "2025-05-13T15:55:58.943Z"
   },
   {
    "duration": 1001,
    "start_time": "2025-05-13T15:55:59.239Z"
   },
   {
    "duration": 10,
    "start_time": "2025-05-13T15:56:00.241Z"
   },
   {
    "duration": 79,
    "start_time": "2025-05-13T15:56:00.253Z"
   },
   {
    "duration": 53,
    "start_time": "2025-05-13T15:56:00.334Z"
   },
   {
    "duration": 61,
    "start_time": "2025-05-13T15:56:00.389Z"
   },
   {
    "duration": 664899,
    "start_time": "2025-05-13T15:56:00.452Z"
   },
   {
    "duration": 14,
    "start_time": "2025-05-13T16:07:05.364Z"
   },
   {
    "duration": 60,
    "start_time": "2025-05-13T16:07:05.380Z"
   },
   {
    "duration": 236,
    "start_time": "2025-05-13T16:07:05.441Z"
   },
   {
    "duration": 11,
    "start_time": "2025-05-13T16:07:05.678Z"
   },
   {
    "duration": 139,
    "start_time": "2025-05-13T16:07:05.690Z"
   },
   {
    "duration": 85,
    "start_time": "2025-05-13T16:07:05.831Z"
   },
   {
    "duration": 5,
    "start_time": "2025-05-13T16:07:05.918Z"
   },
   {
    "duration": 18,
    "start_time": "2025-05-13T16:07:05.924Z"
   },
   {
    "duration": 89,
    "start_time": "2025-05-13T16:07:05.944Z"
   },
   {
    "duration": 5,
    "start_time": "2025-05-13T16:07:06.035Z"
   },
   {
    "duration": 185,
    "start_time": "2025-05-13T16:07:06.042Z"
   },
   {
    "duration": 45,
    "start_time": "2025-05-13T16:07:06.228Z"
   },
   {
    "duration": 4,
    "start_time": "2025-05-13T16:07:06.275Z"
   },
   {
    "duration": 70,
    "start_time": "2025-05-13T16:07:06.281Z"
   },
   {
    "duration": 21,
    "start_time": "2025-05-13T16:07:06.482Z"
   },
   {
    "duration": 18,
    "start_time": "2025-05-13T16:07:06.505Z"
   },
   {
    "duration": 20,
    "start_time": "2025-05-13T16:07:06.525Z"
   },
   {
    "duration": 26,
    "start_time": "2025-05-13T16:07:06.546Z"
   },
   {
    "duration": 118269,
    "start_time": "2025-05-13T16:11:31.801Z"
   },
   {
    "duration": 132130,
    "start_time": "2025-05-13T16:18:31.893Z"
   },
   {
    "duration": 53,
    "start_time": "2025-05-13T16:25:20.919Z"
   },
   {
    "duration": 6380,
    "start_time": "2025-05-13T16:25:42.154Z"
   },
   {
    "duration": 3043,
    "start_time": "2025-05-13T16:25:48.537Z"
   },
   {
    "duration": 372,
    "start_time": "2025-05-13T16:25:51.582Z"
   },
   {
    "duration": 994,
    "start_time": "2025-05-13T16:25:51.956Z"
   },
   {
    "duration": 16,
    "start_time": "2025-05-13T16:25:52.951Z"
   },
   {
    "duration": 55,
    "start_time": "2025-05-13T16:25:52.969Z"
   },
   {
    "duration": 11,
    "start_time": "2025-05-13T16:25:53.026Z"
   },
   {
    "duration": 24,
    "start_time": "2025-05-13T16:25:53.039Z"
   },
   {
    "duration": 687210,
    "start_time": "2025-05-13T16:25:53.065Z"
   },
   {
    "duration": 11,
    "start_time": "2025-05-13T16:37:20.280Z"
   },
   {
    "duration": 72,
    "start_time": "2025-05-13T16:37:20.294Z"
   },
   {
    "duration": 324,
    "start_time": "2025-05-13T16:37:20.368Z"
   },
   {
    "duration": 27,
    "start_time": "2025-05-13T16:37:20.694Z"
   },
   {
    "duration": 151,
    "start_time": "2025-05-13T16:37:20.723Z"
   },
   {
    "duration": 96,
    "start_time": "2025-05-13T16:37:20.876Z"
   },
   {
    "duration": 164,
    "start_time": "2025-05-13T16:37:20.974Z"
   },
   {
    "duration": 71,
    "start_time": "2025-05-13T16:37:21.139Z"
   },
   {
    "duration": 104,
    "start_time": "2025-05-13T16:37:21.212Z"
   },
   {
    "duration": 4,
    "start_time": "2025-05-13T16:37:21.318Z"
   },
   {
    "duration": 28,
    "start_time": "2025-05-13T16:37:21.323Z"
   },
   {
    "duration": 22,
    "start_time": "2025-05-13T16:37:21.352Z"
   },
   {
    "duration": 8,
    "start_time": "2025-05-13T16:37:21.376Z"
   },
   {
    "duration": 143,
    "start_time": "2025-05-13T16:37:21.386Z"
   },
   {
    "duration": 172,
    "start_time": "2025-05-13T16:37:21.531Z"
   },
   {
    "duration": 38,
    "start_time": "2025-05-13T16:37:21.705Z"
   },
   {
    "duration": 72,
    "start_time": "2025-05-13T16:37:21.745Z"
   },
   {
    "duration": 174,
    "start_time": "2025-05-13T16:37:21.818Z"
   },
   {
    "duration": 115894,
    "start_time": "2025-05-13T16:37:40.909Z"
   },
   {
    "duration": 7039,
    "start_time": "2025-05-13T16:49:02.494Z"
   },
   {
    "duration": 3284,
    "start_time": "2025-05-13T16:49:09.535Z"
   },
   {
    "duration": 352,
    "start_time": "2025-05-13T16:49:12.820Z"
   },
   {
    "duration": 1039,
    "start_time": "2025-05-13T16:49:13.177Z"
   },
   {
    "duration": 9,
    "start_time": "2025-05-13T16:49:14.218Z"
   },
   {
    "duration": 60,
    "start_time": "2025-05-13T16:49:14.229Z"
   },
   {
    "duration": 4,
    "start_time": "2025-05-13T16:49:14.291Z"
   },
   {
    "duration": 108,
    "start_time": "2025-05-13T16:49:14.297Z"
   },
   {
    "duration": 721325,
    "start_time": "2025-05-13T16:49:14.407Z"
   },
   {
    "duration": 8,
    "start_time": "2025-05-13T17:01:15.735Z"
   },
   {
    "duration": 19,
    "start_time": "2025-05-13T17:01:15.774Z"
   },
   {
    "duration": 209,
    "start_time": "2025-05-13T17:01:15.795Z"
   },
   {
    "duration": 26,
    "start_time": "2025-05-13T17:01:16.006Z"
   },
   {
    "duration": 78,
    "start_time": "2025-05-13T17:01:16.034Z"
   },
   {
    "duration": 78,
    "start_time": "2025-05-13T17:01:16.114Z"
   },
   {
    "duration": 5,
    "start_time": "2025-05-13T17:01:16.194Z"
   },
   {
    "duration": 19,
    "start_time": "2025-05-13T17:01:16.201Z"
   },
   {
    "duration": 84,
    "start_time": "2025-05-13T17:01:16.222Z"
   },
   {
    "duration": 3,
    "start_time": "2025-05-13T17:01:16.308Z"
   },
   {
    "duration": 11,
    "start_time": "2025-05-13T17:01:16.313Z"
   },
   {
    "duration": 3,
    "start_time": "2025-05-13T17:01:16.326Z"
   },
   {
    "duration": 71,
    "start_time": "2025-05-13T17:01:16.330Z"
   },
   {
    "duration": 4,
    "start_time": "2025-05-13T17:05:47.529Z"
   },
   {
    "duration": 5,
    "start_time": "2025-05-13T17:05:49.092Z"
   },
   {
    "duration": 37,
    "start_time": "2025-05-13T17:05:49.267Z"
   },
   {
    "duration": 5,
    "start_time": "2025-05-13T17:05:49.390Z"
   },
   {
    "duration": 3,
    "start_time": "2025-05-13T17:05:49.552Z"
   },
   {
    "duration": 161823,
    "start_time": "2025-05-13T17:05:55.090Z"
   },
   {
    "duration": 59838,
    "start_time": "2025-05-13T17:15:43.904Z"
   },
   {
    "duration": 411521,
    "start_time": "2025-05-13T17:17:46.905Z"
   },
   {
    "duration": 6,
    "start_time": "2025-05-13T17:33:29.196Z"
   },
   {
    "duration": 12,
    "start_time": "2025-05-13T17:33:41.038Z"
   },
   {
    "duration": 5,
    "start_time": "2025-05-13T17:33:52.765Z"
   },
   {
    "duration": 9,
    "start_time": "2025-05-13T17:33:53.142Z"
   },
   {
    "duration": 5,
    "start_time": "2025-05-13T17:37:25.729Z"
   },
   {
    "duration": 6,
    "start_time": "2025-05-13T17:38:05.850Z"
   },
   {
    "duration": 8,
    "start_time": "2025-05-13T17:38:11.551Z"
   },
   {
    "duration": 175,
    "start_time": "2025-05-13T18:17:18.009Z"
   },
   {
    "duration": 3,
    "start_time": "2025-05-13T18:18:07.675Z"
   },
   {
    "duration": 18,
    "start_time": "2025-05-13T18:18:27.027Z"
   },
   {
    "duration": 4,
    "start_time": "2025-05-13T18:20:28.610Z"
   },
   {
    "duration": 5,
    "start_time": "2025-05-13T18:26:45.858Z"
   },
   {
    "duration": 4,
    "start_time": "2025-05-13T18:26:51.690Z"
   },
   {
    "duration": 64381,
    "start_time": "2025-05-13T18:26:52.924Z"
   },
   {
    "duration": 5,
    "start_time": "2025-05-13T18:27:57.307Z"
   },
   {
    "duration": 6,
    "start_time": "2025-05-13T18:28:50.290Z"
   },
   {
    "duration": 4,
    "start_time": "2025-05-13T18:28:53.323Z"
   },
   {
    "duration": 90667,
    "start_time": "2025-05-13T18:28:58.476Z"
   },
   {
    "duration": 374978,
    "start_time": "2025-05-13T18:30:29.145Z"
   },
   {
    "duration": 4,
    "start_time": "2025-05-13T18:36:57.426Z"
   },
   {
    "duration": 13,
    "start_time": "2025-05-13T18:37:00.412Z"
   },
   {
    "duration": 4,
    "start_time": "2025-05-13T18:37:35.042Z"
   },
   {
    "duration": 14,
    "start_time": "2025-05-13T18:37:47.714Z"
   },
   {
    "duration": 4,
    "start_time": "2025-05-13T18:37:58.805Z"
   },
   {
    "duration": 4,
    "start_time": "2025-05-13T18:39:31.064Z"
   },
   {
    "duration": 15,
    "start_time": "2025-05-13T18:39:58.813Z"
   },
   {
    "duration": 5,
    "start_time": "2025-05-13T18:40:42.683Z"
   },
   {
    "duration": 417484,
    "start_time": "2025-05-13T18:40:47.498Z"
   },
   {
    "duration": 12,
    "start_time": "2025-05-13T18:47:53.744Z"
   },
   {
    "duration": 31,
    "start_time": "2025-05-13T18:50:23.706Z"
   },
   {
    "duration": 10,
    "start_time": "2025-05-13T18:53:31.502Z"
   },
   {
    "duration": 5,
    "start_time": "2025-05-13T18:54:36.497Z"
   },
   {
    "duration": 18,
    "start_time": "2025-05-13T18:56:51.862Z"
   },
   {
    "duration": 4,
    "start_time": "2025-05-13T18:59:19.444Z"
   },
   {
    "duration": 3,
    "start_time": "2025-05-13T19:04:25.987Z"
   },
   {
    "duration": 13,
    "start_time": "2025-05-13T19:04:41.926Z"
   },
   {
    "duration": 5,
    "start_time": "2025-05-13T19:05:52.507Z"
   },
   {
    "duration": 4,
    "start_time": "2025-05-13T19:06:25.538Z"
   },
   {
    "duration": 5503,
    "start_time": "2025-05-13T19:06:56.037Z"
   },
   {
    "duration": 15545,
    "start_time": "2025-05-13T19:10:25.853Z"
   },
   {
    "duration": 7,
    "start_time": "2025-05-13T19:11:33.774Z"
   },
   {
    "duration": 67622,
    "start_time": "2025-05-13T19:11:40.396Z"
   },
   {
    "duration": 64014,
    "start_time": "2025-05-13T19:13:21.792Z"
   },
   {
    "duration": 5670,
    "start_time": "2025-05-13T19:15:42.550Z"
   },
   {
    "duration": 62241,
    "start_time": "2025-05-13T19:15:50.521Z"
   },
   {
    "duration": 74301,
    "start_time": "2025-05-13T19:17:01.183Z"
   },
   {
    "duration": 474056,
    "start_time": "2025-05-13T19:18:15.486Z"
   },
   {
    "duration": 4,
    "start_time": "2025-05-13T19:41:39.583Z"
   },
   {
    "duration": 5,
    "start_time": "2025-05-13T19:42:01.344Z"
   },
   {
    "duration": 13,
    "start_time": "2025-05-13T19:42:47.260Z"
   },
   {
    "duration": 5,
    "start_time": "2025-05-13T19:42:49.434Z"
   },
   {
    "duration": 6,
    "start_time": "2025-05-13T19:49:36.836Z"
   },
   {
    "duration": 6,
    "start_time": "2025-05-13T19:49:50.910Z"
   },
   {
    "duration": 6,
    "start_time": "2025-05-13T19:50:19.011Z"
   },
   {
    "duration": 6160,
    "start_time": "2025-05-13T20:14:52.847Z"
   },
   {
    "duration": 2131,
    "start_time": "2025-05-13T20:14:59.010Z"
   },
   {
    "duration": 190,
    "start_time": "2025-05-13T20:15:01.143Z"
   },
   {
    "duration": 1430,
    "start_time": "2025-05-13T20:15:01.335Z"
   },
   {
    "duration": 10,
    "start_time": "2025-05-13T20:15:02.767Z"
   },
   {
    "duration": 137,
    "start_time": "2025-05-13T20:15:02.779Z"
   },
   {
    "duration": 234,
    "start_time": "2025-05-13T20:15:02.918Z"
   },
   {
    "duration": 96,
    "start_time": "2025-05-13T20:15:03.154Z"
   },
   {
    "duration": 637508,
    "start_time": "2025-05-13T20:15:03.253Z"
   },
   {
    "duration": 8,
    "start_time": "2025-05-13T20:25:40.763Z"
   },
   {
    "duration": 384,
    "start_time": "2025-05-13T20:25:40.773Z"
   },
   {
    "duration": 183,
    "start_time": "2025-05-13T20:25:41.159Z"
   },
   {
    "duration": 26,
    "start_time": "2025-05-13T20:25:41.344Z"
   },
   {
    "duration": 3,
    "start_time": "2025-05-13T20:25:41.372Z"
   },
   {
    "duration": 73,
    "start_time": "2025-05-13T20:25:41.376Z"
   },
   {
    "duration": 12,
    "start_time": "2025-05-13T20:25:41.451Z"
   },
   {
    "duration": 13,
    "start_time": "2025-05-13T20:25:41.464Z"
   },
   {
    "duration": 82,
    "start_time": "2025-05-13T20:25:41.479Z"
   },
   {
    "duration": 6,
    "start_time": "2025-05-13T20:25:41.563Z"
   },
   {
    "duration": 180,
    "start_time": "2025-05-13T20:25:41.570Z"
   },
   {
    "duration": 8,
    "start_time": "2025-05-13T20:25:41.760Z"
   },
   {
    "duration": 6,
    "start_time": "2025-05-13T20:25:41.769Z"
   },
   {
    "duration": 6,
    "start_time": "2025-05-13T20:25:41.777Z"
   },
   {
    "duration": 18,
    "start_time": "2025-05-13T20:25:41.784Z"
   },
   {
    "duration": 19,
    "start_time": "2025-05-13T20:25:41.804Z"
   },
   {
    "duration": 249862,
    "start_time": "2025-05-13T20:25:41.825Z"
   },
   {
    "duration": 62572,
    "start_time": "2025-05-13T20:29:51.689Z"
   },
   {
    "duration": 434119,
    "start_time": "2025-05-13T20:30:54.265Z"
   },
   {
    "duration": 6,
    "start_time": "2025-05-13T20:38:08.385Z"
   },
   {
    "duration": 65,
    "start_time": "2025-05-13T20:38:08.392Z"
   },
   {
    "duration": 77,
    "start_time": "2025-05-13T20:38:08.459Z"
   },
   {
    "duration": 55,
    "start_time": "2025-05-13T20:38:08.538Z"
   },
   {
    "duration": 49,
    "start_time": "2025-05-13T20:38:08.595Z"
   },
   {
    "duration": 51,
    "start_time": "2025-05-13T20:38:08.646Z"
   },
   {
    "duration": 32,
    "start_time": "2025-05-13T20:38:08.699Z"
   },
   {
    "duration": 190149,
    "start_time": "2025-05-13T20:38:08.733Z"
   },
   {
    "duration": 1582565,
    "start_time": "2025-05-13T20:41:18.884Z"
   },
   {
    "duration": 2144307,
    "start_time": "2025-05-13T21:07:41.452Z"
   },
   {
    "duration": 226258,
    "start_time": "2025-05-13T21:43:47.960Z"
   },
   {
    "duration": 7110,
    "start_time": "2025-05-13T21:49:00.043Z"
   },
   {
    "duration": 2145,
    "start_time": "2025-05-13T21:49:07.155Z"
   },
   {
    "duration": 257,
    "start_time": "2025-05-13T21:49:09.302Z"
   },
   {
    "duration": 1034,
    "start_time": "2025-05-13T21:49:09.562Z"
   },
   {
    "duration": 11,
    "start_time": "2025-05-13T21:49:10.598Z"
   },
   {
    "duration": 151,
    "start_time": "2025-05-13T21:49:10.611Z"
   },
   {
    "duration": 20,
    "start_time": "2025-05-13T21:49:10.763Z"
   },
   {
    "duration": 9,
    "start_time": "2025-05-13T21:49:10.785Z"
   },
   {
    "duration": 674104,
    "start_time": "2025-05-13T21:49:10.795Z"
   },
   {
    "duration": 9,
    "start_time": "2025-05-13T22:00:24.900Z"
   },
   {
    "duration": 57,
    "start_time": "2025-05-13T22:00:24.910Z"
   },
   {
    "duration": 197,
    "start_time": "2025-05-13T22:00:24.971Z"
   },
   {
    "duration": 38,
    "start_time": "2025-05-13T22:00:25.170Z"
   },
   {
    "duration": 3,
    "start_time": "2025-05-13T22:00:25.212Z"
   },
   {
    "duration": 91,
    "start_time": "2025-05-13T22:00:25.217Z"
   },
   {
    "duration": 172,
    "start_time": "2025-05-13T22:00:25.310Z"
   },
   {
    "duration": 224,
    "start_time": "2025-05-13T22:00:25.484Z"
   },
   {
    "duration": 72,
    "start_time": "2025-05-13T22:00:25.710Z"
   },
   {
    "duration": 5,
    "start_time": "2025-05-13T22:00:25.784Z"
   },
   {
    "duration": 37,
    "start_time": "2025-05-13T22:00:25.791Z"
   },
   {
    "duration": 8,
    "start_time": "2025-05-13T22:00:25.829Z"
   },
   {
    "duration": 11,
    "start_time": "2025-05-13T22:00:25.839Z"
   },
   {
    "duration": 17,
    "start_time": "2025-05-13T22:00:25.852Z"
   },
   {
    "duration": 17,
    "start_time": "2025-05-13T22:00:25.872Z"
   },
   {
    "duration": 10,
    "start_time": "2025-05-13T22:00:25.890Z"
   },
   {
    "duration": 208035,
    "start_time": "2025-05-13T22:00:25.901Z"
   },
   {
    "duration": 96311,
    "start_time": "2025-05-13T22:03:53.938Z"
   },
   {
    "duration": 424549,
    "start_time": "2025-05-13T22:05:30.250Z"
   },
   {
    "duration": 6,
    "start_time": "2025-05-13T22:12:34.801Z"
   },
   {
    "duration": 23,
    "start_time": "2025-05-13T22:12:34.809Z"
   },
   {
    "duration": 21,
    "start_time": "2025-05-13T22:12:34.834Z"
   },
   {
    "duration": 22,
    "start_time": "2025-05-13T22:12:34.857Z"
   },
   {
    "duration": 3,
    "start_time": "2025-05-13T22:12:34.881Z"
   },
   {
    "duration": 27,
    "start_time": "2025-05-13T22:12:34.885Z"
   },
   {
    "duration": 28,
    "start_time": "2025-05-13T22:12:34.913Z"
   },
   {
    "duration": 95754,
    "start_time": "2025-05-13T22:12:34.943Z"
   },
   {
    "duration": 1482755,
    "start_time": "2025-05-13T22:14:10.698Z"
   },
   {
    "duration": 0,
    "start_time": "2025-05-13T22:38:53.455Z"
   },
   {
    "duration": 0,
    "start_time": "2025-05-13T22:38:53.457Z"
   },
   {
    "duration": 0,
    "start_time": "2025-05-13T22:38:53.458Z"
   },
   {
    "duration": 5,
    "start_time": "2025-05-13T22:41:43.178Z"
   },
   {
    "duration": 8,
    "start_time": "2025-05-13T22:42:43.497Z"
   },
   {
    "duration": 6,
    "start_time": "2025-05-13T22:44:11.994Z"
   },
   {
    "duration": 5820,
    "start_time": "2025-05-13T22:44:18.443Z"
   },
   {
    "duration": 5,
    "start_time": "2025-05-13T22:46:34.322Z"
   },
   {
    "duration": 54264,
    "start_time": "2025-05-13T22:46:38.804Z"
   },
   {
    "duration": 5,
    "start_time": "2025-05-13T22:48:19.808Z"
   },
   {
    "duration": 6,
    "start_time": "2025-05-13T22:48:37.905Z"
   },
   {
    "duration": 5,
    "start_time": "2025-05-13T22:48:42.121Z"
   },
   {
    "duration": 3,
    "start_time": "2025-05-13T22:50:16.326Z"
   },
   {
    "duration": 5,
    "start_time": "2025-05-13T22:50:17.085Z"
   },
   {
    "duration": 16,
    "start_time": "2025-05-13T22:50:18.762Z"
   },
   {
    "duration": 11,
    "start_time": "2025-05-13T22:50:41.703Z"
   },
   {
    "duration": 6231,
    "start_time": "2025-05-13T22:50:51.623Z"
   },
   {
    "duration": 291779,
    "start_time": "2025-05-13T22:51:03.913Z"
   },
   {
    "duration": 15210,
    "start_time": "2025-05-13T22:55:55.695Z"
   },
   {
    "duration": 0,
    "start_time": "2025-05-13T22:56:10.924Z"
   },
   {
    "duration": 6,
    "start_time": "2025-05-13T22:56:15.939Z"
   },
   {
    "duration": 7,
    "start_time": "2025-05-13T22:56:47.378Z"
   },
   {
    "duration": 843,
    "start_time": "2025-05-13T22:58:28.892Z"
   },
   {
    "duration": 11,
    "start_time": "2025-05-13T22:58:33.210Z"
   },
   {
    "duration": 12,
    "start_time": "2025-05-13T22:59:17.234Z"
   },
   {
    "duration": 6262,
    "start_time": "2025-05-13T23:10:05.030Z"
   },
   {
    "duration": 1931,
    "start_time": "2025-05-13T23:10:11.295Z"
   },
   {
    "duration": 277,
    "start_time": "2025-05-13T23:10:13.228Z"
   },
   {
    "duration": 931,
    "start_time": "2025-05-13T23:10:13.508Z"
   },
   {
    "duration": 20,
    "start_time": "2025-05-13T23:10:14.441Z"
   },
   {
    "duration": 115,
    "start_time": "2025-05-13T23:10:14.463Z"
   },
   {
    "duration": 19,
    "start_time": "2025-05-13T23:10:14.579Z"
   },
   {
    "duration": 6,
    "start_time": "2025-05-13T23:10:14.600Z"
   },
   {
    "duration": 624643,
    "start_time": "2025-05-13T23:10:14.608Z"
   },
   {
    "duration": 8,
    "start_time": "2025-05-13T23:20:39.262Z"
   },
   {
    "duration": 9,
    "start_time": "2025-05-13T23:20:39.272Z"
   },
   {
    "duration": 193,
    "start_time": "2025-05-13T23:20:39.283Z"
   },
   {
    "duration": 48,
    "start_time": "2025-05-13T23:20:39.478Z"
   },
   {
    "duration": 3,
    "start_time": "2025-05-13T23:20:39.530Z"
   },
   {
    "duration": 75,
    "start_time": "2025-05-13T23:20:39.535Z"
   },
   {
    "duration": 174,
    "start_time": "2025-05-13T23:20:39.612Z"
   },
   {
    "duration": 42,
    "start_time": "2025-05-13T23:20:39.788Z"
   },
   {
    "duration": 80,
    "start_time": "2025-05-13T23:20:39.831Z"
   },
   {
    "duration": 5,
    "start_time": "2025-05-13T23:20:39.913Z"
   },
   {
    "duration": 331,
    "start_time": "2025-05-13T23:20:39.919Z"
   },
   {
    "duration": 66,
    "start_time": "2025-05-13T23:20:40.252Z"
   },
   {
    "duration": 7,
    "start_time": "2025-05-13T23:20:40.320Z"
   },
   {
    "duration": 10,
    "start_time": "2025-05-13T23:20:40.328Z"
   },
   {
    "duration": 31,
    "start_time": "2025-05-13T23:20:40.339Z"
   },
   {
    "duration": 7,
    "start_time": "2025-05-13T23:20:40.372Z"
   },
   {
    "duration": 242793,
    "start_time": "2025-05-13T23:20:40.381Z"
   },
   {
    "duration": 85587,
    "start_time": "2025-05-13T23:24:43.177Z"
   },
   {
    "duration": 46359,
    "start_time": "2025-05-13T23:26:08.765Z"
   },
   {
    "duration": 5,
    "start_time": "2025-05-13T23:26:55.126Z"
   },
   {
    "duration": 25,
    "start_time": "2025-05-13T23:26:55.133Z"
   },
   {
    "duration": 11,
    "start_time": "2025-05-13T23:26:55.159Z"
   },
   {
    "duration": 15,
    "start_time": "2025-05-13T23:26:55.172Z"
   },
   {
    "duration": 15,
    "start_time": "2025-05-13T23:26:55.189Z"
   },
   {
    "duration": 6,
    "start_time": "2025-05-13T23:26:55.206Z"
   },
   {
    "duration": 15,
    "start_time": "2025-05-13T23:26:55.214Z"
   },
   {
    "duration": 21666,
    "start_time": "2025-05-13T23:26:55.231Z"
   },
   {
    "duration": 6984,
    "start_time": "2025-05-13T23:27:16.899Z"
   },
   {
    "duration": 49346,
    "start_time": "2025-05-13T23:27:23.884Z"
   },
   {
    "duration": 17351,
    "start_time": "2025-05-13T23:28:13.232Z"
   },
   {
    "duration": 6,
    "start_time": "2025-05-13T23:28:30.586Z"
   },
   {
    "duration": 1813,
    "start_time": "2025-05-13T23:28:30.596Z"
   },
   {
    "duration": 12,
    "start_time": "2025-05-13T23:28:32.411Z"
   },
   {
    "duration": 821,
    "start_time": "2025-05-13T23:31:49.108Z"
   },
   {
    "duration": 12,
    "start_time": "2025-05-13T23:32:17.933Z"
   },
   {
    "duration": 41,
    "start_time": "2025-05-13T23:32:53.140Z"
   },
   {
    "duration": 3,
    "start_time": "2025-05-13T23:33:32.166Z"
   },
   {
    "duration": 800,
    "start_time": "2025-05-13T23:33:40.087Z"
   },
   {
    "duration": 143,
    "start_time": "2025-05-13T23:33:41.535Z"
   },
   {
    "duration": 10,
    "start_time": "2025-05-13T23:33:48.361Z"
   },
   {
    "duration": 11639,
    "start_time": "2025-07-24T18:06:03.019Z"
   },
   {
    "duration": 2022,
    "start_time": "2025-07-24T18:06:14.661Z"
   },
   {
    "duration": 908,
    "start_time": "2025-07-24T18:06:16.685Z"
   },
   {
    "duration": 1080,
    "start_time": "2025-07-24T18:06:17.596Z"
   },
   {
    "duration": 9,
    "start_time": "2025-07-24T18:06:18.677Z"
   },
   {
    "duration": 48,
    "start_time": "2025-07-24T18:06:18.688Z"
   },
   {
    "duration": 4,
    "start_time": "2025-07-24T18:06:18.738Z"
   },
   {
    "duration": 14,
    "start_time": "2025-07-24T18:06:18.744Z"
   },
   {
    "duration": 591478,
    "start_time": "2025-07-24T18:06:18.760Z"
   },
   {
    "duration": 7,
    "start_time": "2025-07-24T18:16:10.241Z"
   },
   {
    "duration": 5,
    "start_time": "2025-07-24T18:16:10.250Z"
   },
   {
    "duration": 189,
    "start_time": "2025-07-24T18:16:10.257Z"
   },
   {
    "duration": 9,
    "start_time": "2025-07-24T18:16:10.448Z"
   },
   {
    "duration": 23,
    "start_time": "2025-07-24T18:16:10.458Z"
   },
   {
    "duration": 131,
    "start_time": "2025-07-24T18:16:10.483Z"
   },
   {
    "duration": 5,
    "start_time": "2025-07-24T18:16:10.616Z"
   },
   {
    "duration": 22,
    "start_time": "2025-07-24T18:16:10.622Z"
   },
   {
    "duration": 65,
    "start_time": "2025-07-24T18:16:10.646Z"
   },
   {
    "duration": 4,
    "start_time": "2025-07-24T18:16:10.713Z"
   },
   {
    "duration": 173,
    "start_time": "2025-07-24T18:16:10.719Z"
   },
   {
    "duration": 3,
    "start_time": "2025-07-24T18:16:10.894Z"
   },
   {
    "duration": 6,
    "start_time": "2025-07-24T18:16:10.898Z"
   },
   {
    "duration": 6,
    "start_time": "2025-07-24T18:16:10.905Z"
   },
   {
    "duration": 13,
    "start_time": "2025-07-24T18:16:10.913Z"
   },
   {
    "duration": 12,
    "start_time": "2025-07-24T18:16:10.928Z"
   },
   {
    "duration": 136315,
    "start_time": "2025-07-24T18:16:10.942Z"
   },
   {
    "duration": 63684,
    "start_time": "2025-07-24T18:18:27.259Z"
   },
   {
    "duration": 68460,
    "start_time": "2025-07-24T18:19:30.947Z"
   },
   {
    "duration": 6,
    "start_time": "2025-07-24T18:20:39.408Z"
   },
   {
    "duration": 4,
    "start_time": "2025-07-24T18:20:39.415Z"
   },
   {
    "duration": 7,
    "start_time": "2025-07-24T18:20:39.421Z"
   },
   {
    "duration": 15,
    "start_time": "2025-07-24T18:20:39.429Z"
   },
   {
    "duration": 32,
    "start_time": "2025-07-24T18:20:39.446Z"
   },
   {
    "duration": 8,
    "start_time": "2025-07-24T18:20:39.479Z"
   },
   {
    "duration": 28,
    "start_time": "2025-07-24T18:20:39.488Z"
   },
   {
    "duration": 934485,
    "start_time": "2025-07-24T18:20:39.518Z"
   },
   {
    "duration": 0,
    "start_time": "2025-07-24T18:36:14.005Z"
   },
   {
    "duration": 0,
    "start_time": "2025-07-24T18:36:14.006Z"
   },
   {
    "duration": 0,
    "start_time": "2025-07-24T18:36:14.007Z"
   },
   {
    "duration": 0,
    "start_time": "2025-07-24T18:36:14.008Z"
   },
   {
    "duration": 0,
    "start_time": "2025-07-24T18:36:14.010Z"
   },
   {
    "duration": 0,
    "start_time": "2025-07-24T18:36:14.010Z"
   },
   {
    "duration": 6185,
    "start_time": "2025-07-24T18:56:36.226Z"
   },
   {
    "duration": 1955,
    "start_time": "2025-07-24T18:56:42.413Z"
   },
   {
    "duration": 267,
    "start_time": "2025-07-24T18:56:44.370Z"
   },
   {
    "duration": 902,
    "start_time": "2025-07-24T18:56:44.640Z"
   },
   {
    "duration": 10,
    "start_time": "2025-07-24T18:56:45.544Z"
   },
   {
    "duration": 108,
    "start_time": "2025-07-24T18:56:45.556Z"
   },
   {
    "duration": 12,
    "start_time": "2025-07-24T18:56:45.666Z"
   },
   {
    "duration": 24,
    "start_time": "2025-07-24T18:56:45.680Z"
   },
   {
    "duration": 592861,
    "start_time": "2025-07-24T18:56:45.705Z"
   },
   {
    "duration": 16,
    "start_time": "2025-07-24T19:06:38.576Z"
   },
   {
    "duration": 3,
    "start_time": "2025-07-24T19:06:38.594Z"
   },
   {
    "duration": 182,
    "start_time": "2025-07-24T19:06:38.598Z"
   },
   {
    "duration": 16,
    "start_time": "2025-07-24T19:06:38.782Z"
   },
   {
    "duration": 3,
    "start_time": "2025-07-24T19:06:38.799Z"
   },
   {
    "duration": 87,
    "start_time": "2025-07-24T19:06:38.804Z"
   },
   {
    "duration": 4,
    "start_time": "2025-07-24T19:06:38.893Z"
   },
   {
    "duration": 17,
    "start_time": "2025-07-24T19:06:38.899Z"
   },
   {
    "duration": 79,
    "start_time": "2025-07-24T19:06:38.918Z"
   },
   {
    "duration": 4,
    "start_time": "2025-07-24T19:06:38.999Z"
   },
   {
    "duration": 194,
    "start_time": "2025-07-24T19:06:39.004Z"
   },
   {
    "duration": 3,
    "start_time": "2025-07-24T19:06:39.200Z"
   },
   {
    "duration": 6,
    "start_time": "2025-07-24T19:06:39.204Z"
   },
   {
    "duration": 7,
    "start_time": "2025-07-24T19:06:39.212Z"
   },
   {
    "duration": 20,
    "start_time": "2025-07-24T19:06:39.220Z"
   },
   {
    "duration": 3,
    "start_time": "2025-07-24T19:06:39.242Z"
   },
   {
    "duration": 42804,
    "start_time": "2025-07-24T19:06:39.246Z"
   },
   {
    "duration": 95075,
    "start_time": "2025-07-24T19:07:22.053Z"
   },
   {
    "duration": 48450,
    "start_time": "2025-07-24T19:08:57.131Z"
   },
   {
    "duration": 11,
    "start_time": "2025-07-24T19:09:45.583Z"
   },
   {
    "duration": 117,
    "start_time": "2025-07-24T19:09:45.596Z"
   },
   {
    "duration": 22,
    "start_time": "2025-07-24T19:09:45.715Z"
   },
   {
    "duration": 68,
    "start_time": "2025-07-24T19:09:45.739Z"
   },
   {
    "duration": 143,
    "start_time": "2025-07-24T19:09:45.809Z"
   },
   {
    "duration": 37,
    "start_time": "2025-07-24T19:09:45.954Z"
   },
   {
    "duration": 29,
    "start_time": "2025-07-24T19:09:45.993Z"
   },
   {
    "duration": 5678,
    "start_time": "2025-07-24T19:09:46.024Z"
   },
   {
    "duration": 5275,
    "start_time": "2025-07-24T19:09:51.705Z"
   },
   {
    "duration": 14563,
    "start_time": "2025-07-24T19:09:56.982Z"
   },
   {
    "duration": 13210,
    "start_time": "2025-07-24T19:10:11.546Z"
   },
   {
    "duration": 6,
    "start_time": "2025-07-24T19:10:24.758Z"
   },
   {
    "duration": 887,
    "start_time": "2025-07-24T19:10:24.766Z"
   },
   {
    "duration": 12,
    "start_time": "2025-07-24T19:10:25.655Z"
   }
  ],
  "kernelspec": {
   "display_name": "Python 3 (ipykernel)",
   "language": "python",
   "name": "python3"
  },
  "language_info": {
   "codemirror_mode": {
    "name": "ipython",
    "version": 3
   },
   "file_extension": ".py",
   "mimetype": "text/x-python",
   "name": "python",
   "nbconvert_exporter": "python",
   "pygments_lexer": "ipython3",
   "version": "3.9.5"
  },
  "toc": {
   "base_numbering": 1,
   "nav_menu": {},
   "number_sections": true,
   "sideBar": true,
   "skip_h1_title": true,
   "title_cell": "Содержание",
   "title_sidebar": "Contents",
   "toc_cell": true,
   "toc_position": {
    "height": "calc(100% - 180px)",
    "left": "10px",
    "top": "150px",
    "width": "302.391px"
   },
   "toc_section_display": true,
   "toc_window_display": false
  }
 },
 "nbformat": 4,
 "nbformat_minor": 2
}
